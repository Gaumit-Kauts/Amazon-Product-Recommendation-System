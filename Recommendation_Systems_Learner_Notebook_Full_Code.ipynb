{
  "cells": [
    {
      "cell_type": "markdown",
      "metadata": {
        "id": "view-in-github",
        "colab_type": "text"
      },
      "source": [
        "<a href=\"https://colab.research.google.com/github/Gaumit-Kauts/Amazon-Product-Recommendation-System/blob/main/Recommendation_Systems_Learner_Notebook_Full_Code.ipynb\" target=\"_parent\"><img src=\"https://colab.research.google.com/assets/colab-badge.svg\" alt=\"Open In Colab\"/></a>"
      ]
    },
    {
      "cell_type": "markdown",
      "metadata": {
        "id": "pXQzH0nC5JtP"
      },
      "source": [
        "# **Project: Amazon Product Recommendation System**\n",
        "\n",
        "\n",
        "\n",
        "Welcome to the project on Recommendation Systems. We will work with the Amazon product reviews dataset for this project. The dataset contains ratings of different electronic products. It does not include information about the products or reviews to avoid bias while building the model.\n",
        "\n",
        "--------------\n",
        "## **Context:**\n",
        "--------------\n",
        "\n",
        "Today, information is growing exponentially with volume, velocity and variety throughout the globe. This has lead to information overload, and too many choices for the consumer of any business. It represents a real dilemma for these consumers and they often turn to denial. Recommender Systems are one of the best tools that help recommending products to consumers while they are browsing online. Providing personalized recommendations which is most relevant for the user is what's most likely to keep them engaged and help business.\n",
        "\n",
        "E-commerce websites like Amazon, Walmart, Target and Etsy use different recommendation models to provide personalized suggestions to different users. These companies spend millions of dollars to come up with algorithmic techniques that can provide personalized recommendations to their users.\n",
        "\n",
        "Amazon, for example, is well-known for its accurate selection of recommendations in its online site. Amazon's recommendation system is capable of intelligently analyzing and predicting customers' shopping preferences in order to offer them a list of recommended products. Amazon's recommendation algorithm is therefore a key element in using AI to improve the personalization of its website. For example, one of the baseline recommendation models that Amazon uses is item-to-item collaborative filtering, which scales to massive data sets and produces high-quality recommendations in real-time.\n",
        "\n",
        "----------------\n",
        "## **Objective:**\n",
        "----------------\n",
        "\n",
        "You are a Data Science Manager at Amazon, and have been given the task of building a recommendation system to recommend products to customers based on their previous ratings for other products. You have a collection of labeled data of Amazon reviews of products. The goal is to extract meaningful insights from the data and build a recommendation system that helps in recommending products to online consumers.\n",
        "\n",
        "-----------------------------\n",
        "## **Dataset:**\n",
        "-----------------------------\n",
        "\n",
        "The Amazon dataset contains the following attributes:\n",
        "\n",
        "- **userId:** Every user identified with a unique id\n",
        "- **productId:** Every product identified with a unique id\n",
        "- **Rating:** The rating of the corresponding product by the corresponding user\n",
        "- **timestamp:** Time of the rating. We **will not use this column** to solve the current problem"
      ]
    },
    {
      "cell_type": "markdown",
      "metadata": {
        "id": "nmdPxJ2Q7W7p"
      },
      "source": [
        "**Note:** The code has some user defined functions that will be usefull while making recommendations and measure model performance, you can use these functions or can create your own functions."
      ]
    },
    {
      "cell_type": "markdown",
      "metadata": {
        "id": "UoRfgjS2yekq"
      },
      "source": [
        "Sometimes, the installation of the surprise library, which is used to build recommendation systems, faces issues in Jupyter. To avoid any issues, it is advised to use **Google Colab** for this project.\n",
        "\n",
        "Let's start by mounting the Google drive on Colab."
      ]
    },
    {
      "cell_type": "code",
      "execution_count": null,
      "metadata": {
        "id": "GZ0YAszcT4zK",
        "colab": {
          "base_uri": "https://localhost:8080/"
        },
        "outputId": "1f3ecf99-462d-47fd-9a6b-7429671800f4"
      },
      "outputs": [
        {
          "output_type": "stream",
          "name": "stdout",
          "text": [
            "Drive already mounted at /content/drive; to attempt to forcibly remount, call drive.mount(\"/content/drive\", force_remount=True).\n"
          ]
        }
      ],
      "source": [
        "# Mounting the drive\n",
        "from google.colab import drive\n",
        "drive.mount('/content/drive')\n",
        "\n",
        "import os\n",
        "os.chdir(\"/content/drive/MyDrive\")"
      ]
    },
    {
      "cell_type": "markdown",
      "metadata": {
        "id": "0Ibk07-Cyekt"
      },
      "source": [
        "**Installing surprise library**"
      ]
    },
    {
      "cell_type": "code",
      "source": [
        "!pip install surprise"
      ],
      "metadata": {
        "colab": {
          "base_uri": "https://localhost:8080/"
        },
        "id": "8JS9k1_GWy3Z",
        "outputId": "6799e00c-c78b-4b47-de11-336e3f838f06"
      },
      "execution_count": null,
      "outputs": [
        {
          "output_type": "stream",
          "name": "stdout",
          "text": [
            "Requirement already satisfied: surprise in /usr/local/lib/python3.10/dist-packages (0.1)\n",
            "Requirement already satisfied: scikit-surprise in /usr/local/lib/python3.10/dist-packages (from surprise) (1.1.4)\n",
            "Requirement already satisfied: joblib>=1.2.0 in /usr/local/lib/python3.10/dist-packages (from scikit-surprise->surprise) (1.4.2)\n",
            "Requirement already satisfied: numpy>=1.19.5 in /usr/local/lib/python3.10/dist-packages (from scikit-surprise->surprise) (1.26.4)\n",
            "Requirement already satisfied: scipy>=1.6.0 in /usr/local/lib/python3.10/dist-packages (from scikit-surprise->surprise) (1.13.1)\n"
          ]
        }
      ]
    },
    {
      "cell_type": "markdown",
      "metadata": {
        "id": "7fIt4jcFIm76"
      },
      "source": [
        "## **Importing the necessary libraries and overview of the dataset**"
      ]
    },
    {
      "cell_type": "code",
      "execution_count": null,
      "metadata": {
        "id": "05HQoiZYlsbB"
      },
      "outputs": [],
      "source": [
        "# Used to ignore the warning given as output of the code\n",
        "import warnings\n",
        "warnings.filterwarnings('ignore')\n",
        "\n",
        "# Basic libraries of python for numeric and dataframe computations\n",
        "import numpy as np, pandas as pd\n",
        "\n",
        "# Basic library for data visualization\n",
        "import matplotlib.pyplot as plt\n",
        "\n",
        "# Slightly advanced library for data visualization\n",
        "import seaborn as sns\n",
        "\n",
        "# A dictionary output that does not raise a key error\n",
        "from collections import defaultdict\n",
        "\n",
        "# A performance metrics in sklearn\n",
        "from sklearn.metrics import mean_squared_error"
      ]
    },
    {
      "cell_type": "markdown",
      "metadata": {
        "id": "NrXYJAv95JtP"
      },
      "source": [
        "### **Loading the data**\n",
        "- Import the Dataset\n",
        "- Add column names ['user_id', 'prod_id', 'rating', 'timestamp']\n",
        "- Drop the column timestamp\n",
        "- Copy the data to another DataFrame called **df**"
      ]
    },
    {
      "cell_type": "code",
      "execution_count": null,
      "metadata": {
        "id": "jzu2P-TT5JtP"
      },
      "outputs": [],
      "source": [
        "df = pd.read_csv('/content/drive/MyDrive/MIT/Recommendation_System/ratings_Electronics.csv',header= None)"
      ]
    },
    {
      "cell_type": "code",
      "execution_count": null,
      "metadata": {
        "id": "JGb-Hk1B5JtP",
        "colab": {
          "base_uri": "https://localhost:8080/"
        },
        "outputId": "aa6a8e4e-3690-4a00-d1e2-b3c0092de552"
      },
      "outputs": [
        {
          "output_type": "stream",
          "name": "stdout",
          "text": [
            "<class 'pandas.core.frame.DataFrame'>\n",
            "RangeIndex: 7824482 entries, 0 to 7824481\n",
            "Data columns (total 4 columns):\n",
            " #   Column  Dtype  \n",
            "---  ------  -----  \n",
            " 0   0       object \n",
            " 1   1       object \n",
            " 2   2       float64\n",
            " 3   3       int64  \n",
            "dtypes: float64(1), int64(1), object(2)\n",
            "memory usage: 238.8+ MB\n"
          ]
        }
      ],
      "source": [
        "df.info()"
      ]
    },
    {
      "cell_type": "code",
      "source": [
        "df.head()"
      ],
      "metadata": {
        "colab": {
          "base_uri": "https://localhost:8080/",
          "height": 223
        },
        "id": "diTmI8BMXX3D",
        "outputId": "eb349681-5c02-450e-9a73-f7909ad7a99a"
      },
      "execution_count": null,
      "outputs": [
        {
          "output_type": "execute_result",
          "data": {
            "text/plain": [
              "                0           1    2           3\n",
              "0   AKM1MP6P0OYPR  0132793040  5.0  1365811200\n",
              "1  A2CX7LUOHB2NDG  0321732944  5.0  1341100800\n",
              "2  A2NWSAGRHCP8N5  0439886341  1.0  1367193600\n",
              "3  A2WNBOD3WNDNKT  0439886341  3.0  1374451200\n",
              "4  A1GI0U4ZRJA8WN  0439886341  1.0  1334707200"
            ],
            "text/html": [
              "\n",
              "  <div id=\"df-4ac1ff93-7466-4a28-b900-716c09286f73\" class=\"colab-df-container\">\n",
              "    <div>\n",
              "<style scoped>\n",
              "    .dataframe tbody tr th:only-of-type {\n",
              "        vertical-align: middle;\n",
              "    }\n",
              "\n",
              "    .dataframe tbody tr th {\n",
              "        vertical-align: top;\n",
              "    }\n",
              "\n",
              "    .dataframe thead th {\n",
              "        text-align: right;\n",
              "    }\n",
              "</style>\n",
              "<table border=\"1\" class=\"dataframe\">\n",
              "  <thead>\n",
              "    <tr style=\"text-align: right;\">\n",
              "      <th></th>\n",
              "      <th>0</th>\n",
              "      <th>1</th>\n",
              "      <th>2</th>\n",
              "      <th>3</th>\n",
              "    </tr>\n",
              "  </thead>\n",
              "  <tbody>\n",
              "    <tr>\n",
              "      <th>0</th>\n",
              "      <td>AKM1MP6P0OYPR</td>\n",
              "      <td>0132793040</td>\n",
              "      <td>5.0</td>\n",
              "      <td>1365811200</td>\n",
              "    </tr>\n",
              "    <tr>\n",
              "      <th>1</th>\n",
              "      <td>A2CX7LUOHB2NDG</td>\n",
              "      <td>0321732944</td>\n",
              "      <td>5.0</td>\n",
              "      <td>1341100800</td>\n",
              "    </tr>\n",
              "    <tr>\n",
              "      <th>2</th>\n",
              "      <td>A2NWSAGRHCP8N5</td>\n",
              "      <td>0439886341</td>\n",
              "      <td>1.0</td>\n",
              "      <td>1367193600</td>\n",
              "    </tr>\n",
              "    <tr>\n",
              "      <th>3</th>\n",
              "      <td>A2WNBOD3WNDNKT</td>\n",
              "      <td>0439886341</td>\n",
              "      <td>3.0</td>\n",
              "      <td>1374451200</td>\n",
              "    </tr>\n",
              "    <tr>\n",
              "      <th>4</th>\n",
              "      <td>A1GI0U4ZRJA8WN</td>\n",
              "      <td>0439886341</td>\n",
              "      <td>1.0</td>\n",
              "      <td>1334707200</td>\n",
              "    </tr>\n",
              "  </tbody>\n",
              "</table>\n",
              "</div>\n",
              "    <div class=\"colab-df-buttons\">\n",
              "\n",
              "  <div class=\"colab-df-container\">\n",
              "    <button class=\"colab-df-convert\" onclick=\"convertToInteractive('df-4ac1ff93-7466-4a28-b900-716c09286f73')\"\n",
              "            title=\"Convert this dataframe to an interactive table.\"\n",
              "            style=\"display:none;\">\n",
              "\n",
              "  <svg xmlns=\"http://www.w3.org/2000/svg\" height=\"24px\" viewBox=\"0 -960 960 960\">\n",
              "    <path d=\"M120-120v-720h720v720H120Zm60-500h600v-160H180v160Zm220 220h160v-160H400v160Zm0 220h160v-160H400v160ZM180-400h160v-160H180v160Zm440 0h160v-160H620v160ZM180-180h160v-160H180v160Zm440 0h160v-160H620v160Z\"/>\n",
              "  </svg>\n",
              "    </button>\n",
              "\n",
              "  <style>\n",
              "    .colab-df-container {\n",
              "      display:flex;\n",
              "      gap: 12px;\n",
              "    }\n",
              "\n",
              "    .colab-df-convert {\n",
              "      background-color: #E8F0FE;\n",
              "      border: none;\n",
              "      border-radius: 50%;\n",
              "      cursor: pointer;\n",
              "      display: none;\n",
              "      fill: #1967D2;\n",
              "      height: 32px;\n",
              "      padding: 0 0 0 0;\n",
              "      width: 32px;\n",
              "    }\n",
              "\n",
              "    .colab-df-convert:hover {\n",
              "      background-color: #E2EBFA;\n",
              "      box-shadow: 0px 1px 2px rgba(60, 64, 67, 0.3), 0px 1px 3px 1px rgba(60, 64, 67, 0.15);\n",
              "      fill: #174EA6;\n",
              "    }\n",
              "\n",
              "    .colab-df-buttons div {\n",
              "      margin-bottom: 4px;\n",
              "    }\n",
              "\n",
              "    [theme=dark] .colab-df-convert {\n",
              "      background-color: #3B4455;\n",
              "      fill: #D2E3FC;\n",
              "    }\n",
              "\n",
              "    [theme=dark] .colab-df-convert:hover {\n",
              "      background-color: #434B5C;\n",
              "      box-shadow: 0px 1px 3px 1px rgba(0, 0, 0, 0.15);\n",
              "      filter: drop-shadow(0px 1px 2px rgba(0, 0, 0, 0.3));\n",
              "      fill: #FFFFFF;\n",
              "    }\n",
              "  </style>\n",
              "\n",
              "    <script>\n",
              "      const buttonEl =\n",
              "        document.querySelector('#df-4ac1ff93-7466-4a28-b900-716c09286f73 button.colab-df-convert');\n",
              "      buttonEl.style.display =\n",
              "        google.colab.kernel.accessAllowed ? 'block' : 'none';\n",
              "\n",
              "      async function convertToInteractive(key) {\n",
              "        const element = document.querySelector('#df-4ac1ff93-7466-4a28-b900-716c09286f73');\n",
              "        const dataTable =\n",
              "          await google.colab.kernel.invokeFunction('convertToInteractive',\n",
              "                                                    [key], {});\n",
              "        if (!dataTable) return;\n",
              "\n",
              "        const docLinkHtml = 'Like what you see? Visit the ' +\n",
              "          '<a target=\"_blank\" href=https://colab.research.google.com/notebooks/data_table.ipynb>data table notebook</a>'\n",
              "          + ' to learn more about interactive tables.';\n",
              "        element.innerHTML = '';\n",
              "        dataTable['output_type'] = 'display_data';\n",
              "        await google.colab.output.renderOutput(dataTable, element);\n",
              "        const docLink = document.createElement('div');\n",
              "        docLink.innerHTML = docLinkHtml;\n",
              "        element.appendChild(docLink);\n",
              "      }\n",
              "    </script>\n",
              "  </div>\n",
              "\n",
              "\n",
              "<div id=\"df-6d5a097b-b73f-478f-a0da-f18dfb47d043\">\n",
              "  <button class=\"colab-df-quickchart\" onclick=\"quickchart('df-6d5a097b-b73f-478f-a0da-f18dfb47d043')\"\n",
              "            title=\"Suggest charts\"\n",
              "            style=\"display:none;\">\n",
              "\n",
              "<svg xmlns=\"http://www.w3.org/2000/svg\" height=\"24px\"viewBox=\"0 0 24 24\"\n",
              "     width=\"24px\">\n",
              "    <g>\n",
              "        <path d=\"M19 3H5c-1.1 0-2 .9-2 2v14c0 1.1.9 2 2 2h14c1.1 0 2-.9 2-2V5c0-1.1-.9-2-2-2zM9 17H7v-7h2v7zm4 0h-2V7h2v10zm4 0h-2v-4h2v4z\"/>\n",
              "    </g>\n",
              "</svg>\n",
              "  </button>\n",
              "\n",
              "<style>\n",
              "  .colab-df-quickchart {\n",
              "      --bg-color: #E8F0FE;\n",
              "      --fill-color: #1967D2;\n",
              "      --hover-bg-color: #E2EBFA;\n",
              "      --hover-fill-color: #174EA6;\n",
              "      --disabled-fill-color: #AAA;\n",
              "      --disabled-bg-color: #DDD;\n",
              "  }\n",
              "\n",
              "  [theme=dark] .colab-df-quickchart {\n",
              "      --bg-color: #3B4455;\n",
              "      --fill-color: #D2E3FC;\n",
              "      --hover-bg-color: #434B5C;\n",
              "      --hover-fill-color: #FFFFFF;\n",
              "      --disabled-bg-color: #3B4455;\n",
              "      --disabled-fill-color: #666;\n",
              "  }\n",
              "\n",
              "  .colab-df-quickchart {\n",
              "    background-color: var(--bg-color);\n",
              "    border: none;\n",
              "    border-radius: 50%;\n",
              "    cursor: pointer;\n",
              "    display: none;\n",
              "    fill: var(--fill-color);\n",
              "    height: 32px;\n",
              "    padding: 0;\n",
              "    width: 32px;\n",
              "  }\n",
              "\n",
              "  .colab-df-quickchart:hover {\n",
              "    background-color: var(--hover-bg-color);\n",
              "    box-shadow: 0 1px 2px rgba(60, 64, 67, 0.3), 0 1px 3px 1px rgba(60, 64, 67, 0.15);\n",
              "    fill: var(--button-hover-fill-color);\n",
              "  }\n",
              "\n",
              "  .colab-df-quickchart-complete:disabled,\n",
              "  .colab-df-quickchart-complete:disabled:hover {\n",
              "    background-color: var(--disabled-bg-color);\n",
              "    fill: var(--disabled-fill-color);\n",
              "    box-shadow: none;\n",
              "  }\n",
              "\n",
              "  .colab-df-spinner {\n",
              "    border: 2px solid var(--fill-color);\n",
              "    border-color: transparent;\n",
              "    border-bottom-color: var(--fill-color);\n",
              "    animation:\n",
              "      spin 1s steps(1) infinite;\n",
              "  }\n",
              "\n",
              "  @keyframes spin {\n",
              "    0% {\n",
              "      border-color: transparent;\n",
              "      border-bottom-color: var(--fill-color);\n",
              "      border-left-color: var(--fill-color);\n",
              "    }\n",
              "    20% {\n",
              "      border-color: transparent;\n",
              "      border-left-color: var(--fill-color);\n",
              "      border-top-color: var(--fill-color);\n",
              "    }\n",
              "    30% {\n",
              "      border-color: transparent;\n",
              "      border-left-color: var(--fill-color);\n",
              "      border-top-color: var(--fill-color);\n",
              "      border-right-color: var(--fill-color);\n",
              "    }\n",
              "    40% {\n",
              "      border-color: transparent;\n",
              "      border-right-color: var(--fill-color);\n",
              "      border-top-color: var(--fill-color);\n",
              "    }\n",
              "    60% {\n",
              "      border-color: transparent;\n",
              "      border-right-color: var(--fill-color);\n",
              "    }\n",
              "    80% {\n",
              "      border-color: transparent;\n",
              "      border-right-color: var(--fill-color);\n",
              "      border-bottom-color: var(--fill-color);\n",
              "    }\n",
              "    90% {\n",
              "      border-color: transparent;\n",
              "      border-bottom-color: var(--fill-color);\n",
              "    }\n",
              "  }\n",
              "</style>\n",
              "\n",
              "  <script>\n",
              "    async function quickchart(key) {\n",
              "      const quickchartButtonEl =\n",
              "        document.querySelector('#' + key + ' button');\n",
              "      quickchartButtonEl.disabled = true;  // To prevent multiple clicks.\n",
              "      quickchartButtonEl.classList.add('colab-df-spinner');\n",
              "      try {\n",
              "        const charts = await google.colab.kernel.invokeFunction(\n",
              "            'suggestCharts', [key], {});\n",
              "      } catch (error) {\n",
              "        console.error('Error during call to suggestCharts:', error);\n",
              "      }\n",
              "      quickchartButtonEl.classList.remove('colab-df-spinner');\n",
              "      quickchartButtonEl.classList.add('colab-df-quickchart-complete');\n",
              "    }\n",
              "    (() => {\n",
              "      let quickchartButtonEl =\n",
              "        document.querySelector('#df-6d5a097b-b73f-478f-a0da-f18dfb47d043 button');\n",
              "      quickchartButtonEl.style.display =\n",
              "        google.colab.kernel.accessAllowed ? 'block' : 'none';\n",
              "    })();\n",
              "  </script>\n",
              "</div>\n",
              "\n",
              "    </div>\n",
              "  </div>\n"
            ],
            "application/vnd.google.colaboratory.intrinsic+json": {
              "type": "dataframe",
              "variable_name": "df"
            }
          },
          "metadata": {},
          "execution_count": 210
        }
      ]
    },
    {
      "cell_type": "code",
      "source": [
        "df.columns = ['user_id', 'prod_id', 'rating', 'timestamp']"
      ],
      "metadata": {
        "id": "-MrJT3fpX7Ir"
      },
      "execution_count": null,
      "outputs": []
    },
    {
      "cell_type": "code",
      "source": [
        "df.head()"
      ],
      "metadata": {
        "colab": {
          "base_uri": "https://localhost:8080/",
          "height": 223
        },
        "id": "tluwVoahYDCL",
        "outputId": "3d0fdab4-2da7-4a50-ba8f-68795d8e0047"
      },
      "execution_count": null,
      "outputs": [
        {
          "output_type": "execute_result",
          "data": {
            "text/plain": [
              "          user_id     prod_id  rating   timestamp\n",
              "0   AKM1MP6P0OYPR  0132793040     5.0  1365811200\n",
              "1  A2CX7LUOHB2NDG  0321732944     5.0  1341100800\n",
              "2  A2NWSAGRHCP8N5  0439886341     1.0  1367193600\n",
              "3  A2WNBOD3WNDNKT  0439886341     3.0  1374451200\n",
              "4  A1GI0U4ZRJA8WN  0439886341     1.0  1334707200"
            ],
            "text/html": [
              "\n",
              "  <div id=\"df-e65e2173-f17e-4456-90d9-d63fcd571d65\" class=\"colab-df-container\">\n",
              "    <div>\n",
              "<style scoped>\n",
              "    .dataframe tbody tr th:only-of-type {\n",
              "        vertical-align: middle;\n",
              "    }\n",
              "\n",
              "    .dataframe tbody tr th {\n",
              "        vertical-align: top;\n",
              "    }\n",
              "\n",
              "    .dataframe thead th {\n",
              "        text-align: right;\n",
              "    }\n",
              "</style>\n",
              "<table border=\"1\" class=\"dataframe\">\n",
              "  <thead>\n",
              "    <tr style=\"text-align: right;\">\n",
              "      <th></th>\n",
              "      <th>user_id</th>\n",
              "      <th>prod_id</th>\n",
              "      <th>rating</th>\n",
              "      <th>timestamp</th>\n",
              "    </tr>\n",
              "  </thead>\n",
              "  <tbody>\n",
              "    <tr>\n",
              "      <th>0</th>\n",
              "      <td>AKM1MP6P0OYPR</td>\n",
              "      <td>0132793040</td>\n",
              "      <td>5.0</td>\n",
              "      <td>1365811200</td>\n",
              "    </tr>\n",
              "    <tr>\n",
              "      <th>1</th>\n",
              "      <td>A2CX7LUOHB2NDG</td>\n",
              "      <td>0321732944</td>\n",
              "      <td>5.0</td>\n",
              "      <td>1341100800</td>\n",
              "    </tr>\n",
              "    <tr>\n",
              "      <th>2</th>\n",
              "      <td>A2NWSAGRHCP8N5</td>\n",
              "      <td>0439886341</td>\n",
              "      <td>1.0</td>\n",
              "      <td>1367193600</td>\n",
              "    </tr>\n",
              "    <tr>\n",
              "      <th>3</th>\n",
              "      <td>A2WNBOD3WNDNKT</td>\n",
              "      <td>0439886341</td>\n",
              "      <td>3.0</td>\n",
              "      <td>1374451200</td>\n",
              "    </tr>\n",
              "    <tr>\n",
              "      <th>4</th>\n",
              "      <td>A1GI0U4ZRJA8WN</td>\n",
              "      <td>0439886341</td>\n",
              "      <td>1.0</td>\n",
              "      <td>1334707200</td>\n",
              "    </tr>\n",
              "  </tbody>\n",
              "</table>\n",
              "</div>\n",
              "    <div class=\"colab-df-buttons\">\n",
              "\n",
              "  <div class=\"colab-df-container\">\n",
              "    <button class=\"colab-df-convert\" onclick=\"convertToInteractive('df-e65e2173-f17e-4456-90d9-d63fcd571d65')\"\n",
              "            title=\"Convert this dataframe to an interactive table.\"\n",
              "            style=\"display:none;\">\n",
              "\n",
              "  <svg xmlns=\"http://www.w3.org/2000/svg\" height=\"24px\" viewBox=\"0 -960 960 960\">\n",
              "    <path d=\"M120-120v-720h720v720H120Zm60-500h600v-160H180v160Zm220 220h160v-160H400v160Zm0 220h160v-160H400v160ZM180-400h160v-160H180v160Zm440 0h160v-160H620v160ZM180-180h160v-160H180v160Zm440 0h160v-160H620v160Z\"/>\n",
              "  </svg>\n",
              "    </button>\n",
              "\n",
              "  <style>\n",
              "    .colab-df-container {\n",
              "      display:flex;\n",
              "      gap: 12px;\n",
              "    }\n",
              "\n",
              "    .colab-df-convert {\n",
              "      background-color: #E8F0FE;\n",
              "      border: none;\n",
              "      border-radius: 50%;\n",
              "      cursor: pointer;\n",
              "      display: none;\n",
              "      fill: #1967D2;\n",
              "      height: 32px;\n",
              "      padding: 0 0 0 0;\n",
              "      width: 32px;\n",
              "    }\n",
              "\n",
              "    .colab-df-convert:hover {\n",
              "      background-color: #E2EBFA;\n",
              "      box-shadow: 0px 1px 2px rgba(60, 64, 67, 0.3), 0px 1px 3px 1px rgba(60, 64, 67, 0.15);\n",
              "      fill: #174EA6;\n",
              "    }\n",
              "\n",
              "    .colab-df-buttons div {\n",
              "      margin-bottom: 4px;\n",
              "    }\n",
              "\n",
              "    [theme=dark] .colab-df-convert {\n",
              "      background-color: #3B4455;\n",
              "      fill: #D2E3FC;\n",
              "    }\n",
              "\n",
              "    [theme=dark] .colab-df-convert:hover {\n",
              "      background-color: #434B5C;\n",
              "      box-shadow: 0px 1px 3px 1px rgba(0, 0, 0, 0.15);\n",
              "      filter: drop-shadow(0px 1px 2px rgba(0, 0, 0, 0.3));\n",
              "      fill: #FFFFFF;\n",
              "    }\n",
              "  </style>\n",
              "\n",
              "    <script>\n",
              "      const buttonEl =\n",
              "        document.querySelector('#df-e65e2173-f17e-4456-90d9-d63fcd571d65 button.colab-df-convert');\n",
              "      buttonEl.style.display =\n",
              "        google.colab.kernel.accessAllowed ? 'block' : 'none';\n",
              "\n",
              "      async function convertToInteractive(key) {\n",
              "        const element = document.querySelector('#df-e65e2173-f17e-4456-90d9-d63fcd571d65');\n",
              "        const dataTable =\n",
              "          await google.colab.kernel.invokeFunction('convertToInteractive',\n",
              "                                                    [key], {});\n",
              "        if (!dataTable) return;\n",
              "\n",
              "        const docLinkHtml = 'Like what you see? Visit the ' +\n",
              "          '<a target=\"_blank\" href=https://colab.research.google.com/notebooks/data_table.ipynb>data table notebook</a>'\n",
              "          + ' to learn more about interactive tables.';\n",
              "        element.innerHTML = '';\n",
              "        dataTable['output_type'] = 'display_data';\n",
              "        await google.colab.output.renderOutput(dataTable, element);\n",
              "        const docLink = document.createElement('div');\n",
              "        docLink.innerHTML = docLinkHtml;\n",
              "        element.appendChild(docLink);\n",
              "      }\n",
              "    </script>\n",
              "  </div>\n",
              "\n",
              "\n",
              "<div id=\"df-3b2ce0f4-e48f-467a-b66d-a4dc9ce44631\">\n",
              "  <button class=\"colab-df-quickchart\" onclick=\"quickchart('df-3b2ce0f4-e48f-467a-b66d-a4dc9ce44631')\"\n",
              "            title=\"Suggest charts\"\n",
              "            style=\"display:none;\">\n",
              "\n",
              "<svg xmlns=\"http://www.w3.org/2000/svg\" height=\"24px\"viewBox=\"0 0 24 24\"\n",
              "     width=\"24px\">\n",
              "    <g>\n",
              "        <path d=\"M19 3H5c-1.1 0-2 .9-2 2v14c0 1.1.9 2 2 2h14c1.1 0 2-.9 2-2V5c0-1.1-.9-2-2-2zM9 17H7v-7h2v7zm4 0h-2V7h2v10zm4 0h-2v-4h2v4z\"/>\n",
              "    </g>\n",
              "</svg>\n",
              "  </button>\n",
              "\n",
              "<style>\n",
              "  .colab-df-quickchart {\n",
              "      --bg-color: #E8F0FE;\n",
              "      --fill-color: #1967D2;\n",
              "      --hover-bg-color: #E2EBFA;\n",
              "      --hover-fill-color: #174EA6;\n",
              "      --disabled-fill-color: #AAA;\n",
              "      --disabled-bg-color: #DDD;\n",
              "  }\n",
              "\n",
              "  [theme=dark] .colab-df-quickchart {\n",
              "      --bg-color: #3B4455;\n",
              "      --fill-color: #D2E3FC;\n",
              "      --hover-bg-color: #434B5C;\n",
              "      --hover-fill-color: #FFFFFF;\n",
              "      --disabled-bg-color: #3B4455;\n",
              "      --disabled-fill-color: #666;\n",
              "  }\n",
              "\n",
              "  .colab-df-quickchart {\n",
              "    background-color: var(--bg-color);\n",
              "    border: none;\n",
              "    border-radius: 50%;\n",
              "    cursor: pointer;\n",
              "    display: none;\n",
              "    fill: var(--fill-color);\n",
              "    height: 32px;\n",
              "    padding: 0;\n",
              "    width: 32px;\n",
              "  }\n",
              "\n",
              "  .colab-df-quickchart:hover {\n",
              "    background-color: var(--hover-bg-color);\n",
              "    box-shadow: 0 1px 2px rgba(60, 64, 67, 0.3), 0 1px 3px 1px rgba(60, 64, 67, 0.15);\n",
              "    fill: var(--button-hover-fill-color);\n",
              "  }\n",
              "\n",
              "  .colab-df-quickchart-complete:disabled,\n",
              "  .colab-df-quickchart-complete:disabled:hover {\n",
              "    background-color: var(--disabled-bg-color);\n",
              "    fill: var(--disabled-fill-color);\n",
              "    box-shadow: none;\n",
              "  }\n",
              "\n",
              "  .colab-df-spinner {\n",
              "    border: 2px solid var(--fill-color);\n",
              "    border-color: transparent;\n",
              "    border-bottom-color: var(--fill-color);\n",
              "    animation:\n",
              "      spin 1s steps(1) infinite;\n",
              "  }\n",
              "\n",
              "  @keyframes spin {\n",
              "    0% {\n",
              "      border-color: transparent;\n",
              "      border-bottom-color: var(--fill-color);\n",
              "      border-left-color: var(--fill-color);\n",
              "    }\n",
              "    20% {\n",
              "      border-color: transparent;\n",
              "      border-left-color: var(--fill-color);\n",
              "      border-top-color: var(--fill-color);\n",
              "    }\n",
              "    30% {\n",
              "      border-color: transparent;\n",
              "      border-left-color: var(--fill-color);\n",
              "      border-top-color: var(--fill-color);\n",
              "      border-right-color: var(--fill-color);\n",
              "    }\n",
              "    40% {\n",
              "      border-color: transparent;\n",
              "      border-right-color: var(--fill-color);\n",
              "      border-top-color: var(--fill-color);\n",
              "    }\n",
              "    60% {\n",
              "      border-color: transparent;\n",
              "      border-right-color: var(--fill-color);\n",
              "    }\n",
              "    80% {\n",
              "      border-color: transparent;\n",
              "      border-right-color: var(--fill-color);\n",
              "      border-bottom-color: var(--fill-color);\n",
              "    }\n",
              "    90% {\n",
              "      border-color: transparent;\n",
              "      border-bottom-color: var(--fill-color);\n",
              "    }\n",
              "  }\n",
              "</style>\n",
              "\n",
              "  <script>\n",
              "    async function quickchart(key) {\n",
              "      const quickchartButtonEl =\n",
              "        document.querySelector('#' + key + ' button');\n",
              "      quickchartButtonEl.disabled = true;  // To prevent multiple clicks.\n",
              "      quickchartButtonEl.classList.add('colab-df-spinner');\n",
              "      try {\n",
              "        const charts = await google.colab.kernel.invokeFunction(\n",
              "            'suggestCharts', [key], {});\n",
              "      } catch (error) {\n",
              "        console.error('Error during call to suggestCharts:', error);\n",
              "      }\n",
              "      quickchartButtonEl.classList.remove('colab-df-spinner');\n",
              "      quickchartButtonEl.classList.add('colab-df-quickchart-complete');\n",
              "    }\n",
              "    (() => {\n",
              "      let quickchartButtonEl =\n",
              "        document.querySelector('#df-3b2ce0f4-e48f-467a-b66d-a4dc9ce44631 button');\n",
              "      quickchartButtonEl.style.display =\n",
              "        google.colab.kernel.accessAllowed ? 'block' : 'none';\n",
              "    })();\n",
              "  </script>\n",
              "</div>\n",
              "\n",
              "    </div>\n",
              "  </div>\n"
            ],
            "application/vnd.google.colaboratory.intrinsic+json": {
              "type": "dataframe",
              "variable_name": "df"
            }
          },
          "metadata": {},
          "execution_count": 212
        }
      ]
    },
    {
      "cell_type": "markdown",
      "metadata": {
        "id": "OVQnSG5g_9uX"
      },
      "source": [
        "**As this dataset is very large and has 7,824,482 observations, it is not computationally possible to build a model using this. Moreover, many users have only rated a few products and also some products are rated by very few users. Hence, we can reduce the dataset by considering certain logical assumptions.**\n",
        "\n",
        "Here, we will be taking users who have given at least 50 ratings, and the products that have at least 5 ratings, as when we shop online we prefer to have some number of ratings of a product."
      ]
    },
    {
      "cell_type": "code",
      "execution_count": null,
      "metadata": {
        "id": "4yt9W7Q32EQQ"
      },
      "outputs": [],
      "source": [
        "# Get the column containing the users\n",
        "users = df.user_id\n",
        "\n",
        "# Create a dictionary from users to their number of ratings\n",
        "ratings_count = dict()\n",
        "\n",
        "for user in users:\n",
        "\n",
        "    # If we already have the user, just add 1 to their rating count\n",
        "    if user in ratings_count:\n",
        "        ratings_count[user] += 1\n",
        "\n",
        "    # Otherwise, set their rating count to 1\n",
        "    else:\n",
        "        ratings_count[user] = 1"
      ]
    },
    {
      "cell_type": "code",
      "execution_count": null,
      "metadata": {
        "id": "19XB60dq2EQR"
      },
      "outputs": [],
      "source": [
        "# We want our users to have at least 50 ratings to be considered\n",
        "RATINGS_CUTOFF = 50\n",
        "\n",
        "remove_users = []\n",
        "\n",
        "for user, num_ratings in ratings_count.items():\n",
        "    if num_ratings < RATINGS_CUTOFF:\n",
        "        remove_users.append(user)\n",
        "\n",
        "df = df.loc[ ~ df.user_id.isin(remove_users)]"
      ]
    },
    {
      "cell_type": "code",
      "execution_count": null,
      "metadata": {
        "id": "33UzK1D82EQS"
      },
      "outputs": [],
      "source": [
        "# Get the column containing the products\n",
        "prods = df.prod_id\n",
        "\n",
        "# Create a dictionary from products to their number of ratings\n",
        "ratings_count = dict()\n",
        "\n",
        "for prod in prods:\n",
        "\n",
        "    # If we already have the product, just add 1 to its rating count\n",
        "    if prod in ratings_count:\n",
        "        ratings_count[prod] += 1\n",
        "\n",
        "    # Otherwise, set their rating count to 1\n",
        "    else:\n",
        "        ratings_count[prod] = 1"
      ]
    },
    {
      "cell_type": "code",
      "execution_count": null,
      "metadata": {
        "id": "u6YE-lUp2EQT"
      },
      "outputs": [],
      "source": [
        "# We want our item to have at least 5 ratings to be considered\n",
        "RATINGS_CUTOFF = 5\n",
        "\n",
        "remove_users = []\n",
        "\n",
        "for user, num_ratings in ratings_count.items():\n",
        "    if num_ratings < RATINGS_CUTOFF:\n",
        "        remove_users.append(user)\n",
        "\n",
        "df_final = df.loc[~ df.prod_id.isin(remove_users)]"
      ]
    },
    {
      "cell_type": "code",
      "execution_count": null,
      "metadata": {
        "id": "aL1JZ00o5JtQ",
        "colab": {
          "base_uri": "https://localhost:8080/",
          "height": 223
        },
        "outputId": "0a4c7c6f-aef7-427d-e408-0e262213abb5"
      },
      "outputs": [
        {
          "output_type": "execute_result",
          "data": {
            "text/plain": [
              "             user_id     prod_id  rating   timestamp\n",
              "1310  A3LDPF5FMB782Z  1400501466     5.0  1336003200\n",
              "1322  A1A5KUIIIHFF4U  1400501466     1.0  1332547200\n",
              "1335  A2XIOXRRYX0KZY  1400501466     3.0  1371686400\n",
              "1451   AW3LX47IHPFRL  1400501466     5.0  1339804800\n",
              "1456  A1E3OB6QMBKRYZ  1400501466     1.0  1350086400"
            ],
            "text/html": [
              "\n",
              "  <div id=\"df-e7b85d6c-83ed-4992-9dd2-26542831e1fd\" class=\"colab-df-container\">\n",
              "    <div>\n",
              "<style scoped>\n",
              "    .dataframe tbody tr th:only-of-type {\n",
              "        vertical-align: middle;\n",
              "    }\n",
              "\n",
              "    .dataframe tbody tr th {\n",
              "        vertical-align: top;\n",
              "    }\n",
              "\n",
              "    .dataframe thead th {\n",
              "        text-align: right;\n",
              "    }\n",
              "</style>\n",
              "<table border=\"1\" class=\"dataframe\">\n",
              "  <thead>\n",
              "    <tr style=\"text-align: right;\">\n",
              "      <th></th>\n",
              "      <th>user_id</th>\n",
              "      <th>prod_id</th>\n",
              "      <th>rating</th>\n",
              "      <th>timestamp</th>\n",
              "    </tr>\n",
              "  </thead>\n",
              "  <tbody>\n",
              "    <tr>\n",
              "      <th>1310</th>\n",
              "      <td>A3LDPF5FMB782Z</td>\n",
              "      <td>1400501466</td>\n",
              "      <td>5.0</td>\n",
              "      <td>1336003200</td>\n",
              "    </tr>\n",
              "    <tr>\n",
              "      <th>1322</th>\n",
              "      <td>A1A5KUIIIHFF4U</td>\n",
              "      <td>1400501466</td>\n",
              "      <td>1.0</td>\n",
              "      <td>1332547200</td>\n",
              "    </tr>\n",
              "    <tr>\n",
              "      <th>1335</th>\n",
              "      <td>A2XIOXRRYX0KZY</td>\n",
              "      <td>1400501466</td>\n",
              "      <td>3.0</td>\n",
              "      <td>1371686400</td>\n",
              "    </tr>\n",
              "    <tr>\n",
              "      <th>1451</th>\n",
              "      <td>AW3LX47IHPFRL</td>\n",
              "      <td>1400501466</td>\n",
              "      <td>5.0</td>\n",
              "      <td>1339804800</td>\n",
              "    </tr>\n",
              "    <tr>\n",
              "      <th>1456</th>\n",
              "      <td>A1E3OB6QMBKRYZ</td>\n",
              "      <td>1400501466</td>\n",
              "      <td>1.0</td>\n",
              "      <td>1350086400</td>\n",
              "    </tr>\n",
              "  </tbody>\n",
              "</table>\n",
              "</div>\n",
              "    <div class=\"colab-df-buttons\">\n",
              "\n",
              "  <div class=\"colab-df-container\">\n",
              "    <button class=\"colab-df-convert\" onclick=\"convertToInteractive('df-e7b85d6c-83ed-4992-9dd2-26542831e1fd')\"\n",
              "            title=\"Convert this dataframe to an interactive table.\"\n",
              "            style=\"display:none;\">\n",
              "\n",
              "  <svg xmlns=\"http://www.w3.org/2000/svg\" height=\"24px\" viewBox=\"0 -960 960 960\">\n",
              "    <path d=\"M120-120v-720h720v720H120Zm60-500h600v-160H180v160Zm220 220h160v-160H400v160Zm0 220h160v-160H400v160ZM180-400h160v-160H180v160Zm440 0h160v-160H620v160ZM180-180h160v-160H180v160Zm440 0h160v-160H620v160Z\"/>\n",
              "  </svg>\n",
              "    </button>\n",
              "\n",
              "  <style>\n",
              "    .colab-df-container {\n",
              "      display:flex;\n",
              "      gap: 12px;\n",
              "    }\n",
              "\n",
              "    .colab-df-convert {\n",
              "      background-color: #E8F0FE;\n",
              "      border: none;\n",
              "      border-radius: 50%;\n",
              "      cursor: pointer;\n",
              "      display: none;\n",
              "      fill: #1967D2;\n",
              "      height: 32px;\n",
              "      padding: 0 0 0 0;\n",
              "      width: 32px;\n",
              "    }\n",
              "\n",
              "    .colab-df-convert:hover {\n",
              "      background-color: #E2EBFA;\n",
              "      box-shadow: 0px 1px 2px rgba(60, 64, 67, 0.3), 0px 1px 3px 1px rgba(60, 64, 67, 0.15);\n",
              "      fill: #174EA6;\n",
              "    }\n",
              "\n",
              "    .colab-df-buttons div {\n",
              "      margin-bottom: 4px;\n",
              "    }\n",
              "\n",
              "    [theme=dark] .colab-df-convert {\n",
              "      background-color: #3B4455;\n",
              "      fill: #D2E3FC;\n",
              "    }\n",
              "\n",
              "    [theme=dark] .colab-df-convert:hover {\n",
              "      background-color: #434B5C;\n",
              "      box-shadow: 0px 1px 3px 1px rgba(0, 0, 0, 0.15);\n",
              "      filter: drop-shadow(0px 1px 2px rgba(0, 0, 0, 0.3));\n",
              "      fill: #FFFFFF;\n",
              "    }\n",
              "  </style>\n",
              "\n",
              "    <script>\n",
              "      const buttonEl =\n",
              "        document.querySelector('#df-e7b85d6c-83ed-4992-9dd2-26542831e1fd button.colab-df-convert');\n",
              "      buttonEl.style.display =\n",
              "        google.colab.kernel.accessAllowed ? 'block' : 'none';\n",
              "\n",
              "      async function convertToInteractive(key) {\n",
              "        const element = document.querySelector('#df-e7b85d6c-83ed-4992-9dd2-26542831e1fd');\n",
              "        const dataTable =\n",
              "          await google.colab.kernel.invokeFunction('convertToInteractive',\n",
              "                                                    [key], {});\n",
              "        if (!dataTable) return;\n",
              "\n",
              "        const docLinkHtml = 'Like what you see? Visit the ' +\n",
              "          '<a target=\"_blank\" href=https://colab.research.google.com/notebooks/data_table.ipynb>data table notebook</a>'\n",
              "          + ' to learn more about interactive tables.';\n",
              "        element.innerHTML = '';\n",
              "        dataTable['output_type'] = 'display_data';\n",
              "        await google.colab.output.renderOutput(dataTable, element);\n",
              "        const docLink = document.createElement('div');\n",
              "        docLink.innerHTML = docLinkHtml;\n",
              "        element.appendChild(docLink);\n",
              "      }\n",
              "    </script>\n",
              "  </div>\n",
              "\n",
              "\n",
              "<div id=\"df-70410d32-9c23-48b3-892c-d0f093da5e73\">\n",
              "  <button class=\"colab-df-quickchart\" onclick=\"quickchart('df-70410d32-9c23-48b3-892c-d0f093da5e73')\"\n",
              "            title=\"Suggest charts\"\n",
              "            style=\"display:none;\">\n",
              "\n",
              "<svg xmlns=\"http://www.w3.org/2000/svg\" height=\"24px\"viewBox=\"0 0 24 24\"\n",
              "     width=\"24px\">\n",
              "    <g>\n",
              "        <path d=\"M19 3H5c-1.1 0-2 .9-2 2v14c0 1.1.9 2 2 2h14c1.1 0 2-.9 2-2V5c0-1.1-.9-2-2-2zM9 17H7v-7h2v7zm4 0h-2V7h2v10zm4 0h-2v-4h2v4z\"/>\n",
              "    </g>\n",
              "</svg>\n",
              "  </button>\n",
              "\n",
              "<style>\n",
              "  .colab-df-quickchart {\n",
              "      --bg-color: #E8F0FE;\n",
              "      --fill-color: #1967D2;\n",
              "      --hover-bg-color: #E2EBFA;\n",
              "      --hover-fill-color: #174EA6;\n",
              "      --disabled-fill-color: #AAA;\n",
              "      --disabled-bg-color: #DDD;\n",
              "  }\n",
              "\n",
              "  [theme=dark] .colab-df-quickchart {\n",
              "      --bg-color: #3B4455;\n",
              "      --fill-color: #D2E3FC;\n",
              "      --hover-bg-color: #434B5C;\n",
              "      --hover-fill-color: #FFFFFF;\n",
              "      --disabled-bg-color: #3B4455;\n",
              "      --disabled-fill-color: #666;\n",
              "  }\n",
              "\n",
              "  .colab-df-quickchart {\n",
              "    background-color: var(--bg-color);\n",
              "    border: none;\n",
              "    border-radius: 50%;\n",
              "    cursor: pointer;\n",
              "    display: none;\n",
              "    fill: var(--fill-color);\n",
              "    height: 32px;\n",
              "    padding: 0;\n",
              "    width: 32px;\n",
              "  }\n",
              "\n",
              "  .colab-df-quickchart:hover {\n",
              "    background-color: var(--hover-bg-color);\n",
              "    box-shadow: 0 1px 2px rgba(60, 64, 67, 0.3), 0 1px 3px 1px rgba(60, 64, 67, 0.15);\n",
              "    fill: var(--button-hover-fill-color);\n",
              "  }\n",
              "\n",
              "  .colab-df-quickchart-complete:disabled,\n",
              "  .colab-df-quickchart-complete:disabled:hover {\n",
              "    background-color: var(--disabled-bg-color);\n",
              "    fill: var(--disabled-fill-color);\n",
              "    box-shadow: none;\n",
              "  }\n",
              "\n",
              "  .colab-df-spinner {\n",
              "    border: 2px solid var(--fill-color);\n",
              "    border-color: transparent;\n",
              "    border-bottom-color: var(--fill-color);\n",
              "    animation:\n",
              "      spin 1s steps(1) infinite;\n",
              "  }\n",
              "\n",
              "  @keyframes spin {\n",
              "    0% {\n",
              "      border-color: transparent;\n",
              "      border-bottom-color: var(--fill-color);\n",
              "      border-left-color: var(--fill-color);\n",
              "    }\n",
              "    20% {\n",
              "      border-color: transparent;\n",
              "      border-left-color: var(--fill-color);\n",
              "      border-top-color: var(--fill-color);\n",
              "    }\n",
              "    30% {\n",
              "      border-color: transparent;\n",
              "      border-left-color: var(--fill-color);\n",
              "      border-top-color: var(--fill-color);\n",
              "      border-right-color: var(--fill-color);\n",
              "    }\n",
              "    40% {\n",
              "      border-color: transparent;\n",
              "      border-right-color: var(--fill-color);\n",
              "      border-top-color: var(--fill-color);\n",
              "    }\n",
              "    60% {\n",
              "      border-color: transparent;\n",
              "      border-right-color: var(--fill-color);\n",
              "    }\n",
              "    80% {\n",
              "      border-color: transparent;\n",
              "      border-right-color: var(--fill-color);\n",
              "      border-bottom-color: var(--fill-color);\n",
              "    }\n",
              "    90% {\n",
              "      border-color: transparent;\n",
              "      border-bottom-color: var(--fill-color);\n",
              "    }\n",
              "  }\n",
              "</style>\n",
              "\n",
              "  <script>\n",
              "    async function quickchart(key) {\n",
              "      const quickchartButtonEl =\n",
              "        document.querySelector('#' + key + ' button');\n",
              "      quickchartButtonEl.disabled = true;  // To prevent multiple clicks.\n",
              "      quickchartButtonEl.classList.add('colab-df-spinner');\n",
              "      try {\n",
              "        const charts = await google.colab.kernel.invokeFunction(\n",
              "            'suggestCharts', [key], {});\n",
              "      } catch (error) {\n",
              "        console.error('Error during call to suggestCharts:', error);\n",
              "      }\n",
              "      quickchartButtonEl.classList.remove('colab-df-spinner');\n",
              "      quickchartButtonEl.classList.add('colab-df-quickchart-complete');\n",
              "    }\n",
              "    (() => {\n",
              "      let quickchartButtonEl =\n",
              "        document.querySelector('#df-70410d32-9c23-48b3-892c-d0f093da5e73 button');\n",
              "      quickchartButtonEl.style.display =\n",
              "        google.colab.kernel.accessAllowed ? 'block' : 'none';\n",
              "    })();\n",
              "  </script>\n",
              "</div>\n",
              "\n",
              "    </div>\n",
              "  </div>\n"
            ],
            "application/vnd.google.colaboratory.intrinsic+json": {
              "type": "dataframe",
              "variable_name": "df_final",
              "summary": "{\n  \"name\": \"df_final\",\n  \"rows\": 65290,\n  \"fields\": [\n    {\n      \"column\": \"user_id\",\n      \"properties\": {\n        \"dtype\": \"category\",\n        \"num_unique_values\": 1540,\n        \"samples\": [\n          \"A1VJ0V58N0698J\",\n          \"A14X244VGHWPSX\",\n          \"A14JBDSWKPKTZA\"\n        ],\n        \"semantic_type\": \"\",\n        \"description\": \"\"\n      }\n    },\n    {\n      \"column\": \"prod_id\",\n      \"properties\": {\n        \"dtype\": \"category\",\n        \"num_unique_values\": 5689,\n        \"samples\": [\n          \"B005EOWBHC\",\n          \"B00BB72WX4\",\n          \"B00B9AB26G\"\n        ],\n        \"semantic_type\": \"\",\n        \"description\": \"\"\n      }\n    },\n    {\n      \"column\": \"rating\",\n      \"properties\": {\n        \"dtype\": \"number\",\n        \"std\": 0.9889148020336815,\n        \"min\": 1.0,\n        \"max\": 5.0,\n        \"num_unique_values\": 5,\n        \"samples\": [\n          1.0,\n          2.0,\n          3.0\n        ],\n        \"semantic_type\": \"\",\n        \"description\": \"\"\n      }\n    },\n    {\n      \"column\": \"timestamp\",\n      \"properties\": {\n        \"dtype\": \"number\",\n        \"std\": 60276150,\n        \"min\": 956620800,\n        \"max\": 1406073600,\n        \"num_unique_values\": 3400,\n        \"samples\": [\n          1135296000,\n          1313712000,\n          1098144000\n        ],\n        \"semantic_type\": \"\",\n        \"description\": \"\"\n      }\n    }\n  ]\n}"
            }
          },
          "metadata": {},
          "execution_count": 217
        }
      ],
      "source": [
        "# Print a few rows of the imported dataset\n",
        "df_final.head()"
      ]
    },
    {
      "cell_type": "markdown",
      "metadata": {
        "id": "GuPoy_XfxhXZ"
      },
      "source": [
        "## **Exploratory Data Analysis**"
      ]
    },
    {
      "cell_type": "markdown",
      "metadata": {
        "id": "s0d0bWeG-sVB"
      },
      "source": [
        "### **Shape of the data**"
      ]
    },
    {
      "cell_type": "markdown",
      "metadata": {
        "id": "qyBVTRDTyek0"
      },
      "source": [
        "### **Check the number of rows and columns and provide observations.**"
      ]
    },
    {
      "cell_type": "code",
      "execution_count": null,
      "metadata": {
        "id": "fJ4eQKaY5JtQ",
        "colab": {
          "base_uri": "https://localhost:8080/"
        },
        "outputId": "15d745fa-9765-4f06-91be-7773487fa2d7"
      },
      "outputs": [
        {
          "output_type": "stream",
          "name": "stdout",
          "text": [
            "<class 'pandas.core.frame.DataFrame'>\n",
            "Index: 65290 entries, 1310 to 7824427\n",
            "Data columns (total 4 columns):\n",
            " #   Column     Non-Null Count  Dtype  \n",
            "---  ------     --------------  -----  \n",
            " 0   user_id    65290 non-null  object \n",
            " 1   prod_id    65290 non-null  object \n",
            " 2   rating     65290 non-null  float64\n",
            " 3   timestamp  65290 non-null  int64  \n",
            "dtypes: float64(1), int64(1), object(2)\n",
            "memory usage: 2.5+ MB\n"
          ]
        }
      ],
      "source": [
        "# Check the number of rows and columns and provide observations\n",
        "df_final.info()"
      ]
    },
    {
      "cell_type": "markdown",
      "metadata": {
        "id": "Slp-fgWQ-sVD"
      },
      "source": [
        "**Write your observations here:**\n",
        "* There are 4 columns and 65290 rows.\n",
        "* The data type of user_id and prod_id is object.\n",
        "* The data type of rating is float.\n",
        "* The data type of timestamp is integer."
      ]
    },
    {
      "cell_type": "markdown",
      "metadata": {
        "id": "lTMpOROT-sVG"
      },
      "source": [
        "### **Checking for missing values**"
      ]
    },
    {
      "cell_type": "code",
      "execution_count": null,
      "metadata": {
        "id": "vt-VEjMA5JtQ",
        "colab": {
          "base_uri": "https://localhost:8080/",
          "height": 226
        },
        "outputId": "5d27bfa6-2674-41ee-9f3f-8ea4f3f81023"
      },
      "outputs": [
        {
          "output_type": "execute_result",
          "data": {
            "text/plain": [
              "user_id      0\n",
              "prod_id      0\n",
              "rating       0\n",
              "timestamp    0\n",
              "dtype: int64"
            ],
            "text/html": [
              "<div>\n",
              "<style scoped>\n",
              "    .dataframe tbody tr th:only-of-type {\n",
              "        vertical-align: middle;\n",
              "    }\n",
              "\n",
              "    .dataframe tbody tr th {\n",
              "        vertical-align: top;\n",
              "    }\n",
              "\n",
              "    .dataframe thead th {\n",
              "        text-align: right;\n",
              "    }\n",
              "</style>\n",
              "<table border=\"1\" class=\"dataframe\">\n",
              "  <thead>\n",
              "    <tr style=\"text-align: right;\">\n",
              "      <th></th>\n",
              "      <th>0</th>\n",
              "    </tr>\n",
              "  </thead>\n",
              "  <tbody>\n",
              "    <tr>\n",
              "      <th>user_id</th>\n",
              "      <td>0</td>\n",
              "    </tr>\n",
              "    <tr>\n",
              "      <th>prod_id</th>\n",
              "      <td>0</td>\n",
              "    </tr>\n",
              "    <tr>\n",
              "      <th>rating</th>\n",
              "      <td>0</td>\n",
              "    </tr>\n",
              "    <tr>\n",
              "      <th>timestamp</th>\n",
              "      <td>0</td>\n",
              "    </tr>\n",
              "  </tbody>\n",
              "</table>\n",
              "</div><br><label><b>dtype:</b> int64</label>"
            ]
          },
          "metadata": {},
          "execution_count": 219
        }
      ],
      "source": [
        "# Check for missing values present and provide observations\n",
        "df_final.isnull().sum()"
      ]
    },
    {
      "cell_type": "markdown",
      "metadata": {
        "id": "qMWuBNhI5JtR"
      },
      "source": [
        "**Write your observations here:**\n",
        "* There are no missing values here.\n",
        "* All the information in the dataframe is properly inserted."
      ]
    },
    {
      "cell_type": "markdown",
      "metadata": {
        "id": "wETrCg48-sVG"
      },
      "source": [
        "### **Summary Statistics**"
      ]
    },
    {
      "cell_type": "code",
      "execution_count": null,
      "metadata": {
        "id": "tYm30MXR5JtR",
        "colab": {
          "base_uri": "https://localhost:8080/",
          "height": 349
        },
        "outputId": "805fe183-f28b-4606-b798-bca817aa4e0a"
      },
      "outputs": [
        {
          "output_type": "execute_result",
          "data": {
            "text/plain": [
              "count    65290.000000\n",
              "mean         4.294808\n",
              "std          0.988915\n",
              "min          1.000000\n",
              "25%          4.000000\n",
              "50%          5.000000\n",
              "75%          5.000000\n",
              "max          5.000000\n",
              "Name: rating, dtype: float64"
            ],
            "text/html": [
              "<div>\n",
              "<style scoped>\n",
              "    .dataframe tbody tr th:only-of-type {\n",
              "        vertical-align: middle;\n",
              "    }\n",
              "\n",
              "    .dataframe tbody tr th {\n",
              "        vertical-align: top;\n",
              "    }\n",
              "\n",
              "    .dataframe thead th {\n",
              "        text-align: right;\n",
              "    }\n",
              "</style>\n",
              "<table border=\"1\" class=\"dataframe\">\n",
              "  <thead>\n",
              "    <tr style=\"text-align: right;\">\n",
              "      <th></th>\n",
              "      <th>rating</th>\n",
              "    </tr>\n",
              "  </thead>\n",
              "  <tbody>\n",
              "    <tr>\n",
              "      <th>count</th>\n",
              "      <td>65290.000000</td>\n",
              "    </tr>\n",
              "    <tr>\n",
              "      <th>mean</th>\n",
              "      <td>4.294808</td>\n",
              "    </tr>\n",
              "    <tr>\n",
              "      <th>std</th>\n",
              "      <td>0.988915</td>\n",
              "    </tr>\n",
              "    <tr>\n",
              "      <th>min</th>\n",
              "      <td>1.000000</td>\n",
              "    </tr>\n",
              "    <tr>\n",
              "      <th>25%</th>\n",
              "      <td>4.000000</td>\n",
              "    </tr>\n",
              "    <tr>\n",
              "      <th>50%</th>\n",
              "      <td>5.000000</td>\n",
              "    </tr>\n",
              "    <tr>\n",
              "      <th>75%</th>\n",
              "      <td>5.000000</td>\n",
              "    </tr>\n",
              "    <tr>\n",
              "      <th>max</th>\n",
              "      <td>5.000000</td>\n",
              "    </tr>\n",
              "  </tbody>\n",
              "</table>\n",
              "</div><br><label><b>dtype:</b> float64</label>"
            ]
          },
          "metadata": {},
          "execution_count": 220
        }
      ],
      "source": [
        "df_final['rating'].describe()\n"
      ]
    },
    {
      "cell_type": "markdown",
      "source": [
        "**Write your observations here:**\n",
        "* The total number of people who gave rating are 65290.\n",
        "* The average rating is around 4.3 rating.\n",
        "* The minimum rating given by a user is 1 rating.\n",
        "* The maximum rating given by a user is 5 rating,"
      ],
      "metadata": {
        "id": "3d0l3gUUe_3D"
      }
    },
    {
      "cell_type": "markdown",
      "metadata": {
        "id": "ywyFrZIf5JtR"
      },
      "source": [
        "### **Checking the rating distribution**"
      ]
    },
    {
      "cell_type": "code",
      "execution_count": null,
      "metadata": {
        "id": "QbqhbEVe-sVH",
        "colab": {
          "base_uri": "https://localhost:8080/",
          "height": 504
        },
        "outputId": "2a057ace-4d95-4c84-82fa-4a384eed94ab"
      },
      "outputs": [
        {
          "output_type": "display_data",
          "data": {
            "text/plain": [
              "<Figure size 1200x500 with 1 Axes>"
            ],
            "image/png": "[encoded data removed]"
          },
          "metadata": {}
        }
      ],
      "source": [
        "\n",
        "plt.figure(figsize = (12,5))\n",
        "\n",
        "ax = sns.countplot(x = 'rating', data = df_final)\n",
        "plt.tick_params(labelsize = 10)\n",
        "\n",
        "plt.title(\"Distribution of Ratings \", fontsize = 10)\n",
        "\n",
        "# Set the xlabel of the plot\n",
        "plt.xlabel(\"Ratings\", fontsize = 10)\n",
        "\n",
        "# Set the ylabel of the plot\n",
        "plt.ylabel(\"Number of Ratings\", fontsize = 10)\n",
        "\n",
        "# Display the plot\n",
        "plt.show()"
      ]
    },
    {
      "cell_type": "markdown",
      "metadata": {
        "id": "VqW50EIJxhXc"
      },
      "source": [
        "**Write your observations here:**\n",
        "* The above graph is highly skewed towards the rating 4 and 5. 5 is the rating given by maximum users, followed by 4 rating.\n",
        "* Very few people rated products between 1 to 3 rating.\n",
        "* This can be interpretted into two ways.\n",
        "* First, that there are not a lot of products which are rated low, therefore, most of the products are giving good performance.\n",
        "* Second, that not a lot of people like to give ratings to the products they did not like."
      ]
    },
    {
      "cell_type": "markdown",
      "metadata": {
        "id": "HefpLdLJxhXd"
      },
      "source": [
        "### **Checking the number of unique users and items in the dataset**"
      ]
    },
    {
      "cell_type": "code",
      "execution_count": null,
      "metadata": {
        "id": "NbSom7195JtR",
        "colab": {
          "base_uri": "https://localhost:8080/"
        },
        "outputId": "de06cc71-4bf9-48a8-f86e-3979f63bd572"
      },
      "outputs": [
        {
          "output_type": "execute_result",
          "data": {
            "text/plain": [
              "(65290, 1540, 5689)"
            ]
          },
          "metadata": {},
          "execution_count": 222
        }
      ],
      "source": [
        "# Number of total rows in the data and number of unique user id and product id in the data\n",
        "df_final.shape[0], df_final.user_id.nunique(), df_final.prod_id.nunique()"
      ]
    },
    {
      "cell_type": "markdown",
      "metadata": {
        "id": "Qwgz6CUt-sVI"
      },
      "source": [
        "**Write your observations here:**\n",
        "* Total number of rows in the data is 65290.\n",
        "* Total number of unique user_id are 1540.\n",
        "* Total number of unique product id are 5689."
      ]
    },
    {
      "cell_type": "markdown",
      "metadata": {
        "id": "RfDnhSS4-sVI"
      },
      "source": [
        "### **Users with the most number of ratings**"
      ]
    },
    {
      "cell_type": "code",
      "execution_count": null,
      "metadata": {
        "id": "n7MX452q5JtR",
        "colab": {
          "base_uri": "https://localhost:8080/",
          "height": 441
        },
        "outputId": "efd459b0-cd13-4b04-f335-65479185c4d6"
      },
      "outputs": [
        {
          "output_type": "execute_result",
          "data": {
            "text/plain": [
              "user_id\n",
              "ADLVFFE4VBT8      295\n",
              "A3OXHLG6DIBRW8    230\n",
              "A1ODOGXEYECQQ8    217\n",
              "A36K2N527TXXJN    212\n",
              "A25C2M3QF9G7OQ    203\n",
              "A680RUE1FDO8B     196\n",
              "A22CW0ZHY3NJH8    193\n",
              "A1UQBFCERIP7VJ    193\n",
              "AWPODHOB4GFWL     184\n",
              "A3LGT6UZL99IW1    179\n",
              "Name: rating, dtype: int64"
            ],
            "text/html": [
              "<div>\n",
              "<style scoped>\n",
              "    .dataframe tbody tr th:only-of-type {\n",
              "        vertical-align: middle;\n",
              "    }\n",
              "\n",
              "    .dataframe tbody tr th {\n",
              "        vertical-align: top;\n",
              "    }\n",
              "\n",
              "    .dataframe thead th {\n",
              "        text-align: right;\n",
              "    }\n",
              "</style>\n",
              "<table border=\"1\" class=\"dataframe\">\n",
              "  <thead>\n",
              "    <tr style=\"text-align: right;\">\n",
              "      <th></th>\n",
              "      <th>rating</th>\n",
              "    </tr>\n",
              "    <tr>\n",
              "      <th>user_id</th>\n",
              "      <th></th>\n",
              "    </tr>\n",
              "  </thead>\n",
              "  <tbody>\n",
              "    <tr>\n",
              "      <th>ADLVFFE4VBT8</th>\n",
              "      <td>295</td>\n",
              "    </tr>\n",
              "    <tr>\n",
              "      <th>A3OXHLG6DIBRW8</th>\n",
              "      <td>230</td>\n",
              "    </tr>\n",
              "    <tr>\n",
              "      <th>A1ODOGXEYECQQ8</th>\n",
              "      <td>217</td>\n",
              "    </tr>\n",
              "    <tr>\n",
              "      <th>A36K2N527TXXJN</th>\n",
              "      <td>212</td>\n",
              "    </tr>\n",
              "    <tr>\n",
              "      <th>A25C2M3QF9G7OQ</th>\n",
              "      <td>203</td>\n",
              "    </tr>\n",
              "    <tr>\n",
              "      <th>A680RUE1FDO8B</th>\n",
              "      <td>196</td>\n",
              "    </tr>\n",
              "    <tr>\n",
              "      <th>A22CW0ZHY3NJH8</th>\n",
              "      <td>193</td>\n",
              "    </tr>\n",
              "    <tr>\n",
              "      <th>A1UQBFCERIP7VJ</th>\n",
              "      <td>193</td>\n",
              "    </tr>\n",
              "    <tr>\n",
              "      <th>AWPODHOB4GFWL</th>\n",
              "      <td>184</td>\n",
              "    </tr>\n",
              "    <tr>\n",
              "      <th>A3LGT6UZL99IW1</th>\n",
              "      <td>179</td>\n",
              "    </tr>\n",
              "  </tbody>\n",
              "</table>\n",
              "</div><br><label><b>dtype:</b> int64</label>"
            ]
          },
          "metadata": {},
          "execution_count": 223
        }
      ],
      "source": [
        "# Top 10 users based on the number of ratings\n",
        "df_final.groupby('user_id')['rating'].count().sort_values(ascending = False).head(10)"
      ]
    },
    {
      "cell_type": "markdown",
      "metadata": {
        "id": "1X2w_jt9-sVI"
      },
      "source": [
        "**Write your observations here:**\n",
        "* The above stat shows the top 10 users based on the number of ratings.\n",
        "* The maximum number of ratings given by a single user is 295 ratings."
      ]
    },
    {
      "cell_type": "markdown",
      "metadata": {
        "id": "EnYTx-Ol-sVg"
      },
      "source": [
        "**Now that we have explored and prepared the data, let's build the first recommendation system.**"
      ]
    },
    {
      "cell_type": "markdown",
      "metadata": {
        "id": "6xYGrGVy5JtS"
      },
      "source": [
        "## **Model 1: Rank Based Recommendation System**"
      ]
    },
    {
      "cell_type": "code",
      "execution_count": null,
      "metadata": {
        "id": "yxZTj1UPxhXh",
        "scrolled": true,
        "colab": {
          "base_uri": "https://localhost:8080/",
          "height": 254
        },
        "outputId": "87ee1115-2766-40dc-8156-24ce7faccc89"
      },
      "outputs": [
        {
          "output_type": "execute_result",
          "data": {
            "text/plain": [
              "            avg_rating  rating_count\n",
              "prod_id                             \n",
              "B00LGQ6HL8         5.0             5\n",
              "B003DZJQQI         5.0            14\n",
              "B005FDXF2C         5.0             7\n",
              "B00I6CVPVC         5.0             7\n",
              "B00B9KOCYA         5.0             8"
            ],
            "text/html": [
              "\n",
              "  <div id=\"df-a82c8d7d-2b97-4700-967d-0734999f6446\" class=\"colab-df-container\">\n",
              "    <div>\n",
              "<style scoped>\n",
              "    .dataframe tbody tr th:only-of-type {\n",
              "        vertical-align: middle;\n",
              "    }\n",
              "\n",
              "    .dataframe tbody tr th {\n",
              "        vertical-align: top;\n",
              "    }\n",
              "\n",
              "    .dataframe thead th {\n",
              "        text-align: right;\n",
              "    }\n",
              "</style>\n",
              "<table border=\"1\" class=\"dataframe\">\n",
              "  <thead>\n",
              "    <tr style=\"text-align: right;\">\n",
              "      <th></th>\n",
              "      <th>avg_rating</th>\n",
              "      <th>rating_count</th>\n",
              "    </tr>\n",
              "    <tr>\n",
              "      <th>prod_id</th>\n",
              "      <th></th>\n",
              "      <th></th>\n",
              "    </tr>\n",
              "  </thead>\n",
              "  <tbody>\n",
              "    <tr>\n",
              "      <th>B00LGQ6HL8</th>\n",
              "      <td>5.0</td>\n",
              "      <td>5</td>\n",
              "    </tr>\n",
              "    <tr>\n",
              "      <th>B003DZJQQI</th>\n",
              "      <td>5.0</td>\n",
              "      <td>14</td>\n",
              "    </tr>\n",
              "    <tr>\n",
              "      <th>B005FDXF2C</th>\n",
              "      <td>5.0</td>\n",
              "      <td>7</td>\n",
              "    </tr>\n",
              "    <tr>\n",
              "      <th>B00I6CVPVC</th>\n",
              "      <td>5.0</td>\n",
              "      <td>7</td>\n",
              "    </tr>\n",
              "    <tr>\n",
              "      <th>B00B9KOCYA</th>\n",
              "      <td>5.0</td>\n",
              "      <td>8</td>\n",
              "    </tr>\n",
              "  </tbody>\n",
              "</table>\n",
              "</div>\n",
              "    <div class=\"colab-df-buttons\">\n",
              "\n",
              "  <div class=\"colab-df-container\">\n",
              "    <button class=\"colab-df-convert\" onclick=\"convertToInteractive('df-a82c8d7d-2b97-4700-967d-0734999f6446')\"\n",
              "            title=\"Convert this dataframe to an interactive table.\"\n",
              "            style=\"display:none;\">\n",
              "\n",
              "  <svg xmlns=\"http://www.w3.org/2000/svg\" height=\"24px\" viewBox=\"0 -960 960 960\">\n",
              "    <path d=\"M120-120v-720h720v720H120Zm60-500h600v-160H180v160Zm220 220h160v-160H400v160Zm0 220h160v-160H400v160ZM180-400h160v-160H180v160Zm440 0h160v-160H620v160ZM180-180h160v-160H180v160Zm440 0h160v-160H620v160Z\"/>\n",
              "  </svg>\n",
              "    </button>\n",
              "\n",
              "  <style>\n",
              "    .colab-df-container {\n",
              "      display:flex;\n",
              "      gap: 12px;\n",
              "    }\n",
              "\n",
              "    .colab-df-convert {\n",
              "      background-color: #E8F0FE;\n",
              "      border: none;\n",
              "      border-radius: 50%;\n",
              "      cursor: pointer;\n",
              "      display: none;\n",
              "      fill: #1967D2;\n",
              "      height: 32px;\n",
              "      padding: 0 0 0 0;\n",
              "      width: 32px;\n",
              "    }\n",
              "\n",
              "    .colab-df-convert:hover {\n",
              "      background-color: #E2EBFA;\n",
              "      box-shadow: 0px 1px 2px rgba(60, 64, 67, 0.3), 0px 1px 3px 1px rgba(60, 64, 67, 0.15);\n",
              "      fill: #174EA6;\n",
              "    }\n",
              "\n",
              "    .colab-df-buttons div {\n",
              "      margin-bottom: 4px;\n",
              "    }\n",
              "\n",
              "    [theme=dark] .colab-df-convert {\n",
              "      background-color: #3B4455;\n",
              "      fill: #D2E3FC;\n",
              "    }\n",
              "\n",
              "    [theme=dark] .colab-df-convert:hover {\n",
              "      background-color: #434B5C;\n",
              "      box-shadow: 0px 1px 3px 1px rgba(0, 0, 0, 0.15);\n",
              "      filter: drop-shadow(0px 1px 2px rgba(0, 0, 0, 0.3));\n",
              "      fill: #FFFFFF;\n",
              "    }\n",
              "  </style>\n",
              "\n",
              "    <script>\n",
              "      const buttonEl =\n",
              "        document.querySelector('#df-a82c8d7d-2b97-4700-967d-0734999f6446 button.colab-df-convert');\n",
              "      buttonEl.style.display =\n",
              "        google.colab.kernel.accessAllowed ? 'block' : 'none';\n",
              "\n",
              "      async function convertToInteractive(key) {\n",
              "        const element = document.querySelector('#df-a82c8d7d-2b97-4700-967d-0734999f6446');\n",
              "        const dataTable =\n",
              "          await google.colab.kernel.invokeFunction('convertToInteractive',\n",
              "                                                    [key], {});\n",
              "        if (!dataTable) return;\n",
              "\n",
              "        const docLinkHtml = 'Like what you see? Visit the ' +\n",
              "          '<a target=\"_blank\" href=https://colab.research.google.com/notebooks/data_table.ipynb>data table notebook</a>'\n",
              "          + ' to learn more about interactive tables.';\n",
              "        element.innerHTML = '';\n",
              "        dataTable['output_type'] = 'display_data';\n",
              "        await google.colab.output.renderOutput(dataTable, element);\n",
              "        const docLink = document.createElement('div');\n",
              "        docLink.innerHTML = docLinkHtml;\n",
              "        element.appendChild(docLink);\n",
              "      }\n",
              "    </script>\n",
              "  </div>\n",
              "\n",
              "\n",
              "<div id=\"df-1c956c3e-b3bb-47a5-843b-0e66b8347f66\">\n",
              "  <button class=\"colab-df-quickchart\" onclick=\"quickchart('df-1c956c3e-b3bb-47a5-843b-0e66b8347f66')\"\n",
              "            title=\"Suggest charts\"\n",
              "            style=\"display:none;\">\n",
              "\n",
              "<svg xmlns=\"http://www.w3.org/2000/svg\" height=\"24px\"viewBox=\"0 0 24 24\"\n",
              "     width=\"24px\">\n",
              "    <g>\n",
              "        <path d=\"M19 3H5c-1.1 0-2 .9-2 2v14c0 1.1.9 2 2 2h14c1.1 0 2-.9 2-2V5c0-1.1-.9-2-2-2zM9 17H7v-7h2v7zm4 0h-2V7h2v10zm4 0h-2v-4h2v4z\"/>\n",
              "    </g>\n",
              "</svg>\n",
              "  </button>\n",
              "\n",
              "<style>\n",
              "  .colab-df-quickchart {\n",
              "      --bg-color: #E8F0FE;\n",
              "      --fill-color: #1967D2;\n",
              "      --hover-bg-color: #E2EBFA;\n",
              "      --hover-fill-color: #174EA6;\n",
              "      --disabled-fill-color: #AAA;\n",
              "      --disabled-bg-color: #DDD;\n",
              "  }\n",
              "\n",
              "  [theme=dark] .colab-df-quickchart {\n",
              "      --bg-color: #3B4455;\n",
              "      --fill-color: #D2E3FC;\n",
              "      --hover-bg-color: #434B5C;\n",
              "      --hover-fill-color: #FFFFFF;\n",
              "      --disabled-bg-color: #3B4455;\n",
              "      --disabled-fill-color: #666;\n",
              "  }\n",
              "\n",
              "  .colab-df-quickchart {\n",
              "    background-color: var(--bg-color);\n",
              "    border: none;\n",
              "    border-radius: 50%;\n",
              "    cursor: pointer;\n",
              "    display: none;\n",
              "    fill: var(--fill-color);\n",
              "    height: 32px;\n",
              "    padding: 0;\n",
              "    width: 32px;\n",
              "  }\n",
              "\n",
              "  .colab-df-quickchart:hover {\n",
              "    background-color: var(--hover-bg-color);\n",
              "    box-shadow: 0 1px 2px rgba(60, 64, 67, 0.3), 0 1px 3px 1px rgba(60, 64, 67, 0.15);\n",
              "    fill: var(--button-hover-fill-color);\n",
              "  }\n",
              "\n",
              "  .colab-df-quickchart-complete:disabled,\n",
              "  .colab-df-quickchart-complete:disabled:hover {\n",
              "    background-color: var(--disabled-bg-color);\n",
              "    fill: var(--disabled-fill-color);\n",
              "    box-shadow: none;\n",
              "  }\n",
              "\n",
              "  .colab-df-spinner {\n",
              "    border: 2px solid var(--fill-color);\n",
              "    border-color: transparent;\n",
              "    border-bottom-color: var(--fill-color);\n",
              "    animation:\n",
              "      spin 1s steps(1) infinite;\n",
              "  }\n",
              "\n",
              "  @keyframes spin {\n",
              "    0% {\n",
              "      border-color: transparent;\n",
              "      border-bottom-color: var(--fill-color);\n",
              "      border-left-color: var(--fill-color);\n",
              "    }\n",
              "    20% {\n",
              "      border-color: transparent;\n",
              "      border-left-color: var(--fill-color);\n",
              "      border-top-color: var(--fill-color);\n",
              "    }\n",
              "    30% {\n",
              "      border-color: transparent;\n",
              "      border-left-color: var(--fill-color);\n",
              "      border-top-color: var(--fill-color);\n",
              "      border-right-color: var(--fill-color);\n",
              "    }\n",
              "    40% {\n",
              "      border-color: transparent;\n",
              "      border-right-color: var(--fill-color);\n",
              "      border-top-color: var(--fill-color);\n",
              "    }\n",
              "    60% {\n",
              "      border-color: transparent;\n",
              "      border-right-color: var(--fill-color);\n",
              "    }\n",
              "    80% {\n",
              "      border-color: transparent;\n",
              "      border-right-color: var(--fill-color);\n",
              "      border-bottom-color: var(--fill-color);\n",
              "    }\n",
              "    90% {\n",
              "      border-color: transparent;\n",
              "      border-bottom-color: var(--fill-color);\n",
              "    }\n",
              "  }\n",
              "</style>\n",
              "\n",
              "  <script>\n",
              "    async function quickchart(key) {\n",
              "      const quickchartButtonEl =\n",
              "        document.querySelector('#' + key + ' button');\n",
              "      quickchartButtonEl.disabled = true;  // To prevent multiple clicks.\n",
              "      quickchartButtonEl.classList.add('colab-df-spinner');\n",
              "      try {\n",
              "        const charts = await google.colab.kernel.invokeFunction(\n",
              "            'suggestCharts', [key], {});\n",
              "      } catch (error) {\n",
              "        console.error('Error during call to suggestCharts:', error);\n",
              "      }\n",
              "      quickchartButtonEl.classList.remove('colab-df-spinner');\n",
              "      quickchartButtonEl.classList.add('colab-df-quickchart-complete');\n",
              "    }\n",
              "    (() => {\n",
              "      let quickchartButtonEl =\n",
              "        document.querySelector('#df-1c956c3e-b3bb-47a5-843b-0e66b8347f66 button');\n",
              "      quickchartButtonEl.style.display =\n",
              "        google.colab.kernel.accessAllowed ? 'block' : 'none';\n",
              "    })();\n",
              "  </script>\n",
              "</div>\n",
              "\n",
              "    </div>\n",
              "  </div>\n"
            ],
            "application/vnd.google.colaboratory.intrinsic+json": {
              "type": "dataframe",
              "variable_name": "final_rating",
              "summary": "{\n  \"name\": \"final_rating\",\n  \"rows\": 5689,\n  \"fields\": [\n    {\n      \"column\": \"prod_id\",\n      \"properties\": {\n        \"dtype\": \"string\",\n        \"num_unique_values\": 5689,\n        \"samples\": [\n          \"B00F3T0DKK\",\n          \"B004HW7KDC\",\n          \"B002XN7C6W\"\n        ],\n        \"semantic_type\": \"\",\n        \"description\": \"\"\n      }\n    },\n    {\n      \"column\": \"avg_rating\",\n      \"properties\": {\n        \"dtype\": \"number\",\n        \"std\": 0.5244418871974894,\n        \"min\": 1.375,\n        \"max\": 5.0,\n        \"num_unique_values\": 509,\n        \"samples\": [\n          4.709677419354839,\n          4.052631578947368,\n          2.6666666666666665\n        ],\n        \"semantic_type\": \"\",\n        \"description\": \"\"\n      }\n    },\n    {\n      \"column\": \"rating_count\",\n      \"properties\": {\n        \"dtype\": \"number\",\n        \"std\": 11,\n        \"min\": 5,\n        \"max\": 206,\n        \"num_unique_values\": 93,\n        \"samples\": [\n          41,\n          25,\n          63\n        ],\n        \"semantic_type\": \"\",\n        \"description\": \"\"\n      }\n    }\n  ]\n}"
            }
          },
          "metadata": {},
          "execution_count": 224
        }
      ],
      "source": [
        "# Calculate the average rating for each product\n",
        "prod_average = df_final.groupby('prod_id')['rating'].mean()\n",
        "# Calculate the count of ratings for each product\n",
        "prod_count = df_final.groupby('prod_id')['rating'].count()\n",
        "# Create a dataframe with calculated average and count of ratings\n",
        "final_rating = pd.DataFrame({'avg_rating': prod_average, 'rating_count': prod_count})\n",
        "# Sort the dataframe by average of ratings in the descending order\n",
        "final_rating.sort_values('avg_rating', ascending = False, inplace = True)\n",
        "\n",
        "# See the first five records of the \"final_rating\" dataset\n",
        "final_rating.head(5)"
      ]
    },
    {
      "cell_type": "code",
      "execution_count": null,
      "metadata": {
        "id": "zKU__5s1xhXi"
      },
      "outputs": [],
      "source": [
        "# Defining a function to get the top n products based on the highest average rating and minimum interactions\n",
        "def top_n_products(final_rating, n, min_interaction):\n",
        "\n",
        "# Finding products with minimum number of interactions\n",
        "    recommendations = final_rating[final_rating['rating_count'] > min_interaction]\n",
        "# Sorting values with respect to average rating\n",
        "    recommendations = recommendations.sort_values(by = 'avg_rating', ascending = False)\n",
        "\n",
        "    return recommendations.index[:n]"
      ]
    },
    {
      "cell_type": "markdown",
      "metadata": {
        "id": "F8l6373PxhXi"
      },
      "source": [
        "### **Recommending top 5 products with 50 minimum interactions based on popularity**"
      ]
    },
    {
      "cell_type": "code",
      "execution_count": null,
      "metadata": {
        "id": "dBxdLiM_xhXi",
        "colab": {
          "base_uri": "https://localhost:8080/"
        },
        "outputId": "6188c31b-c92e-4030-c3fe-ee81ea961768"
      },
      "outputs": [
        {
          "output_type": "execute_result",
          "data": {
            "text/plain": [
              "['B001TH7GUU', 'B003ES5ZUU', 'B0019EHU8G', 'B006W8U2MU', 'B000QUUFRW']"
            ]
          },
          "metadata": {},
          "execution_count": 226
        }
      ],
      "source": [
        "list(top_n_products(final_rating, 5, 50))"
      ]
    },
    {
      "cell_type": "markdown",
      "metadata": {
        "id": "l9_xW_UMxhXj"
      },
      "source": [
        "### **Recommending top 5 products with 100 minimum interactions based on popularity**"
      ]
    },
    {
      "cell_type": "code",
      "execution_count": null,
      "metadata": {
        "id": "dZgGZCUoxhXj",
        "colab": {
          "base_uri": "https://localhost:8080/"
        },
        "outputId": "56cf7f79-52c6-4430-8868-53b6110dc299"
      },
      "outputs": [
        {
          "output_type": "execute_result",
          "data": {
            "text/plain": [
              "['B003ES5ZUU', 'B000N99BBC', 'B007WTAJTO', 'B002V88HFE', 'B004CLYEDC']"
            ]
          },
          "metadata": {},
          "execution_count": 227
        }
      ],
      "source": [
        "list(top_n_products(final_rating, 5, 100))"
      ]
    },
    {
      "cell_type": "markdown",
      "metadata": {
        "id": "BL-m68a15JtT",
        "outputId": "69132b0f-8d3f-4798-f6a0-249e17a3c822"
      },
      "source": [
        "We have recommended the **top 5** products by using the popularity recommendation system. Now, let's build a recommendation system using **collaborative filtering.**"
      ]
    },
    {
      "cell_type": "markdown",
      "metadata": {
        "id": "sJI5kiiGvOOK"
      },
      "source": [
        "## **Model 2: Collaborative Filtering Recommendation System**"
      ]
    },
    {
      "cell_type": "markdown",
      "metadata": {
        "id": "skzc0N1_nVNB"
      },
      "source": [
        "### **Building a baseline user-user similarity based recommendation system**"
      ]
    },
    {
      "cell_type": "markdown",
      "metadata": {
        "id": "d4Uo_MYMnVNB"
      },
      "source": [
        "- Below, we are building **similarity-based recommendation systems** using `cosine` similarity and using **KNN to find similar users** which are the nearest neighbor to the given user.  \n",
        "- We will be using a new library, called `surprise`, to build the remaining models. Let's first import the necessary classes and functions from this library."
      ]
    },
    {
      "cell_type": "code",
      "execution_count": null,
      "metadata": {
        "id": "UJ1wEylUpexj"
      },
      "outputs": [],
      "source": [
        "# To compute the accuracy of models\n",
        "from surprise import accuracy\n",
        "\n",
        "# Class is used to parse a file containing ratings, data should be in structure - user ; item ; rating\n",
        "from surprise.reader import Reader\n",
        "\n",
        "# Class for loading datasets\n",
        "from surprise.dataset import Dataset\n",
        "\n",
        "# For tuning model hyperparameters\n",
        "from surprise.model_selection import GridSearchCV\n",
        "\n",
        "# For splitting the rating data in train and test datasets\n",
        "from surprise.model_selection import train_test_split\n",
        "\n",
        "# For implementing similarity-based recommendation system\n",
        "from surprise.prediction_algorithms.knns import KNNBasic\n",
        "\n",
        "# For implementing matrix factorization based recommendation system\n",
        "from surprise.prediction_algorithms.matrix_factorization import SVD\n",
        "\n",
        "# for implementing K-Fold cross-validation\n",
        "from surprise.model_selection import KFold\n",
        "\n",
        "# For implementing clustering-based recommendation system\n",
        "from surprise import CoClustering"
      ]
    },
    {
      "cell_type": "markdown",
      "metadata": {
        "id": "54MqVAtDTsnl"
      },
      "source": [
        "**Before building the recommendation systems, let's  go over some basic terminologies we are going to use:**"
      ]
    },
    {
      "cell_type": "markdown",
      "metadata": {
        "id": "Qsxb3xhnTsnl"
      },
      "source": [
        "**Relevant item:** An item (product in this case) that is actually **rated higher than the threshold rating** is relevant, if the **actual rating is below the threshold then it is a non-relevant item**.  \n",
        "\n",
        "**Recommended item:** An item that's **predicted rating is higher than the threshold is a recommended item**, if the **predicted rating is below the threshold then that product will not be recommended to the user**.  \n"
      ]
    },
    {
      "cell_type": "markdown",
      "metadata": {
        "id": "moyLUHCuTsnl"
      },
      "source": [
        "**False Negative (FN):** It is the **frequency of relevant items that are not recommended to the user**. If the relevant items are not recommended to the user, then the user might not buy the product/item. This would result in the **loss of opportunity for the service provider**, which they would like to minimize.\n",
        "\n",
        "**False Positive (FP):** It is the **frequency of recommended items that are actually not relevant**. In this case, the recommendation system is not doing a good job of finding and recommending the relevant items to the user. This would result in **loss of resources for the service provider**, which they would also like to minimize."
      ]
    },
    {
      "cell_type": "markdown",
      "metadata": {
        "id": "Yuvc2VaZTsnl"
      },
      "source": [
        "**Recall:** It is the **fraction of actually relevant items that are recommended to the user**, i.e., if out of 10 relevant products, 6 are recommended to the user then recall is 0.60. Higher the value of recall better is the model. It is one of the metrics to do the performance assessment of classification models.\n",
        "\n",
        "**Precision:** It is the **fraction of recommended items that are relevant actually**, i.e., if out of 10 recommended items, 6 are found relevant by the user then precision is 0.60. The higher the value of precision better is the model. It is one of the metrics to do the performance assessment of classification models."
      ]
    },
    {
      "cell_type": "markdown",
      "metadata": {
        "id": "8NLc36Y8Tsnm"
      },
      "source": [
        "**While making a recommendation system, it becomes customary to look at the performance of the model. In terms of how many recommendations are relevant and vice-versa, below are some most used performance metrics used in the assessment of recommendation systems.**"
      ]
    },
    {
      "cell_type": "markdown",
      "metadata": {
        "id": "cqF8fRBqTsnm"
      },
      "source": [
        "### **Precision@k, Recall@ k, and F1-score@k**"
      ]
    },
    {
      "cell_type": "markdown",
      "metadata": {
        "id": "imMJNF0HTsnm"
      },
      "source": [
        "**Precision@k** - It is the **fraction of recommended items that are relevant in `top k` predictions**. The value of k is the number of recommendations to be provided to the user. One can choose a variable number of recommendations to be given to a unique user.  \n",
        "\n",
        "\n",
        "**Recall@k** - It is the **fraction of relevant items that are recommended to the user in `top k` predictions**.\n",
        "\n",
        "**F1-score@k** - It is the **harmonic mean of Precision@k and Recall@k**. When **precision@k and recall@k both seem to be important** then it is useful to use this metric because it is representative of both of them."
      ]
    },
    {
      "cell_type": "markdown",
      "metadata": {
        "id": "jBW4BUhWTsnm"
      },
      "source": [
        "### **Some useful functions**"
      ]
    },
    {
      "cell_type": "markdown",
      "metadata": {
        "id": "QOBHKh0eTsnm"
      },
      "source": [
        "- Below function takes the **recommendation model** as input and gives the **precision@k, recall@k, and F1-score@k** for that model.  \n",
        "- To compute **precision and recall**, **top k** predictions are taken under consideration for each user.\n",
        "- We will use the precision and recall to compute the F1-score."
      ]
    },
    {
      "cell_type": "code",
      "execution_count": null,
      "metadata": {
        "id": "Rxn-GahOTsnm"
      },
      "outputs": [],
      "source": [
        "def precision_recall_at_k(model, k = 10, threshold = 3.5):\n",
        "    \"\"\"Return precision and recall at k metrics for each user\"\"\"\n",
        "\n",
        "    # First map the predictions to each user\n",
        "    user_est_true = defaultdict(list)\n",
        "\n",
        "    # Making predictions on the test data\n",
        "    predictions = model.test(testset)\n",
        "\n",
        "    for uid, _, true_r, est, _ in predictions:\n",
        "        user_est_true[uid].append((est, true_r))\n",
        "\n",
        "    precisions = dict()\n",
        "    recalls = dict()\n",
        "    for uid, user_ratings in user_est_true.items():\n",
        "\n",
        "        # Sort user ratings by estimated value\n",
        "        user_ratings.sort(key = lambda x: x[0], reverse = True)\n",
        "\n",
        "        # Number of relevant items\n",
        "        n_rel = sum((true_r >= threshold) for (_, true_r) in user_ratings)\n",
        "\n",
        "        # Number of recommended items in top k\n",
        "        n_rec_k = sum((est >= threshold) for (est, _) in user_ratings[:k])\n",
        "\n",
        "        # Number of relevant and recommended items in top k\n",
        "        n_rel_and_rec_k = sum(((true_r >= threshold) and (est >= threshold))\n",
        "                              for (est, true_r) in user_ratings[:k])\n",
        "\n",
        "        # Precision@K: Proportion of recommended items that are relevant\n",
        "        # When n_rec_k is 0, Precision is undefined. Therefore, we are setting Precision to 0 when n_rec_k is 0\n",
        "\n",
        "        precisions[uid] = n_rel_and_rec_k / n_rec_k if n_rec_k != 0 else 0\n",
        "\n",
        "        # Recall@K: Proportion of relevant items that are recommended\n",
        "        # When n_rel is 0, Recall is undefined. Therefore, we are setting Recall to 0 when n_rel is 0\n",
        "\n",
        "        recalls[uid] = n_rel_and_rec_k / n_rel if n_rel != 0 else 0\n",
        "\n",
        "    # Mean of all the predicted precisions are calculated.\n",
        "    precision = round((sum(prec for prec in precisions.values()) / len(precisions)), 3)\n",
        "\n",
        "    # Mean of all the predicted recalls are calculated.\n",
        "    recall = round((sum(rec for rec in recalls.values()) / len(recalls)), 3)\n",
        "\n",
        "    accuracy.rmse(predictions)\n",
        "\n",
        "    print('Precision: ', precision) # Command to print the overall precision\n",
        "\n",
        "    print('Recall: ', recall) # Command to print the overall recall\n",
        "\n",
        "    print('F_1 score: ', round((2*precision*recall)/(precision+recall), 3)) # Formula to compute the F-1 score"
      ]
    },
    {
      "cell_type": "markdown",
      "metadata": {
        "id": "_ZmsamDVyek-"
      },
      "source": [
        "**Hints:**\n",
        "\n",
        "- To compute **precision and recall**, a **threshold of 3.5 and k value of 10 can be considered for the recommended and relevant ratings**.\n",
        "- Think about the performance metric to choose."
      ]
    },
    {
      "cell_type": "markdown",
      "metadata": {
        "id": "8hxjJMTwnVNB"
      },
      "source": [
        "Below we are loading the **`rating` dataset**, which is a **pandas DataFrame**, into a **different format called `surprise.dataset.DatasetAutoFolds`**, which is required by this library. To do this, we will be **using the classes `Reader` and `Dataset`.**"
      ]
    },
    {
      "cell_type": "code",
      "execution_count": null,
      "metadata": {
        "id": "rGfYDiOCpe4X"
      },
      "outputs": [],
      "source": [
        "# Instantiating Reader scale with expected rating scale\n",
        "reader = Reader(rating_scale = (0, 5))\n",
        "# Loading the rating dataset\n",
        "data = Dataset.load_from_df(df_final[['user_id', 'prod_id', 'rating']], reader)\n",
        "# Splitting the data into train and test datasets\n",
        "trainset, testset = train_test_split(data, test_size = 0.2, random_state = 42)"
      ]
    },
    {
      "cell_type": "markdown",
      "metadata": {
        "id": "DmHTEt7TnVNC"
      },
      "source": [
        "Now, we are **ready to build the first baseline similarity-based recommendation system** using the cosine similarity."
      ]
    },
    {
      "cell_type": "markdown",
      "metadata": {
        "id": "SVDfVHB4tQfU"
      },
      "source": [
        "### **Building the user-user Similarity-based Recommendation System**"
      ]
    },
    {
      "cell_type": "code",
      "execution_count": null,
      "metadata": {
        "id": "vO3FL7iape8A",
        "scrolled": false,
        "colab": {
          "base_uri": "https://localhost:8080/"
        },
        "outputId": "faaf4689-42a3-4460-e8c3-9e44ee487099"
      },
      "outputs": [
        {
          "output_type": "stream",
          "name": "stdout",
          "text": [
            "RMSE: 1.0012\n",
            "Precision:  0.855\n",
            "Recall:  0.858\n",
            "F_1 score:  0.856\n"
          ]
        }
      ],
      "source": [
        "# Declaring the similarity options\n",
        "sim_options = {'name': 'cosine',\n",
        "               'user_based': True}\n",
        "\n",
        "# Initialize the KNNBasic model using sim_options declared, Verbose = False, and setting random_state = 1\n",
        "sim_user_user = KNNBasic(sim_options = sim_options, verbose = False, random_state = 1)\n",
        "\n",
        "# Fit the model on the training data\n",
        "sim_user_user.fit(trainset)\n",
        "\n",
        "# Let us compute precision@k, recall@k, and f_1 score using the precision_recall_at_k function defined above\n",
        "precision_recall_at_k(sim_user_user)"
      ]
    },
    {
      "cell_type": "markdown",
      "metadata": {
        "id": "nEuJK_A9Tsnn"
      },
      "source": [
        "**Write your observations here:**\n",
        "* We calculate the RMSE value to check how far is the actual rating from the predicted rating.\n",
        "* The prediction is 85.8% which means, that out of the overall recommended products 85.8% were relevant to the user.\n",
        "The recall is 85.6% which means, that throughout all the relevent products, only 85.8% are recommended to the user.\n",
        "* The F1 score is 0.856 which shows that most of the recommended products are relevant and relevant products were ultimately recommended to the user.\n",
        "F1 score of 0.856 suggests that the model is performing well in terms of classifying the ratings, effectively identifying positive ratings without generating too many false positives."
      ]
    },
    {
      "cell_type": "markdown",
      "metadata": {
        "id": "reFD0-nsnVNC"
      },
      "source": [
        "Let's now **predict rating for a user with `userId=A3LDPF5FMB782Z` and `productId=1400501466`** as shown below. Here the user has already interacted or watched the product with productId '1400501466' and given a rating of 5."
      ]
    },
    {
      "cell_type": "code",
      "execution_count": null,
      "metadata": {
        "id": "Sxd23bZ9pe_x",
        "colab": {
          "base_uri": "https://localhost:8080/"
        },
        "outputId": "5db39fea-4738-4e99-c67b-9197e8225084"
      },
      "outputs": [
        {
          "output_type": "stream",
          "name": "stdout",
          "text": [
            "user: A3LDPF5FMB782Z item: 1400501466 r_ui = 5.00   est = 3.40   {'actual_k': 5, 'was_impossible': False}\n"
          ]
        },
        {
          "output_type": "execute_result",
          "data": {
            "text/plain": [
              "Prediction(uid='A3LDPF5FMB782Z', iid='1400501466', r_ui=5, est=3.4, details={'actual_k': 5, 'was_impossible': False})"
            ]
          },
          "metadata": {},
          "execution_count": 232
        }
      ],
      "source": [
        "# Predicting rating for a sample user with an interacted product\n",
        "sim_user_user.predict(\"A3LDPF5FMB782Z\", \"1400501466\", r_ui = 5, verbose = True)"
      ]
    },
    {
      "cell_type": "markdown",
      "metadata": {
        "id": "ENJcqG_wemRH"
      },
      "source": [
        "**Write your observations here:**\n",
        "* The above output shows that the actual rating for this user-product pair is 5 and the predicted rating is 3.40 by the user-user-similarity-based recommedation model. This implies that the model is under-estimating the ratings."
      ]
    },
    {
      "cell_type": "markdown",
      "metadata": {
        "id": "cj6ecbglTsno"
      },
      "source": [
        "Below is the **list of users who have not seen the product with product id \"1400501466\"**."
      ]
    },
    {
      "cell_type": "code",
      "execution_count": null,
      "metadata": {
        "id": "xCRBMD-RTsno",
        "colab": {
          "base_uri": "https://localhost:8080/"
        },
        "outputId": "3e578406-62c7-4be1-f9ac-cb41e7f50ad1"
      },
      "outputs": [
        {
          "output_type": "execute_result",
          "data": {
            "text/plain": [
              "['A2ZR3YTMEEIIZ4',\n",
              " 'A3CLWR1UUZT6TG',\n",
              " 'A5JLAU2ARJ0BO',\n",
              " 'A1P4XD7IORSEFN',\n",
              " 'A341HCMGNZCBIT',\n",
              " 'A3HPCRD9RX351S',\n",
              " 'A1DQHS7MOVYYYA',\n",
              " 'ALUNVOQRXOZIA',\n",
              " 'A19N3S7CBSU6O7',\n",
              " 'A3G7BEJJCPD6DS',\n",
              " 'A2JXS1JII6SAUD',\n",
              " 'A1C82BC5GNABOA',\n",
              " 'A1VHCO8RQFIGQJ',\n",
              " 'A2Z9S2RQD542CP',\n",
              " 'A2QIC4G483SQQA',\n",
              " 'A3L6L5O89JTX2T',\n",
              " 'A1OGCPMSIVK7G4',\n",
              " 'A18HE80910BTZI',\n",
              " 'A3F9CBHV4OHFBS',\n",
              " 'A1T1YSCDW0PD25',\n",
              " 'ABVYGB2TKBO8F',\n",
              " 'A11ED8O95W2103',\n",
              " 'A3NCIN6TNL0MGA',\n",
              " 'ASHJAZC9OA9NS',\n",
              " 'A105TOJ6LTVMBG',\n",
              " 'A14JBDSWKPKTZA',\n",
              " 'A3QX0ERX4D03TF',\n",
              " 'A13WREJ05GMRA6',\n",
              " 'A3N8O68DOEQ2FE',\n",
              " 'A3J8A5L5AF5TX9',\n",
              " 'A2HRHF83I3NDGT',\n",
              " 'A1R3GN9MEJFXM3',\n",
              " 'A3963R7EPE3A7E',\n",
              " 'A2JOPUWVV0XQJ3',\n",
              " 'AAW7X3GRD8GY9',\n",
              " 'A3V8P0O224OBDB',\n",
              " 'AY6A8KPYCE6B0',\n",
              " 'A212MDP6K4VJS5',\n",
              " 'A28X0LT2100RL1',\n",
              " 'A1V3TRGWOMA8LC',\n",
              " 'A1NZLRAZJGD99W',\n",
              " 'A1522TN5FVJL0Y',\n",
              " 'A3UXW18DP4WSD6',\n",
              " 'A3CW0ZLUO5X2B1',\n",
              " 'A3TBMGNSEQBWIL',\n",
              " 'AEZJTA4KDIWY8',\n",
              " 'A22CW0ZHY3NJH8',\n",
              " 'A2V7EO331SFUF6',\n",
              " 'A3977M5S0GIG5H',\n",
              " 'A1F1A0QQP2XVH5',\n",
              " 'A231WM2Z2JL0U3',\n",
              " 'A2JWF9IG8PJAOA',\n",
              " 'A3LWC833HQIG7J',\n",
              " 'A38RMU1Y5TDP9',\n",
              " 'A3D822N1K2IAQD',\n",
              " 'A33775AIB1A664',\n",
              " 'ARXU3FESTWMJJ',\n",
              " 'A3A15L96IYUO6V',\n",
              " 'A3PGVJF37JSHFO',\n",
              " 'A2WJ5XSE4I9F55',\n",
              " 'A1V5TRJXTI6F01',\n",
              " 'ATOKT8QYK967L',\n",
              " 'ANRS196NKFVUU',\n",
              " 'A3639Z6O5JBLIZ',\n",
              " 'A3ER6ARJ23CIN8',\n",
              " 'A33152QEGO2MZN',\n",
              " 'A3HRDRQ5VAFPQS',\n",
              " 'A1KY5G5FP31F2F',\n",
              " 'A1MQQEM7W77L62',\n",
              " 'AUCIFMWP3DU8R',\n",
              " 'ALHC64J88LVWO',\n",
              " 'A2PC9ZZIFV31B1',\n",
              " 'A54S9CIUV5VNB',\n",
              " 'A1XE3M22N91451',\n",
              " 'A313H6238N589',\n",
              " 'A3SDJ70H00OQCJ',\n",
              " 'A2WB7LZ595CR50',\n",
              " 'A356RFKNIG043B',\n",
              " 'AW6A4PPENVZY3',\n",
              " 'A149RNR5RH19YY',\n",
              " 'A32LX4XJ2LU740',\n",
              " 'A1J75JJ0Q2OEJN',\n",
              " 'A6FIAB28IS79',\n",
              " 'A2RWHTNM5P3I8Y',\n",
              " 'A3077MQTAKOVFZ',\n",
              " 'A1FF2PLA84KNAE',\n",
              " 'A1CM4HI4S5P0WO',\n",
              " 'A3775OP5VTX5ON',\n",
              " 'A2QAOP52OEB5EV',\n",
              " 'A1KD8NJPZ01R37',\n",
              " 'A7Y6AVS576M03',\n",
              " 'A1B6O7SAIYG2N0',\n",
              " 'A1KDUQ2HU0WD68',\n",
              " 'A3RGHO0Q938FRS',\n",
              " 'A4GGT6O0GQNV2',\n",
              " 'A1LHMSY3Q46PJS',\n",
              " 'A18EA7MNLXP9H5',\n",
              " 'A1U5IJHJK84S54',\n",
              " 'A1B4MIXYVIKMU2',\n",
              " 'A2BMZRO0H7TFCS',\n",
              " 'A2EZTM9WY5B5IL',\n",
              " 'A298GL2D0BHGKZ',\n",
              " 'A34LQ791ACZ0JC',\n",
              " 'A1ZM846Y7AUYD',\n",
              " 'A2IIAQ7VVAHXTD',\n",
              " 'A1U4GOVZWL8ZTL',\n",
              " 'A2MCRCK1V61FWQ',\n",
              " 'A1F9Z42CFF9IAY',\n",
              " 'A32AFX2PUJ82HG',\n",
              " 'A3EQQHWJ1EEYEU',\n",
              " 'A2QI2JHSIQ3SN3',\n",
              " 'A506HOOCVL8GW',\n",
              " 'A3GQY0TFRG0MPZ',\n",
              " 'A54SG05AV6S4H',\n",
              " 'A1URXSRV6WDHVY',\n",
              " 'A1B8EJQU73YGL9',\n",
              " 'A2WLNSZ9U0T1S3',\n",
              " 'A2T3S3VTW65VO5',\n",
              " 'A1V4VVBQBFXRHC',\n",
              " 'AKT8TGIT6VVZ5',\n",
              " 'A1MJMYLRTZ76ZX',\n",
              " 'AS8C336DDLSO4',\n",
              " 'A32QOZWIKQDNZX',\n",
              " 'APQQK1V695AUE',\n",
              " 'AW68KVDV7BBRS',\n",
              " 'A2MOJANFPX353G',\n",
              " 'A3OXHLG6DIBRW8',\n",
              " 'A2AF0NOCM71J0B',\n",
              " 'A250AXLRBVYKB4',\n",
              " 'A2EF8N7ZE7ONWX',\n",
              " 'AE88D7OM7YU99',\n",
              " 'A3J2YU2D9BH2J7',\n",
              " 'A4IL0CLL27Q33',\n",
              " 'AAR7CEPXYJA0T',\n",
              " 'A100WO06OQR8BQ',\n",
              " 'A3NGOG8Z78AZSD',\n",
              " 'A1R19YYR5OR26T',\n",
              " 'A2MOD50IHEDH3G',\n",
              " 'A3TAS1AG6FMBQW',\n",
              " 'AHIK7BUXFRMT8',\n",
              " 'A23GFTVIETX7DS',\n",
              " 'A36K2N527TXXJN',\n",
              " 'A3HC7NWLKCPX4X',\n",
              " 'A1EH2S92FHWZRP',\n",
              " 'AZOK5STV85FBJ',\n",
              " 'AHNHLGKIZ2N3B',\n",
              " 'AN81JUYW2SL24',\n",
              " 'A3QMJMTLJC34QC',\n",
              " 'AT2J7H5TRZM8Z',\n",
              " 'A3NHUQ33CFH3VM',\n",
              " 'AYMD77ITD15PT',\n",
              " 'A1IU7S4HCK1XK0',\n",
              " 'A2NYK9KWFMJV4Y',\n",
              " 'A1D27BCSYV7VWH',\n",
              " 'A1BC62X6HZJGZR',\n",
              " 'A34UVV757IKPVB',\n",
              " 'A2ED50E3KWKUKW',\n",
              " 'A21NS06GDEA3V0',\n",
              " 'ASJSX783R5HTZ',\n",
              " 'ADOR3TR7GDF68',\n",
              " 'A15XI2BEGGFEOW',\n",
              " 'AZCE11PSTCH1L',\n",
              " 'A6VPK7X53QNAQ',\n",
              " 'A1VJ0V58N0698J',\n",
              " 'A30J7WQV0ZNRXG',\n",
              " 'A2IFGGXG3YV3Y6',\n",
              " 'AEJAGHLC675A7',\n",
              " 'A259MPG6SOL02P',\n",
              " 'A1RPTVW5VEOSI',\n",
              " 'A1U5NWJOYH2QQH',\n",
              " 'A1AQ8JT2A3UWMY',\n",
              " 'A2SKEQT0WTB954',\n",
              " 'ARC5ASW9CUAGP',\n",
              " 'A3AGQAXTX6VRJ3',\n",
              " 'A1R377IPZOKLMM',\n",
              " 'AZAC8O310IK4E',\n",
              " 'AJCR7L4AXL2OG',\n",
              " 'AGEWOMQ90BV8R',\n",
              " 'A3EP26M3QHINXT',\n",
              " 'A1ODOGXEYECQQ8',\n",
              " 'A2AEZQ3DGBBLPR',\n",
              " 'A1TDR7Y90SVCHL',\n",
              " 'A87CILADRIZW0',\n",
              " 'A3EZEP0FX5BC1P',\n",
              " 'ATDE9JYCPI0L1',\n",
              " 'A2X8KN82L07RSK',\n",
              " 'AMKNPIDFLRFMP',\n",
              " 'A3GFQHHVMEAIO',\n",
              " 'A1JWSDDIH5Z7DV',\n",
              " 'A2SL5IW096Z2BL',\n",
              " 'AUITG1DJ3QUGK',\n",
              " 'A3TPNC3TKGCCEI',\n",
              " 'A1EXGL6L0QQ0M5',\n",
              " 'A2B7BUH8834Y6M',\n",
              " 'A1GNYV0RA0EQSS',\n",
              " 'A1SDPA1J98UP4L',\n",
              " 'A225G2TFM76GYX',\n",
              " 'A19W47CXJJP1MI',\n",
              " 'A1Z7U9K6X3FEOU',\n",
              " 'A1L1N3J6XNABO2',\n",
              " 'A1SX9PHJWTDMF9',\n",
              " 'A1GBT4UN2RW7XY',\n",
              " 'A35W3JQYP0M655',\n",
              " 'A3TA1UJWRJF9NC',\n",
              " 'A35HUT8MQMT21L',\n",
              " 'A2R6RA8FRBS608',\n",
              " 'A2HDTOF8222KN3',\n",
              " 'AT28RL25Q2OLK',\n",
              " 'A11D1KHM7DVOQK',\n",
              " 'A3T7V207KRDE2O',\n",
              " 'A3FS3FJPD3RJTD',\n",
              " 'AN9CP6J4JF91X',\n",
              " 'A145LBW8ZHF0TW',\n",
              " 'A365PBEOWM7EI7',\n",
              " 'A2HMF8ZR67BNZS',\n",
              " 'A4WEZJOIZIV4U',\n",
              " 'A1C5WS021EL3WO',\n",
              " 'A17Z0LVY96TO53',\n",
              " 'A2UQK3DAZ8NO2T',\n",
              " 'A5KMMY627T3W',\n",
              " 'A5MCDQ60DWUEV',\n",
              " 'A1HSM98KUGTHNY',\n",
              " 'A2PK64OVZA1U8Z',\n",
              " 'A3R1GJY2MY8041',\n",
              " 'A1X3DA7C61WZLQ',\n",
              " 'A1YVO5V1SO18DZ',\n",
              " 'A12DQZKRKTNF5E',\n",
              " 'A74UT8IQCM0I2',\n",
              " 'A30XZK10EZN9V4',\n",
              " 'A203OCQQ12MAVT',\n",
              " 'A26CPEEWB2WKRE',\n",
              " 'A2XX2A4OJCDNLZ',\n",
              " 'A11KZ906QD08C5',\n",
              " 'A2J3VCGBNDLAKF',\n",
              " 'A1ZTR0FR5AW9B4',\n",
              " 'A25TNBMJ4ZO7RD',\n",
              " 'A14I1F2H7NOYDC',\n",
              " 'A3CFU12GS5CZCN',\n",
              " 'A1V4A5U5O3TMMD',\n",
              " 'A3PD8JD9L4WEII',\n",
              " 'A1FDV3WPOHREY9',\n",
              " 'A194Y47BF3CUTJ',\n",
              " 'A26LD9FQHTM8ZH',\n",
              " 'A3QDY9I0CNMD2W',\n",
              " 'A2J0IBS4PFRO2C',\n",
              " 'A3SX5MZTCZRQLF',\n",
              " 'AGXV8E7XK9J6H',\n",
              " 'A10Y058K7B96C6',\n",
              " 'A3Q4TYJVAM4IRM',\n",
              " 'A3PJJTAKISAFI9',\n",
              " 'A3REK3OFONWB1Q',\n",
              " 'A3L9E0YI7C5G0W',\n",
              " 'A1H98YV5K5BUX0',\n",
              " 'A4UGMKUSX9XHI',\n",
              " 'A3P4T1DKRWTL36',\n",
              " 'AQNSQW4495SG0',\n",
              " 'A21T0D2F7SKG5S',\n",
              " 'A3OYO7B6SS7QLH',\n",
              " 'A23E9QQHJLNGUI',\n",
              " 'A3QU3O79AGNWCY',\n",
              " 'A2GMZZ6TDYOHY7',\n",
              " 'A3TR3KLL5PXSZ8',\n",
              " 'AHF4I1FSIHABC',\n",
              " 'A1RJKTYC03L0JY',\n",
              " 'A2ARDVMUGDFED6',\n",
              " 'AIJQU979J6UFY',\n",
              " 'A3EPJSPH03AS29',\n",
              " 'A1N3EH28S4DI8L',\n",
              " 'A2DS9DLMSU2M2Z',\n",
              " 'A24HWYHR28JJ7A',\n",
              " 'A25C2M3QF9G7OQ',\n",
              " 'A30C8WHQ2CYFO4',\n",
              " 'A2W9GX82SLKROQ',\n",
              " 'A3EZFFPVS34AMO',\n",
              " 'AAQ9NJ480N9W5',\n",
              " 'A2PY5ED630H0QJ',\n",
              " 'A3CEUT263RNUDO',\n",
              " 'A1PSVZBM894R5H',\n",
              " 'A2XU6J41ZQOJ2V',\n",
              " 'A3N4VTNFPMTHEF',\n",
              " 'AQ55H30MZSV0Q',\n",
              " 'A11R5VW7IM6ISQ',\n",
              " 'A2NP9CGUSFP22E',\n",
              " 'A1D9V11QUHXENQ',\n",
              " 'A9BWUH9XKZ2DQ',\n",
              " 'A17W0GMB0YY83M',\n",
              " 'A3IOQ7NVVLAUEE',\n",
              " 'A1X1CEGHTHMBL1',\n",
              " 'A3V0YR50F1XSKP',\n",
              " 'A1CMD08Z49PGKQ',\n",
              " 'AN2IZT80ZUNJN',\n",
              " 'A1CMWB7AWQUQH4',\n",
              " 'A2Y3WWPUKIJ59I',\n",
              " 'A3QDMDSANPYGUX',\n",
              " 'A3DQWFWINN3V5A',\n",
              " 'A2NX6MFZP8TM6S',\n",
              " 'A100UD67AHFODS',\n",
              " 'A1QRST0A3IQIEF',\n",
              " 'A2WBVO6X3KPMDT',\n",
              " 'AOMEH9W6LHC4S',\n",
              " 'A3QQGPI3CTV9SX',\n",
              " 'A141OPVE376YFI',\n",
              " 'ARBKYIVNYWK3C',\n",
              " 'A3S0DBBR693O06',\n",
              " 'A215IN14OKAE2T',\n",
              " 'A2OOXVZ6B1VZ9A',\n",
              " 'AD9ZL63H0VKCZ',\n",
              " 'A3H4S6YO9VNGDZ',\n",
              " 'A3QUDXLOJTKEP9',\n",
              " 'A1H4IVXNXWWBLV',\n",
              " 'A16HXVNPU5TCGE',\n",
              " 'AZ515FFZ7I2P7',\n",
              " 'A20WUUD9EDWY4N',\n",
              " 'A1REY92IEZJUSX',\n",
              " 'A253IOATGMT2UP',\n",
              " 'A3G007LQX6KGOD',\n",
              " 'ABMN74TBW5UWE',\n",
              " 'A38NELQT98S4H8',\n",
              " 'A38NHXL5257E3B',\n",
              " 'A19X4BF861LQST',\n",
              " 'A2BGZ52M908MJY',\n",
              " 'A7QMQBGJ2TCQG',\n",
              " 'A2ZRMCRLDSUX6R',\n",
              " 'A2EMUM49CE0JV4',\n",
              " 'A1IG1I6MR3HAWA',\n",
              " 'AA8RBTN3J2F5H',\n",
              " 'AK3GKIV8DEY8B',\n",
              " 'A2YRX8J4WM5BRX',\n",
              " 'AU627A4UGIW6V',\n",
              " 'A16RL0RMRF974O',\n",
              " 'AR8LWDT6TUKNZ',\n",
              " 'A32T2H8150OJLU',\n",
              " 'AHR86ZEYETLJI',\n",
              " 'A11P105WVK5240',\n",
              " 'AU2UJF4I7KAWL',\n",
              " 'A9Y5O2R4D6EH5',\n",
              " 'A32482Z7XIKDQX',\n",
              " 'A2FXBWR4T4OFQ',\n",
              " 'A3DOPYDOS49I3T',\n",
              " 'A1FLJCHN5CG5M5',\n",
              " 'A1NNMOD9H36Q8E',\n",
              " 'A1FXT4VNDA25LY',\n",
              " 'A1PV5T5S4D5NPI',\n",
              " 'A3E68EBGXTWDNP',\n",
              " 'A2YEZ8Z3BW2SKG',\n",
              " 'A3TRY87JJCA5Y8',\n",
              " 'ANXEW7IDYDJEH',\n",
              " 'A1SFPA80X7TRBR',\n",
              " 'AFR9GYKAHM37U',\n",
              " 'AWH2AY17ZU7W2',\n",
              " 'A2ALRZ0ENQLYY5',\n",
              " 'A3PU3EDJ2FG1AW',\n",
              " 'A2Q7OJTVPIO2XH',\n",
              " 'A1VVRA3P6G1TWH',\n",
              " 'AH3LF9RAD1O2V',\n",
              " 'A30ADSBTWCORYC',\n",
              " 'A8X478DM3KAWM',\n",
              " 'A376OJHLE6SU9Q',\n",
              " 'A1VQHH85U7PX0',\n",
              " 'AGVWTYW0ULXHT',\n",
              " 'A1ZVFCPHCWFV71',\n",
              " 'AEAFHD09X8044',\n",
              " 'A12ANFNOSMW5VD',\n",
              " 'A28RSMADFCBJDT',\n",
              " 'A2TA40MV2H4O6F',\n",
              " 'A1VRANSQ0WF1YS',\n",
              " 'A2XRMQA6PJ5ZJ8',\n",
              " 'A3FPSY1M6G7XIB',\n",
              " 'A2NOW4U7W3F7RI',\n",
              " 'A1MFAPVBW9BEGD',\n",
              " 'A2J8T58Z4X15IO',\n",
              " 'A1TQZUSOU22E9M',\n",
              " 'A1XXMNLOLKNO0I',\n",
              " 'A197T2N6RU7K56',\n",
              " 'A3JU16JTNLVK1J',\n",
              " 'A3TBMAWIIHKHFN',\n",
              " 'A27H61OHW44XA7',\n",
              " 'A20G074MWH9U7O',\n",
              " 'A22R9L5DAVYYWR',\n",
              " 'A33HIV8RXRDM88',\n",
              " 'AAEVGE52KL0DJ',\n",
              " 'A1VLE2SH9J8WYS',\n",
              " 'A2GYV87WW0DMSN',\n",
              " 'A1LA4K5JF78BER',\n",
              " 'A1QVFHPY8418HC',\n",
              " 'ADLVFFE4VBT8',\n",
              " 'A33SX0AD5PYD9B',\n",
              " 'A1E55W6ES0FY17',\n",
              " 'A31N0XY2UTB25C',\n",
              " 'A314KKDIJWCNMV',\n",
              " 'A2LEIANN1UZTHP',\n",
              " 'AT6CZDCP4TRGA',\n",
              " 'A3D7BGK0P5QY0X',\n",
              " 'A33ZYFE8XMKKR1',\n",
              " 'A1KWPIORLG2QV',\n",
              " 'AUBEFRFHJR64Y',\n",
              " 'A2V5M5EJPOD2IU',\n",
              " 'A200DY76VXVGP9',\n",
              " 'A3EFSLEMHNPP6A',\n",
              " 'AWNJAY0M5UI70',\n",
              " 'A2SATO5BNKWY3Y',\n",
              " 'A2F7CSE6KT7NI4',\n",
              " 'A10X9ME6R66JDX',\n",
              " 'AXU8RH1DEV21H',\n",
              " 'A19HT7YC1UW3D6',\n",
              " 'AD8DLOGHAXL',\n",
              " 'A16CVJUQOB6GIB',\n",
              " 'A1MFPAM9TTRTXN',\n",
              " 'AROQO2VDODT7',\n",
              " 'A2LCE1D0TW2XY0',\n",
              " 'A16SRDVPBXN69C',\n",
              " 'A3OA4DV4L81N1D',\n",
              " 'A2T689YVOAYGGD',\n",
              " 'A2RIL2NXHE00AQ',\n",
              " 'A1ILWPH1GHUXE2',\n",
              " 'A2NSMJVQY0RV9S',\n",
              " 'A1QNYLBG73QRNF',\n",
              " 'A31ICLWQ9CSHRS',\n",
              " 'A3FKQQTSMHOCE0',\n",
              " 'A3Q1J68QY1MZQ9',\n",
              " 'AZNUHQSHZHSUE',\n",
              " 'A1EKSETIBS9ETQ',\n",
              " 'AQ3IN3MRXQ5KH',\n",
              " 'AWJWCKB92RJX2',\n",
              " 'A1OMXVXXP07F05',\n",
              " 'A34VRVI4CSI5RQ',\n",
              " 'A17HMM1M7T9PJ1',\n",
              " 'A2D1LPEUCTNT8X',\n",
              " 'A23D13HKTA95WX',\n",
              " 'A3IUW081KXD3PE',\n",
              " 'A11ULAZ4B5ZXC8',\n",
              " 'A23NSKTMSPPBTR',\n",
              " 'A19XMHRB3G4DIR',\n",
              " 'AG0PM9IAHQ06C',\n",
              " 'A22S7D0LP8GRDH',\n",
              " 'A9J4UURM4OSDW',\n",
              " 'A2DF62DP20RIXF',\n",
              " 'ACSX5AIZE3MJ9',\n",
              " 'ADHA1W879JNT0',\n",
              " 'A3NOBH42C7UI5M',\n",
              " 'A22MANL4US4RMY',\n",
              " 'A19FRW264WZTGP',\n",
              " 'A3CJ7MHAS9IMAM',\n",
              " 'A3KTWUXXB8KKC7',\n",
              " 'A3FEJ8H2VTN0OJ',\n",
              " 'ATNOI7E8GTIVE',\n",
              " 'AMUP8DYE7EAN2',\n",
              " 'A3INN916E4VION',\n",
              " 'AOWF9T81XMX2S',\n",
              " 'A2Y29IRSI08F0I',\n",
              " 'A196JN53PG0C7R',\n",
              " 'A2L4W1M5YU5QX3',\n",
              " 'A6VXZ1EEPRTLV',\n",
              " 'AV10H5K6VPQIJ',\n",
              " 'A2UEB48LAWFUCW',\n",
              " 'A26BDXG9KVH7SU',\n",
              " 'A3IY316DRNF5F2',\n",
              " 'ATS2855497V0I',\n",
              " 'A1XB7JGJ459ERP',\n",
              " 'A2NOIWPJDD7WIQ',\n",
              " 'AC6Z7DP1Z5GHD',\n",
              " 'A15G70V9OBTOVO',\n",
              " 'A35HNL2VEDK9Z1',\n",
              " 'A15QYHQH80W30L',\n",
              " 'A1SHHQSPOWR00F',\n",
              " 'A324X7RVDAV3FT',\n",
              " 'AGXMC3ITWZASE',\n",
              " 'A294BKN913UOGP',\n",
              " 'A3QNX5KWHDV0GD',\n",
              " 'A1FR68QH6Z4YZM',\n",
              " 'A33YZNZIRA3H97',\n",
              " 'A3O5ASFUXC32UA',\n",
              " 'A2LXX47A0KMJVX',\n",
              " 'A2VODABWSVHV8E',\n",
              " 'AGOH8N902URMW',\n",
              " 'ACYZXQ2JKPZKT',\n",
              " 'A2SYAQXJGRY3XE',\n",
              " 'A1435P5AMCPB3X',\n",
              " 'ABDR6IJ93HFIO',\n",
              " 'A1F5O1USOUOOXI',\n",
              " 'A2RW587355CMVA',\n",
              " 'A1Q5P5ML3176C0',\n",
              " 'AY3XPKRAMKKY7',\n",
              " 'A1PAGHECG401K1',\n",
              " 'A2D1ZQEFS1NBH2',\n",
              " 'A10O7THJ2O20AG',\n",
              " 'A5Q1FK0FWU7DH',\n",
              " 'A96JD9312DHWC',\n",
              " 'ADKGE078JK8K7',\n",
              " 'A27QXQQOLAMRRR',\n",
              " 'A35X2JJI49OBZP',\n",
              " 'AU3GYRAKBUAEU',\n",
              " 'AWZR0O65DL2Q',\n",
              " 'A2XJMQ2COPGWJH',\n",
              " 'A8X8D4BUY5DFU',\n",
              " 'A1PN2U0AWXGVML',\n",
              " 'AR1T36GLLAFFX',\n",
              " 'A2RU4U1JZ3DMP5',\n",
              " 'A12LH2100CKQO',\n",
              " 'AGHZXQL9F94T9',\n",
              " 'A3R33KMESG0XGQ',\n",
              " 'A2FWZ58M6IQMD7',\n",
              " 'A4H4KYSM2KQ85',\n",
              " 'A1BT6TL7UCIC5Y',\n",
              " 'A1PL7QILVQV3IF',\n",
              " 'A2TN0U8173HM7A',\n",
              " 'ATFBVUXDIRXT6',\n",
              " 'AOJA1LC8PN7K1',\n",
              " 'A1P3DDFL423B3C',\n",
              " 'A3G5MOHY1U635N',\n",
              " 'A3NXJDNTQK2YJL',\n",
              " 'AI2AOCTC8BQVZ',\n",
              " 'A3NVZTGPORNPRW',\n",
              " 'A3L1VJMHFWONCB',\n",
              " 'A2CWUM49ZWMGEY',\n",
              " 'A2BLFCOPSMBOZ9',\n",
              " 'A233TZONT1OGR0',\n",
              " 'A15TABNGK6L4N3',\n",
              " 'A2PJH18W4XHTZW',\n",
              " 'A370XYLIZCSK1Y',\n",
              " 'AZMY6E8B52L2T',\n",
              " 'A1MFVAHTT2BHM0',\n",
              " 'A1BJOHHLG0D965',\n",
              " 'A38Z6QG6988WS7',\n",
              " 'AAK6SOEJY30YG',\n",
              " 'A1QQA7Y92L4F9R',\n",
              " 'A3NKRH3TJ4DPVI',\n",
              " 'A39137LW12KK7B',\n",
              " 'A3D2VIUT2HWP0Z',\n",
              " 'AI8EMB0HUC6Z5',\n",
              " 'A335QXPTV1RIV1',\n",
              " 'A3EXWV8FNSSFL6',\n",
              " 'A2NX6PABLIJLP1',\n",
              " 'A3BI8BKIHESDNQ',\n",
              " 'A1MRPX3RM48T2I',\n",
              " 'A3FFZQKCA7UOYY',\n",
              " 'AOQLV2LSI9B2W',\n",
              " 'A2UTZ4O5E2W4DK',\n",
              " 'AGYH5U11ZKPFB',\n",
              " 'AWPODHOB4GFWL',\n",
              " 'AKBVYIIHWI04B',\n",
              " 'A1G5MI2KREPEIB',\n",
              " 'ABMF4UC4Z00NT',\n",
              " 'A3V15SFD7918WZ',\n",
              " 'A213J54E63SYOP',\n",
              " 'A2JP9E1H0SF392',\n",
              " 'AEL6CQNQXONBX',\n",
              " 'AS7J4952JB5XR',\n",
              " 'A1CPRP3VFJRS1R',\n",
              " 'AFM7FK7NFEKFZ',\n",
              " 'A1LAGS8H4A2DR7',\n",
              " 'A1DO9LRCO23EOM',\n",
              " 'AULFLNWJP1QXY',\n",
              " 'AQM0K7MBBT4AY',\n",
              " 'A1AWL9JASMG904',\n",
              " 'A30JPZ9TZ7I61U',\n",
              " 'A2JRDFIGWTX50J',\n",
              " 'AHROSV6WJOEGY',\n",
              " 'A2AC6GQ24S45GA',\n",
              " 'A16QODENBJVUI1',\n",
              " 'A3Q6ZPW60CVF2L',\n",
              " 'A377LPVLLAI42D',\n",
              " 'A3SL0HA6422W4M',\n",
              " 'ANW6EGY12V5XS',\n",
              " 'A2HXE29CU1I24Y',\n",
              " 'A2NJQF2UI60VGT',\n",
              " 'A2GKMXRLI7KLFP',\n",
              " 'AG35JCCQWDRCS',\n",
              " 'A1Y4EWMUTW73GD',\n",
              " 'A11EXFO14WEJM1',\n",
              " 'AH5BCMZELZSKG',\n",
              " 'A37IRE9GZ0CZ7I',\n",
              " 'A35A2RWUMC737N',\n",
              " 'ANYC38I00IRVK',\n",
              " 'AB094YABX21WQ',\n",
              " 'A2PL06HW6KZH2',\n",
              " 'AMFXXAOVV4CPJ',\n",
              " 'A3KCETSIJNOK56',\n",
              " 'A1QLQCJVGCQPP0',\n",
              " 'AL42PIIG5DXYD',\n",
              " 'A14Z6D3IRJ23F7',\n",
              " 'AFXTKAO0CB354',\n",
              " 'AWSK1ZAEU1KFL',\n",
              " 'A3JNBO7H2SPL44',\n",
              " 'A8CKH8XB33XGN',\n",
              " 'A37CEYB95LK6R6',\n",
              " 'A3V5F050GVZ56Q',\n",
              " 'A2RGA7UGAN3UL7',\n",
              " 'A1OO9N1MRNQ7K0',\n",
              " 'A2J7FHZFKOKGZ6',\n",
              " 'A3QRR8PSCBI07C',\n",
              " 'AK9BXHEXOOM6Z',\n",
              " 'A2ZDY0V4Q1SZD7',\n",
              " 'A1EOTB1WHLSW6G',\n",
              " 'A185O1MX1RP964',\n",
              " 'A23ZXHFLC6TBLD',\n",
              " 'A1VR1HIOVQWN09',\n",
              " 'A1B0NL8UWAELI7',\n",
              " 'A24P4E3RJ6AX94',\n",
              " 'A1WJ3P43SZUNDM',\n",
              " 'A2KYRPDKVBI2R4',\n",
              " 'A2L42QEWR77PKZ',\n",
              " 'A3SRDVCD2ATIIS',\n",
              " 'A3CG93783LP0FO',\n",
              " 'A3NYBI5VMVEEIK',\n",
              " 'A87N6UTYA6NOB',\n",
              " 'A3U6J0DLLDEWM2',\n",
              " 'A2QDOJFFLFGF18',\n",
              " 'A2BX8DDQGCCG2J',\n",
              " 'AG7EF0SVBQOUX',\n",
              " 'ACJT8MUC0LRF0',\n",
              " 'A13WOT3RSXKRD5',\n",
              " 'A1NGFGBX2VCQS8',\n",
              " 'A3KNGMX2RVQG91',\n",
              " 'AZBXKUH4AIW3X',\n",
              " 'A3IRA0BHI9NE9U',\n",
              " 'A22NKFOH9RATRC',\n",
              " 'AFM2J3HJNPIHV',\n",
              " 'A2YYHSORXIHZCS',\n",
              " 'A38CHSS1ZAE51B',\n",
              " 'AYB4ELCS5AM8P',\n",
              " 'A23WPWLYT3P1CZ',\n",
              " 'A3O1FVLUD9X1XC',\n",
              " 'A19EKT8H85AKO5',\n",
              " 'A7EJERNB7IK3Z',\n",
              " 'A3NEAETOSXDBOM',\n",
              " 'A2ER8G4JJJ7XER',\n",
              " 'A1MCH5RXDOH87H',\n",
              " 'A1AH8033GWKBY7',\n",
              " 'AKSFZ4G1AXYFC',\n",
              " 'ACY9QYNDFLVBI',\n",
              " 'A35SNSDRNE9P8Q',\n",
              " 'A2LLSFQO8O8XNW',\n",
              " 'A2CPP7BZKOF9TP',\n",
              " 'A3A4ZAIBQWKOZS',\n",
              " 'A2L36AGL8CKY3D',\n",
              " 'A24J2Y1O22JYZX',\n",
              " 'A2XXBZPQT5EXHV',\n",
              " 'A2UOHALGF2X77Q',\n",
              " 'A3F3B6HY9RJI04',\n",
              " 'AT09WGFUM934H',\n",
              " 'ABUE0ALHKWKHC',\n",
              " 'A2NSXY5L42ZUGO',\n",
              " 'AQR4HPVSOPS08',\n",
              " 'A3LSEIG2PIJYBL',\n",
              " 'AUK79PXTAOJP9',\n",
              " 'A16WP8NTPYB0ZM',\n",
              " 'A2MIP3AQVSF2SS',\n",
              " 'A3MU9G6YWKTGTA',\n",
              " 'APOGXH3A74CM3',\n",
              " 'AY4EXFOO43C3S',\n",
              " 'A2MR696ZU17F12',\n",
              " 'A2NQMVTQ4PVLL',\n",
              " 'A680RUE1FDO8B',\n",
              " 'A2PICNZWHEINQC',\n",
              " 'A1ZXMMQPYC3Z9I',\n",
              " 'AEWYUPCNDV7HY',\n",
              " 'A3M82NO6OU1FHS',\n",
              " 'A1UEL5C1N6E5SE',\n",
              " 'A23ONMGKEWDG4M',\n",
              " 'A30X750M8V1XXW',\n",
              " 'A32HSNCNPRUMTR',\n",
              " 'A3CP3J7OEGQMD5',\n",
              " 'A1OES7R7FDAT2L',\n",
              " 'A2Y1WNETD9AYHO',\n",
              " 'AD0J5KK4WQXNS',\n",
              " 'A3R4794K2RVU1S',\n",
              " 'A1KXJCXS6HFRQZ',\n",
              " 'A2WDCAMKCCP1UR',\n",
              " 'ABE5E8B3J7MKY',\n",
              " 'A1ZU55TM45Y2R8',\n",
              " 'AR74YY08IP2WE',\n",
              " 'A8WEXFRWX1ZHH',\n",
              " 'A1Y051MQ2SVPFI',\n",
              " 'A2X06FP2PQ6EK0',\n",
              " 'A1CST2WUA32GP0',\n",
              " 'A2LF07KCXDR70D',\n",
              " 'A1Z4GII5CHCDG7',\n",
              " 'A2XAKGRUHIE2ZA',\n",
              " 'AFHYEO3Y1IIDD',\n",
              " 'A124WZCUIH2T7W',\n",
              " 'A28I5UM0FT3I6T',\n",
              " 'A3HXGSMCIOZEW8',\n",
              " 'A28LUOEY0ECT9G',\n",
              " 'A2A4X545ERLS7H',\n",
              " 'AHS6PX6H22WW1',\n",
              " 'AQIJ3ZEEVCIKU',\n",
              " 'A1MZL91Z44RN06',\n",
              " 'A1ROUMJOGO4QMB',\n",
              " 'AYP0YPLSP9ISM',\n",
              " 'A37D1ZP8GBHE38',\n",
              " 'A20DZX38KRBIT8',\n",
              " 'A1ZCSSCAGBCD49',\n",
              " 'A3LGT6UZL99IW1',\n",
              " 'A3AYSYSLHU26U9',\n",
              " 'A2LW5AL0KQ9P1M',\n",
              " 'A35IX2GE0VC0JP',\n",
              " 'A17BUUBOU0598B',\n",
              " 'A3W4D8XOGLWUN5',\n",
              " 'A240FRPD4MEXND',\n",
              " 'A1VS1LL905P5L5',\n",
              " 'A3V6Z4RCDGRC44',\n",
              " 'A19RGDJPNZ7NZ',\n",
              " 'A2VAD79S4A06DD',\n",
              " 'A2IFKH3TJ10387',\n",
              " 'A1LYMYNURB9EWW',\n",
              " 'A2KOV8XWZOZ0FQ',\n",
              " 'AAA0TUKS5VBSA',\n",
              " 'A1I96OYAUJ3HQE',\n",
              " 'A1L64KDYO5BOJA',\n",
              " 'A2D0CO1OA6DSWY',\n",
              " 'A2Z2MUP8JRJXEU',\n",
              " 'A21S26XYPGXJZX',\n",
              " 'A2PSD2R9A1CXG7',\n",
              " 'ACHTDPEQYSEQL',\n",
              " 'AQ2FC1DLKVD8H',\n",
              " 'A24ARANWS5E3T8',\n",
              " 'AYCAIHABPYWVJ',\n",
              " 'A2RTVGR9B1M600',\n",
              " 'A6KL17KKN0A5L',\n",
              " 'A3BACUOZV1M0WM',\n",
              " 'A1NJHKPHD4YWZV',\n",
              " 'A1DB5QPH7WO488',\n",
              " 'A1987V5OCO6QHS',\n",
              " 'A362FM6FYA1SYS',\n",
              " 'ALNE7Q71JFC0F',\n",
              " 'AV9PIER7NE448',\n",
              " 'A7KBAXO177NND',\n",
              " 'A1L5TA5UQF7EWE',\n",
              " 'A6XLG77BC9R8R',\n",
              " 'A2J8DE8R94ZB02',\n",
              " 'A3CMO216CWOF5N',\n",
              " 'A3GVXKCTFN3YDN',\n",
              " 'A1TQBAHI3M4ZBQ',\n",
              " 'A28621TSIR5EOG',\n",
              " 'A9ELHLPXF7JKD',\n",
              " 'AETQIN7OH0RL9',\n",
              " 'A27M75LRSJ788H',\n",
              " 'A2BYV7S1QP2YIG',\n",
              " 'A2OKRGHIYTBQ6P',\n",
              " 'A2F2GLVFRNV7JJ',\n",
              " 'A2I357I10ZY7CI',\n",
              " 'A25FL6VLD7S23S',\n",
              " 'A33PVCHCQ2BTN0',\n",
              " 'A1PM7HH4F77NEH',\n",
              " 'AL1XV4L25FZ2S',\n",
              " 'A3V7D0LH8L7BG0',\n",
              " 'A2YHXGPCTENZY3',\n",
              " 'ABH9D1TEOJ56E',\n",
              " 'A3MQAQT8C6D1I7',\n",
              " 'A274MXTX3DYLUV',\n",
              " 'A38KK0SZYEH5UD',\n",
              " 'A206CGM6J75UJY',\n",
              " 'A2I5LVVQ7WXEH6',\n",
              " 'A13BX9O5UDBILC',\n",
              " 'AGILRZOT49R0V',\n",
              " 'A3QAO3QBCQF89T',\n",
              " 'A3F7USIDJBR8WU',\n",
              " 'A3HR0ZZOFKQ97N',\n",
              " 'A2TKWMX4563NR6',\n",
              " 'A1J87SYB3JPQWH',\n",
              " 'A2I2KPNJDQ9SL0',\n",
              " 'A37PV5GMP2ILJC',\n",
              " 'A1VEELTKS8NLZB',\n",
              " 'A2V1J3JT5OOZFO',\n",
              " 'A20DDH4NT6Q1E8',\n",
              " 'A2XQYE6TJYROHQ',\n",
              " 'A15J9K7O10A3M6',\n",
              " 'A3NG7X4APIV649',\n",
              " 'A3IMALU0RM8UT9',\n",
              " 'A2AY4YUOX2N1BQ',\n",
              " 'A2F92M62KN324B',\n",
              " 'A2FSOHSM9X13JT',\n",
              " 'AG2YXYIQ8TLTA',\n",
              " 'APGQTZZ4ZFPHO',\n",
              " 'AXU3VKZE848IY',\n",
              " 'A23R3EOZ837242',\n",
              " 'A1ATVMMJZP3Q4X',\n",
              " 'AOEDWQLH2WKKW',\n",
              " 'A3PPO2X5PJE1L9',\n",
              " 'A3V6QSTG2T9MIO',\n",
              " 'A257X1MQJO82P2',\n",
              " 'A2JE071UW97J2A',\n",
              " 'A3SOJO7Z7R9WIA',\n",
              " 'A1QJ10LEINDRWW',\n",
              " 'A3CIET1UO3G51E',\n",
              " 'A8FKL1DHTHC12',\n",
              " 'A31BD4RXCON7QO',\n",
              " 'A3JAH5WW61N2EK',\n",
              " 'A1Y85GQ09Y95JL',\n",
              " 'A1GQRGB8FGSLIZ',\n",
              " 'AMVXR3NPL0GWX',\n",
              " 'AFQBS241UKPAZ',\n",
              " 'A2L90SGUP36KGA',\n",
              " 'A2HBOG4LVIY15L',\n",
              " 'AOEAD7DPLZE53',\n",
              " 'ASFP250F22MDZ',\n",
              " 'A31RZMVAFMLB8B',\n",
              " 'AFICF7DKHTQ87',\n",
              " 'A2ZY49IDE6TY5I',\n",
              " 'A1BXVZSQOJE6UE',\n",
              " 'A11YOTONCPRQ9S',\n",
              " 'ATZJNEXX7LWD3',\n",
              " 'A24RCBRDXRXR0Y',\n",
              " 'A1E1LEVQ9VQNK',\n",
              " 'A15CL28ALB7MTZ',\n",
              " 'AT8V3JOZD3KWK',\n",
              " 'A21INUA35HX4XQ',\n",
              " 'AVTJEWTCJ3PBE',\n",
              " 'A2HXEJXEQQTM1D',\n",
              " 'A2L0F2T1DLTNT8',\n",
              " 'A1SC5OXLQNGPLN',\n",
              " 'A35C2IVVQR1HTK',\n",
              " 'A1A5KUIIIHFF4U',\n",
              " 'A1NMM0RDRF6R84',\n",
              " 'A10ZFE6YE0UHW8',\n",
              " 'A32JCI4AK2JTTG',\n",
              " 'A3VL4RXCWNSR3H',\n",
              " 'A2HKUM9OEBQKDW',\n",
              " 'A27B1U3OWCU14J',\n",
              " 'A24QFMD1RXLJMB',\n",
              " 'A3TP31S61PPE3G',\n",
              " 'A25HBO5V8S8SEA',\n",
              " 'A3P69DTOXII004',\n",
              " 'A18YMFFJW974QS',\n",
              " 'A1X2LENOF84LCQ',\n",
              " 'A21Q9JVG4SII51',\n",
              " 'AHQRU3MRORIWQ',\n",
              " 'AVPNQUVZWMDSX',\n",
              " 'A32O5FZH994CNY',\n",
              " 'A2HPJKM7L4EOQB',\n",
              " 'AELK0E5DK7LIZ',\n",
              " 'A17RFKCYS69M3Y',\n",
              " 'A11YIHB6IW352W',\n",
              " 'A1RPJHUVVSI98A',\n",
              " 'A11IXJ8M1JO296',\n",
              " 'A291XTI6NO7DEG',\n",
              " 'A2DG63DN704LOI',\n",
              " 'A2BCDZO1XQLDH',\n",
              " 'ARIDN94LOCQFD',\n",
              " 'A1Z7SC7HH1BJKA',\n",
              " 'A2NB2E5DXE319Z',\n",
              " 'A386LG0LRWKJZP',\n",
              " 'A2V0I904FH7ABY',\n",
              " 'A28J3123I1QDKI',\n",
              " 'AM8W6Y3HVXLZT',\n",
              " 'A2VCXIAWCPQ13P',\n",
              " 'AM0QLU79O05JR',\n",
              " 'A1A306IAZ3TM1',\n",
              " 'A2PZXXPGLXXKZU',\n",
              " 'ADKZOXAOV8EXD',\n",
              " 'ALRCAGJOJ9583',\n",
              " 'APBB297H3ZA5E',\n",
              " 'A1DSRM2P0WGQNS',\n",
              " 'A2SH7OWE8QJYNC',\n",
              " 'A3BVN2QBNPBHCR',\n",
              " 'A1T9MILRRZ00F8',\n",
              " 'APBDZ88BBTN4F',\n",
              " 'AVBLGXSWRN666',\n",
              " 'A2L9OPJAAEK08Q',\n",
              " 'A1C5TCCR2IGKBU',\n",
              " 'A3B20R4ZAH0Y2Y',\n",
              " 'AW3LX47IHPFRL',\n",
              " 'A12DLJESJKM1OQ',\n",
              " 'A2AX2UGB167J31',\n",
              " 'AJX9A4Q19UTJU',\n",
              " 'AGX2K0FMS0IVL',\n",
              " 'A2TVJ0YDW3QO63',\n",
              " 'A3284KYDZ00BZA',\n",
              " 'A16RI68PS6T5CA',\n",
              " 'A3JV071KO43Q5X',\n",
              " 'A3UW0PQLDUACMH',\n",
              " 'A1VTCSCH8FFC76',\n",
              " 'AG5WSXI52FPKH',\n",
              " 'A3RR2P5IS3DGPR',\n",
              " 'APMYPD97EHUUZ',\n",
              " 'A3U5HKDHPYBAK3',\n",
              " 'A14NA0W8ESGDSI',\n",
              " 'A1SB9BNNGKNX2Z',\n",
              " 'A10NMELR4KX0J6',\n",
              " 'A2NLI1M5K2MQ5E',\n",
              " 'A2G563AC1HME2R',\n",
              " 'A32NEDX6UVV8DE',\n",
              " 'A3K91X9X2ARDOK',\n",
              " 'A2PSC7LUNIDEAH',\n",
              " 'A1JBEKU5TYIWE7',\n",
              " 'A3SVYWA9O1KUQV',\n",
              " 'A1VFX417XDNWIU',\n",
              " 'A36A1ZYZH8568P',\n",
              " 'A18GJ9MYYO6GCQ',\n",
              " 'A2X78O6G89CB30',\n",
              " 'A3U41ZL33SS92P',\n",
              " 'A3T4OHEAHOJ700',\n",
              " 'AONUCJBC85BL',\n",
              " 'A132ETQPMHQ585',\n",
              " 'A18S2VGUH9SCV5',\n",
              " 'A2VIYTWXANL343',\n",
              " 'ABSYIF0ONC2AF',\n",
              " 'A28UMA3GW9L124',\n",
              " 'A1VUN4JU731CBH',\n",
              " 'AZ8XSDMIX04VJ',\n",
              " 'A3VBXQKRM7A4JR',\n",
              " 'A1WG97A0EFHYXN',\n",
              " 'A1ASWDAEDTTY5I',\n",
              " 'A3SMD3T0QTN109',\n",
              " 'AR6APXLK7TJU2',\n",
              " 'A1VLVWTLV3LVHR',\n",
              " 'A3IK2VCQ007CJ',\n",
              " 'AV8MDYLHHTUOY',\n",
              " 'A274X54O9CN2SR',\n",
              " 'A3VZH0PWLQ9BB1',\n",
              " 'ADPKRJ2BSFJ0I',\n",
              " 'A2XA8CW5DF4MNZ',\n",
              " 'ARX7Z3NI6O0F7',\n",
              " 'A3R1WFO4KIUQXZ',\n",
              " 'A361M14PU2GUEG',\n",
              " 'A18FLOC8YQY0P8',\n",
              " 'A35OIWPVTGW3UC',\n",
              " 'AO2EURP2Y4JZM',\n",
              " 'A3DGJMO6VPG6FJ',\n",
              " 'A1UL2JH7XOUGM5',\n",
              " 'A2HJY7418G1KV1',\n",
              " 'A3T8WOFS5RD2IR',\n",
              " 'A21I62TCDL4754',\n",
              " 'A2HNH4PKE5DPSI',\n",
              " 'A2F4HP0J5VNOYR',\n",
              " 'A2E1EFNIZL2FVA',\n",
              " 'A18OTCHQ6MXD6X',\n",
              " 'A2K5RRMPICZ606',\n",
              " 'A3S3VSXEFXBMRC',\n",
              " 'A204K1OFE8OB9Y',\n",
              " 'A2ZRG5NOFZ47RK',\n",
              " 'A1PVX61PRPVX27',\n",
              " 'A17O9AHKHK66AI',\n",
              " 'A3CJOB7CHOSZUG',\n",
              " 'A3U029B8Z5WGI2',\n",
              " 'ADZF3QDGSZE7K',\n",
              " 'A14MZJTZAQS6CV',\n",
              " 'A7EU2BWLLCJY2',\n",
              " 'A2294LS59GC5K7',\n",
              " 'A27Y4OEC9MD9PA',\n",
              " 'A1WF4QNIE2Z3I7',\n",
              " 'A1L0P1ZP5FD6EC',\n",
              " 'A3SU7JSTPH9CC9',\n",
              " 'A3FEGTOLCWXSV4',\n",
              " 'A3UQSOJW51UU9T',\n",
              " 'A2WYF4POBUXL2O',\n",
              " 'A3DWO5RJDA430F',\n",
              " 'A2THQCHKR89E16',\n",
              " 'ACH055GTTIGC9',\n",
              " 'A2RS66Y79Q8X0W',\n",
              " 'AXYM52DNK6NDF',\n",
              " 'A20OBCQWBKCGZT',\n",
              " 'A2DIQTZPF26T1L',\n",
              " 'A5QDZEOIMQ4LW',\n",
              " 'A1F7YU6O5RU432',\n",
              " 'A28525P0S5ZVJ3',\n",
              " 'A1O229NVVDJUX2',\n",
              " 'AEFTIUQHSVUFX',\n",
              " 'A6TBR6L2D4XKC',\n",
              " 'A359MYLPLEOF7N',\n",
              " 'ATDQ9CGCWTT8D',\n",
              " 'A2LFWJ8X817QGX',\n",
              " 'A1VGXHHR08G044',\n",
              " 'A11KQADBYE0UZL',\n",
              " 'A1PS4OYWUB0VX',\n",
              " 'A1F0KPA232MTYC',\n",
              " 'A4S2WAQVQR6PI',\n",
              " 'A1AKW788238PWQ',\n",
              " 'A2X61KKXXR6WNP',\n",
              " 'A28P7V9KI7MXP',\n",
              " 'A1CN1P7147QDJC',\n",
              " 'A33XMCG1UFDSY2',\n",
              " 'A2PB325LKXYDOL',\n",
              " 'A27H0T39U3FZB5',\n",
              " 'A2SNE4QQGVP13U',\n",
              " 'A1ZA5SXZS8Z3CK',\n",
              " 'A1VYFEJM12ZP11',\n",
              " 'A1OA2ZW406NQXM',\n",
              " 'A4IEUHNRFZO0',\n",
              " 'AJEOFP6ZWY0MK',\n",
              " 'ANFJYYQ0P35CW',\n",
              " 'A2ULZRSHXS3HL7',\n",
              " 'A11FX8HL2ANK6T',\n",
              " 'AWNBZSEZ9P8BE',\n",
              " 'A5CDMTW6JKV5G',\n",
              " 'AMWL7XIWIPXEZ',\n",
              " 'A19HKRB4LU5YR',\n",
              " 'A2XRIU3SOYZ0ZC',\n",
              " 'ABXANRX4GPYRZ',\n",
              " 'A1N5FSCYN4796F',\n",
              " 'AKX9EQ37PAYMY',\n",
              " 'A27T4RQ3XA661C',\n",
              " 'A2W9I628I6SE1U',\n",
              " 'A3H6NNGCINPLEC',\n",
              " 'A2OBDNQ5ZYU1L8',\n",
              " 'A1ZPUEHF4AES86',\n",
              " 'A2SH6A32BE6NEV',\n",
              " 'AX05DBU8IRUWY',\n",
              " 'A25UZ7MA72SMKM',\n",
              " ...]"
            ]
          },
          "metadata": {},
          "execution_count": 233
        }
      ],
      "source": [
        "# Find unique user_id where prod_id is not equal to \"1400501466\"\n",
        "unique_users = df_final[df_final['prod_id'] != '1400501466']['user_id'].unique()\n",
        "list(unique_users)"
      ]
    },
    {
      "cell_type": "markdown",
      "metadata": {
        "id": "KT42ecaSTsno"
      },
      "source": [
        "* It can be observed from the above list that **user \"A34BZM6S9L7QI4\" has not seen the product with productId \"1400501466\"** as this userId is a part of the above list."
      ]
    },
    {
      "cell_type": "markdown",
      "metadata": {
        "id": "EXSgq8OEnVNE"
      },
      "source": [
        "**Below we are predicting rating for `userId=A34BZM6S9L7QI4` and `prod_id=1400501466`.**"
      ]
    },
    {
      "cell_type": "code",
      "execution_count": null,
      "metadata": {
        "id": "PbFcBj1PpfEV",
        "colab": {
          "base_uri": "https://localhost:8080/"
        },
        "outputId": "c442bf62-20d6-42ea-e635-42d2d4e44872"
      },
      "outputs": [
        {
          "output_type": "stream",
          "name": "stdout",
          "text": [
            "user: A34BZM6S9L7QI4 item: 1400501466 r_ui = None   est = 4.29   {'was_impossible': True, 'reason': 'Not enough neighbors.'}\n"
          ]
        },
        {
          "output_type": "execute_result",
          "data": {
            "text/plain": [
              "Prediction(uid='A34BZM6S9L7QI4', iid='1400501466', r_ui=None, est=4.292024046561495, details={'was_impossible': True, 'reason': 'Not enough neighbors.'})"
            ]
          },
          "metadata": {},
          "execution_count": 234
        }
      ],
      "source": [
        "# Predicting rating for a sample user with a non interacted product\n",
        "sim_user_user.predict(\"A34BZM6S9L7QI4\", \"1400501466\", verbose = True)"
      ]
    },
    {
      "cell_type": "markdown",
      "metadata": {
        "id": "02rwld8yemRI"
      },
      "source": [
        "**Write your observations here:**\n",
        "* As we can see the estimated rating for this user-product pair is 4.29 based on this similarity based recommnedation model."
      ]
    },
    {
      "cell_type": "markdown",
      "metadata": {
        "id": "ejjof6csnVNF"
      },
      "source": [
        "### **Improving similarity-based recommendation system by tuning its hyperparameters**"
      ]
    },
    {
      "cell_type": "markdown",
      "metadata": {
        "id": "p2j4VvfQnVNF"
      },
      "source": [
        "Below, we will be tuning hyperparameters for the `KNNBasic` algorithm. Let's try to understand some of the hyperparameters of the KNNBasic algorithm:\n",
        "\n",
        "- **k** (int) – The (max) number of neighbors to take into account for aggregation. Default is 40.\n",
        "- **min_k** (int) – The minimum number of neighbors to take into account for aggregation. If there are not enough neighbors, the prediction is set to the global mean of all ratings. Default is 1.\n",
        "- **sim_options** (dict) – A dictionary of options for the similarity measure. And there are four similarity measures available in surprise -\n",
        "    - cosine\n",
        "    - msd (default)\n",
        "    - Pearson\n",
        "    - Pearson baseline"
      ]
    },
    {
      "cell_type": "code",
      "execution_count": null,
      "metadata": {
        "id": "9LmPbSUSTsnp",
        "colab": {
          "base_uri": "https://localhost:8080/"
        },
        "outputId": "d2e237e7-a5cd-4711-920b-9af396f5c523"
      },
      "outputs": [
        {
          "output_type": "stream",
          "name": "stdout",
          "text": [
            "0.9706929688881649\n",
            "{'k': 30, 'min_k': 6, 'sim_options': {'name': 'msd', 'user_based': True}}\n"
          ]
        }
      ],
      "source": [
        "# Setting up parameter grid to tune the hyperparameters\n",
        "param_grid = {'k': [20, 30, 40], 'min_k': [3, 6, 9],\n",
        "              'sim_options': {'name': ['msd', 'cosine'],\n",
        "                              'user_based': [True]}\n",
        "              }\n",
        "# Performing 3-fold cross-validation to tune the hyperparameters\n",
        "gs = GridSearchCV(KNNBasic, param_grid, measures = ['rmse'], cv = 3, n_jobs = -1)\n",
        "# Fitting the data\n",
        "gs.fit(data)\n",
        "# Best RMSE score\n",
        "print(gs.best_score['rmse'])\n",
        "# Combination of parameters that gave the best RMSE score\n",
        "print(gs.best_params['rmse'])"
      ]
    },
    {
      "cell_type": "markdown",
      "metadata": {
        "id": "L2fHNvu7nVNF"
      },
      "source": [
        "Once the grid search is **complete**, we can get the **optimal values for each of those hyperparameters**."
      ]
    },
    {
      "cell_type": "markdown",
      "metadata": {
        "id": "NHWgxu_YnVNG"
      },
      "source": [
        "Now, let's build the **final model by using tuned values of the hyperparameters**, which we received by using **grid search cross-validation**."
      ]
    },
    {
      "cell_type": "code",
      "execution_count": null,
      "metadata": {
        "id": "PujRJA8X_JEJ",
        "colab": {
          "base_uri": "https://localhost:8080/"
        },
        "outputId": "dd74e9b5-7621-4cff-acfd-f04e25559787"
      },
      "outputs": [
        {
          "output_type": "stream",
          "name": "stdout",
          "text": [
            "RMSE: 0.9527\n",
            "Precision:  0.847\n",
            "Recall:  0.894\n",
            "F_1 score:  0.87\n"
          ]
        }
      ],
      "source": [
        "# Using the optimal similarity measure for user-user based collaborative filtering\n",
        "sim_options = {'name': 'cosine',\n",
        "               'user_based': True}\n",
        "# Creating an instance of KNNBasic with optimal hyperparameter values\n",
        "sim_user_user_optimized = KNNBasic(sim_options = sim_options, k = 30, min_k = 6, random_state = 1, verbose = False)\n",
        "# Training the algorithm on the trainset\n",
        "sim_user_user_optimized.fit(trainset)\n",
        "# Let us compute precision@k and recall@k also with k =10\n",
        "precision_recall_at_k(sim_user_user_optimized)"
      ]
    },
    {
      "cell_type": "markdown",
      "metadata": {
        "id": "yHsWvFjKTsnp"
      },
      "source": [
        "**Write your observations here:**\n",
        "* We can see from above that after tuning hyperparameters, F_1 score of the tuned model has increased a bit as compared to the previous baseline model."
      ]
    },
    {
      "cell_type": "markdown",
      "metadata": {
        "id": "YhcAXK0CnVNG"
      },
      "source": [
        "### **Steps:**\n",
        "- **Predict rating for the user with `userId=\"A3LDPF5FMB782Z\"`, and `prod_id= \"1400501466\"` using the optimized model**\n",
        "- **Predict rating for `userId=\"A34BZM6S9L7QI4\"` who has not interacted with `prod_id =\"1400501466\"`, by using the optimized model**\n",
        "- **Compare the output with the output from the baseline model**"
      ]
    },
    {
      "cell_type": "code",
      "execution_count": null,
      "metadata": {
        "id": "FgV63lHiq1TV",
        "colab": {
          "base_uri": "https://localhost:8080/"
        },
        "outputId": "0c8f7ff9-8644-4966-ac1a-0d2c15fd557c"
      },
      "outputs": [
        {
          "output_type": "stream",
          "name": "stdout",
          "text": [
            "user: A3LDPF5FMB782Z item: 1400501466 r_ui = 5.00   est = 4.29   {'was_impossible': True, 'reason': 'Not enough neighbors.'}\n"
          ]
        },
        {
          "output_type": "execute_result",
          "data": {
            "text/plain": [
              "Prediction(uid='A3LDPF5FMB782Z', iid='1400501466', r_ui=5, est=4.292024046561495, details={'was_impossible': True, 'reason': 'Not enough neighbors.'})"
            ]
          },
          "metadata": {},
          "execution_count": 237
        }
      ],
      "source": [
        "# Use sim_user_user_optimized model to recommend for userId \"A3LDPF5FMB782Z\" and productId 1400501466\n",
        "sim_user_user_optimized.predict(\"A3LDPF5FMB782Z\", \"1400501466\", r_ui = 5, verbose = True)"
      ]
    },
    {
      "cell_type": "code",
      "execution_count": null,
      "metadata": {
        "id": "HXO2Ztjhq1bN",
        "colab": {
          "base_uri": "https://localhost:8080/"
        },
        "outputId": "10d98993-89f9-4abe-9bd7-4828ea959419"
      },
      "outputs": [
        {
          "output_type": "stream",
          "name": "stdout",
          "text": [
            "user: A34BZM6S9L7QI4 item: 1400501466 r_ui = None   est = 4.29   {'was_impossible': True, 'reason': 'Not enough neighbors.'}\n"
          ]
        },
        {
          "output_type": "execute_result",
          "data": {
            "text/plain": [
              "Prediction(uid='A34BZM6S9L7QI4', iid='1400501466', r_ui=None, est=4.292024046561495, details={'was_impossible': True, 'reason': 'Not enough neighbors.'})"
            ]
          },
          "metadata": {},
          "execution_count": 238
        }
      ],
      "source": [
        "# Use sim_user_user_optimized model to recommend for userId \"A34BZM6S9L7QI4\" and productId \"1400501466\"\n",
        "sim_user_user_optimized.predict(\"A34BZM6S9L7QI4\", \"1400501466\", verbose = True)"
      ]
    },
    {
      "cell_type": "markdown",
      "metadata": {
        "id": "s5i-OPprNF2e"
      },
      "source": [
        "**Write your observations here:**\n",
        "* We can see the estimated rating for this user-product pair is 4.29 based on this similarity based optimized model."
      ]
    },
    {
      "cell_type": "markdown",
      "metadata": {
        "id": "op_zwO_FnVNH"
      },
      "source": [
        "### **Identifying similar users to a given user (nearest neighbors)**"
      ]
    },
    {
      "cell_type": "markdown",
      "metadata": {
        "id": "o2QsfqhanVNH"
      },
      "source": [
        "We can also find out **similar users to a given user** or its **nearest neighbors** based on this KNNBasic algorithm. Below, we are finding the 5 most similar users to the first user in the list with internal id 0, based on the `msd` distance metric."
      ]
    },
    {
      "cell_type": "code",
      "execution_count": null,
      "metadata": {
        "id": "TbFle7cKmBJG",
        "colab": {
          "base_uri": "https://localhost:8080/"
        },
        "outputId": "615b9a3a-958c-4e6a-a4e8-6de39b9466ef"
      },
      "outputs": [
        {
          "output_type": "execute_result",
          "data": {
            "text/plain": [
              "[6, 7, 17, 26, 32]"
            ]
          },
          "metadata": {},
          "execution_count": 239
        }
      ],
      "source": [
        "# 0 is the inner id of the above user\n",
        "sim_user_user_optimized.get_neighbors(0, 5)"
      ]
    },
    {
      "cell_type": "markdown",
      "metadata": {
        "id": "Z0NsrX_anVNH"
      },
      "source": [
        "### **Implementing the recommendation algorithm based on optimized KNNBasic model**"
      ]
    },
    {
      "cell_type": "markdown",
      "metadata": {
        "id": "U3ESobDynVNI"
      },
      "source": [
        "Below we will be implementing a function where the input parameters are:\n",
        "\n",
        "- data: A **rating** dataset\n",
        "- user_id: A user id **against which we want the recommendations**\n",
        "- top_n: The **number of products we want to recommend**\n",
        "- algo: the algorithm we want to use **for predicting the ratings**\n",
        "- The output of the function is a **set of top_n items** recommended for the given user_id based on the given algorithm"
      ]
    },
    {
      "cell_type": "code",
      "execution_count": null,
      "metadata": {
        "id": "vW9V1Tk65HlY"
      },
      "outputs": [],
      "source": [
        "def get_recommendations(data, user_id, top_n, algo):\n",
        "\n",
        "    # Creating an empty list to store the recommended product ids\n",
        "    recommendations = []\n",
        "\n",
        "    # Creating an user item interactions matrix\n",
        "    user_item_interactions_matrix = data.pivot(index = 'user_id', columns = 'prod_id', values = 'rating')\n",
        "\n",
        "    # Extracting those product ids which the user_id has not interacted yet\n",
        "    non_interacted_products = user_item_interactions_matrix.loc[user_id][user_item_interactions_matrix.loc[user_id].isnull()].index.tolist()\n",
        "\n",
        "    # Looping through each of the product ids which user_id has not interacted yet\n",
        "    for item_id in non_interacted_products:\n",
        "\n",
        "        # Predicting the ratings for those non interacted product ids by this user\n",
        "        est = algo.predict(user_id, item_id).est\n",
        "\n",
        "        # Appending the predicted ratings\n",
        "        recommendations.append((item_id, est))\n",
        "\n",
        "    # Sorting the predicted ratings in descending order\n",
        "    recommendations.sort(key = lambda x: x[1], reverse = True)\n",
        "\n",
        "    return recommendations[:top_n] # Returing top n highest predicted rating products for this user"
      ]
    },
    {
      "cell_type": "markdown",
      "metadata": {
        "id": "Oj_S7kh4nVNI"
      },
      "source": [
        "**Predicting top 5 products for userId = \"A3LDPF5FMB782Z\" with similarity based recommendation system**"
      ]
    },
    {
      "cell_type": "code",
      "execution_count": null,
      "metadata": {
        "id": "qWbR85mI5Hrk"
      },
      "outputs": [],
      "source": [
        "# Making top 5 recommendations for user_id \"A3LDPF5FMB782Z\" with a similarity-based recommendation engine\n",
        "recommendations = get_recommendations(df_final, \"A3LDPF5FMB782Z\", 5, sim_user_user)"
      ]
    },
    {
      "cell_type": "code",
      "execution_count": null,
      "metadata": {
        "id": "b5WfIX0Z6_q2",
        "colab": {
          "base_uri": "https://localhost:8080/",
          "height": 223
        },
        "outputId": "3db38604-9398-48e1-81ba-20cf479f93c6"
      },
      "outputs": [
        {
          "output_type": "execute_result",
          "data": {
            "text/plain": [
              "      prod_id  predicted_ratings\n",
              "0  1400599997                  5\n",
              "1  B00000DM9W                  5\n",
              "2  B00000K4KH                  5\n",
              "3  B00001W0DI                  5\n",
              "4  B00002EQCW                  5"
            ],
            "text/html": [
              "\n",
              "  <div id=\"df-f9800bd4-6e38-46b3-b369-a8b5e0c0f328\" class=\"colab-df-container\">\n",
              "    <div>\n",
              "<style scoped>\n",
              "    .dataframe tbody tr th:only-of-type {\n",
              "        vertical-align: middle;\n",
              "    }\n",
              "\n",
              "    .dataframe tbody tr th {\n",
              "        vertical-align: top;\n",
              "    }\n",
              "\n",
              "    .dataframe thead th {\n",
              "        text-align: right;\n",
              "    }\n",
              "</style>\n",
              "<table border=\"1\" class=\"dataframe\">\n",
              "  <thead>\n",
              "    <tr style=\"text-align: right;\">\n",
              "      <th></th>\n",
              "      <th>prod_id</th>\n",
              "      <th>predicted_ratings</th>\n",
              "    </tr>\n",
              "  </thead>\n",
              "  <tbody>\n",
              "    <tr>\n",
              "      <th>0</th>\n",
              "      <td>1400599997</td>\n",
              "      <td>5</td>\n",
              "    </tr>\n",
              "    <tr>\n",
              "      <th>1</th>\n",
              "      <td>B00000DM9W</td>\n",
              "      <td>5</td>\n",
              "    </tr>\n",
              "    <tr>\n",
              "      <th>2</th>\n",
              "      <td>B00000K4KH</td>\n",
              "      <td>5</td>\n",
              "    </tr>\n",
              "    <tr>\n",
              "      <th>3</th>\n",
              "      <td>B00001W0DI</td>\n",
              "      <td>5</td>\n",
              "    </tr>\n",
              "    <tr>\n",
              "      <th>4</th>\n",
              "      <td>B00002EQCW</td>\n",
              "      <td>5</td>\n",
              "    </tr>\n",
              "  </tbody>\n",
              "</table>\n",
              "</div>\n",
              "    <div class=\"colab-df-buttons\">\n",
              "\n",
              "  <div class=\"colab-df-container\">\n",
              "    <button class=\"colab-df-convert\" onclick=\"convertToInteractive('df-f9800bd4-6e38-46b3-b369-a8b5e0c0f328')\"\n",
              "            title=\"Convert this dataframe to an interactive table.\"\n",
              "            style=\"display:none;\">\n",
              "\n",
              "  <svg xmlns=\"http://www.w3.org/2000/svg\" height=\"24px\" viewBox=\"0 -960 960 960\">\n",
              "    <path d=\"M120-120v-720h720v720H120Zm60-500h600v-160H180v160Zm220 220h160v-160H400v160Zm0 220h160v-160H400v160ZM180-400h160v-160H180v160Zm440 0h160v-160H620v160ZM180-180h160v-160H180v160Zm440 0h160v-160H620v160Z\"/>\n",
              "  </svg>\n",
              "    </button>\n",
              "\n",
              "  <style>\n",
              "    .colab-df-container {\n",
              "      display:flex;\n",
              "      gap: 12px;\n",
              "    }\n",
              "\n",
              "    .colab-df-convert {\n",
              "      background-color: #E8F0FE;\n",
              "      border: none;\n",
              "      border-radius: 50%;\n",
              "      cursor: pointer;\n",
              "      display: none;\n",
              "      fill: #1967D2;\n",
              "      height: 32px;\n",
              "      padding: 0 0 0 0;\n",
              "      width: 32px;\n",
              "    }\n",
              "\n",
              "    .colab-df-convert:hover {\n",
              "      background-color: #E2EBFA;\n",
              "      box-shadow: 0px 1px 2px rgba(60, 64, 67, 0.3), 0px 1px 3px 1px rgba(60, 64, 67, 0.15);\n",
              "      fill: #174EA6;\n",
              "    }\n",
              "\n",
              "    .colab-df-buttons div {\n",
              "      margin-bottom: 4px;\n",
              "    }\n",
              "\n",
              "    [theme=dark] .colab-df-convert {\n",
              "      background-color: #3B4455;\n",
              "      fill: #D2E3FC;\n",
              "    }\n",
              "\n",
              "    [theme=dark] .colab-df-convert:hover {\n",
              "      background-color: #434B5C;\n",
              "      box-shadow: 0px 1px 3px 1px rgba(0, 0, 0, 0.15);\n",
              "      filter: drop-shadow(0px 1px 2px rgba(0, 0, 0, 0.3));\n",
              "      fill: #FFFFFF;\n",
              "    }\n",
              "  </style>\n",
              "\n",
              "    <script>\n",
              "      const buttonEl =\n",
              "        document.querySelector('#df-f9800bd4-6e38-46b3-b369-a8b5e0c0f328 button.colab-df-convert');\n",
              "      buttonEl.style.display =\n",
              "        google.colab.kernel.accessAllowed ? 'block' : 'none';\n",
              "\n",
              "      async function convertToInteractive(key) {\n",
              "        const element = document.querySelector('#df-f9800bd4-6e38-46b3-b369-a8b5e0c0f328');\n",
              "        const dataTable =\n",
              "          await google.colab.kernel.invokeFunction('convertToInteractive',\n",
              "                                                    [key], {});\n",
              "        if (!dataTable) return;\n",
              "\n",
              "        const docLinkHtml = 'Like what you see? Visit the ' +\n",
              "          '<a target=\"_blank\" href=https://colab.research.google.com/notebooks/data_table.ipynb>data table notebook</a>'\n",
              "          + ' to learn more about interactive tables.';\n",
              "        element.innerHTML = '';\n",
              "        dataTable['output_type'] = 'display_data';\n",
              "        await google.colab.output.renderOutput(dataTable, element);\n",
              "        const docLink = document.createElement('div');\n",
              "        docLink.innerHTML = docLinkHtml;\n",
              "        element.appendChild(docLink);\n",
              "      }\n",
              "    </script>\n",
              "  </div>\n",
              "\n",
              "\n",
              "<div id=\"df-3c081582-86e1-4622-8b77-5d9862c9dc36\">\n",
              "  <button class=\"colab-df-quickchart\" onclick=\"quickchart('df-3c081582-86e1-4622-8b77-5d9862c9dc36')\"\n",
              "            title=\"Suggest charts\"\n",
              "            style=\"display:none;\">\n",
              "\n",
              "<svg xmlns=\"http://www.w3.org/2000/svg\" height=\"24px\"viewBox=\"0 0 24 24\"\n",
              "     width=\"24px\">\n",
              "    <g>\n",
              "        <path d=\"M19 3H5c-1.1 0-2 .9-2 2v14c0 1.1.9 2 2 2h14c1.1 0 2-.9 2-2V5c0-1.1-.9-2-2-2zM9 17H7v-7h2v7zm4 0h-2V7h2v10zm4 0h-2v-4h2v4z\"/>\n",
              "    </g>\n",
              "</svg>\n",
              "  </button>\n",
              "\n",
              "<style>\n",
              "  .colab-df-quickchart {\n",
              "      --bg-color: #E8F0FE;\n",
              "      --fill-color: #1967D2;\n",
              "      --hover-bg-color: #E2EBFA;\n",
              "      --hover-fill-color: #174EA6;\n",
              "      --disabled-fill-color: #AAA;\n",
              "      --disabled-bg-color: #DDD;\n",
              "  }\n",
              "\n",
              "  [theme=dark] .colab-df-quickchart {\n",
              "      --bg-color: #3B4455;\n",
              "      --fill-color: #D2E3FC;\n",
              "      --hover-bg-color: #434B5C;\n",
              "      --hover-fill-color: #FFFFFF;\n",
              "      --disabled-bg-color: #3B4455;\n",
              "      --disabled-fill-color: #666;\n",
              "  }\n",
              "\n",
              "  .colab-df-quickchart {\n",
              "    background-color: var(--bg-color);\n",
              "    border: none;\n",
              "    border-radius: 50%;\n",
              "    cursor: pointer;\n",
              "    display: none;\n",
              "    fill: var(--fill-color);\n",
              "    height: 32px;\n",
              "    padding: 0;\n",
              "    width: 32px;\n",
              "  }\n",
              "\n",
              "  .colab-df-quickchart:hover {\n",
              "    background-color: var(--hover-bg-color);\n",
              "    box-shadow: 0 1px 2px rgba(60, 64, 67, 0.3), 0 1px 3px 1px rgba(60, 64, 67, 0.15);\n",
              "    fill: var(--button-hover-fill-color);\n",
              "  }\n",
              "\n",
              "  .colab-df-quickchart-complete:disabled,\n",
              "  .colab-df-quickchart-complete:disabled:hover {\n",
              "    background-color: var(--disabled-bg-color);\n",
              "    fill: var(--disabled-fill-color);\n",
              "    box-shadow: none;\n",
              "  }\n",
              "\n",
              "  .colab-df-spinner {\n",
              "    border: 2px solid var(--fill-color);\n",
              "    border-color: transparent;\n",
              "    border-bottom-color: var(--fill-color);\n",
              "    animation:\n",
              "      spin 1s steps(1) infinite;\n",
              "  }\n",
              "\n",
              "  @keyframes spin {\n",
              "    0% {\n",
              "      border-color: transparent;\n",
              "      border-bottom-color: var(--fill-color);\n",
              "      border-left-color: var(--fill-color);\n",
              "    }\n",
              "    20% {\n",
              "      border-color: transparent;\n",
              "      border-left-color: var(--fill-color);\n",
              "      border-top-color: var(--fill-color);\n",
              "    }\n",
              "    30% {\n",
              "      border-color: transparent;\n",
              "      border-left-color: var(--fill-color);\n",
              "      border-top-color: var(--fill-color);\n",
              "      border-right-color: var(--fill-color);\n",
              "    }\n",
              "    40% {\n",
              "      border-color: transparent;\n",
              "      border-right-color: var(--fill-color);\n",
              "      border-top-color: var(--fill-color);\n",
              "    }\n",
              "    60% {\n",
              "      border-color: transparent;\n",
              "      border-right-color: var(--fill-color);\n",
              "    }\n",
              "    80% {\n",
              "      border-color: transparent;\n",
              "      border-right-color: var(--fill-color);\n",
              "      border-bottom-color: var(--fill-color);\n",
              "    }\n",
              "    90% {\n",
              "      border-color: transparent;\n",
              "      border-bottom-color: var(--fill-color);\n",
              "    }\n",
              "  }\n",
              "</style>\n",
              "\n",
              "  <script>\n",
              "    async function quickchart(key) {\n",
              "      const quickchartButtonEl =\n",
              "        document.querySelector('#' + key + ' button');\n",
              "      quickchartButtonEl.disabled = true;  // To prevent multiple clicks.\n",
              "      quickchartButtonEl.classList.add('colab-df-spinner');\n",
              "      try {\n",
              "        const charts = await google.colab.kernel.invokeFunction(\n",
              "            'suggestCharts', [key], {});\n",
              "      } catch (error) {\n",
              "        console.error('Error during call to suggestCharts:', error);\n",
              "      }\n",
              "      quickchartButtonEl.classList.remove('colab-df-spinner');\n",
              "      quickchartButtonEl.classList.add('colab-df-quickchart-complete');\n",
              "    }\n",
              "    (() => {\n",
              "      let quickchartButtonEl =\n",
              "        document.querySelector('#df-3c081582-86e1-4622-8b77-5d9862c9dc36 button');\n",
              "      quickchartButtonEl.style.display =\n",
              "        google.colab.kernel.accessAllowed ? 'block' : 'none';\n",
              "    })();\n",
              "  </script>\n",
              "</div>\n",
              "\n",
              "    </div>\n",
              "  </div>\n"
            ],
            "application/vnd.google.colaboratory.intrinsic+json": {
              "type": "dataframe",
              "summary": "{\n  \"name\": \"pd\",\n  \"rows\": 5,\n  \"fields\": [\n    {\n      \"column\": \"prod_id\",\n      \"properties\": {\n        \"dtype\": \"string\",\n        \"num_unique_values\": 5,\n        \"samples\": [\n          \"B00000DM9W\",\n          \"B00002EQCW\",\n          \"B00000K4KH\"\n        ],\n        \"semantic_type\": \"\",\n        \"description\": \"\"\n      }\n    },\n    {\n      \"column\": \"predicted_ratings\",\n      \"properties\": {\n        \"dtype\": \"number\",\n        \"std\": 0,\n        \"min\": 5,\n        \"max\": 5,\n        \"num_unique_values\": 1,\n        \"samples\": [\n          5\n        ],\n        \"semantic_type\": \"\",\n        \"description\": \"\"\n      }\n    }\n  ]\n}"
            }
          },
          "metadata": {},
          "execution_count": 242
        }
      ],
      "source": [
        "# Building the dataframe for above recommendations with columns \"prod_id\" and \"predicted_ratings\"\n",
        "pd.DataFrame(recommendations, columns = ['prod_id', 'predicted_ratings'])"
      ]
    },
    {
      "cell_type": "markdown",
      "metadata": {
        "id": "QgbzJKk7Tsnr"
      },
      "source": [
        "### **Item-Item Similarity-based Collaborative Filtering Recommendation System**"
      ]
    },
    {
      "cell_type": "markdown",
      "metadata": {
        "id": "qTJu_2hcTsnr"
      },
      "source": [
        "* Above we have seen **similarity-based collaborative filtering** where similarity is calculated **between users**. Now let us look into similarity-based collaborative filtering where similarity is seen **between items**."
      ]
    },
    {
      "cell_type": "code",
      "execution_count": null,
      "metadata": {
        "id": "W5RMcdzjTsns",
        "scrolled": false,
        "colab": {
          "base_uri": "https://localhost:8080/"
        },
        "outputId": "58b47b65-47e0-457f-aec3-b3ce2648bf8c"
      },
      "outputs": [
        {
          "output_type": "stream",
          "name": "stdout",
          "text": [
            "RMSE: 0.9950\n",
            "Precision:  0.838\n",
            "Recall:  0.845\n",
            "F_1 score:  0.841\n"
          ]
        }
      ],
      "source": [
        "# Declaring the similarity options\n",
        "sim_options = {'name': 'cosine',\n",
        "               'user_based': False}\n",
        "# KNN algorithm is used to find desired similar items. Use random_state=1\n",
        "sim_item_item = KNNBasic(sim_options = sim_options, random_state = 1, verbose = False)\n",
        "# Train the algorithm on the trainset, and predict ratings for the test set\n",
        "sim_item_item.fit(trainset)\n",
        "# Let us compute precision@k, recall@k, and f_1 score with k = 10\n",
        "precision_recall_at_k(sim_item_item)"
      ]
    },
    {
      "cell_type": "markdown",
      "metadata": {
        "id": "ni9LoeUVTsns"
      },
      "source": [
        "**Write your observations here:**\n",
        "* We calculate the RMSE value to check how far is the actual rating from the predicted rating.\n",
        "* The prediction is 0.838 which means, that out of the overall recommended products 0.838 were relevant to the user.\n",
        "* The recall is 0.845 which means, that throughout all the relevent products, only 0.845 are recommended to the user.\n",
        "* The F1 score is 0.841 which shows that most of the recommended products are relevant and relevant products were ultimately recommended to the user.\n",
        "F1 score of 0.841 suggests that the model is performing well in terms of classifying the ratings, effectively identifying positive ratings without generating too many false positives."
      ]
    },
    {
      "cell_type": "markdown",
      "metadata": {
        "id": "jFbcDQmxTsns"
      },
      "source": [
        "Let's now **predict a rating for a user with `userId = A3LDPF5FMB782Z` and `prod_Id = 1400501466`** as shown below. Here the user has already interacted or watched the product with productId \"1400501466\"."
      ]
    },
    {
      "cell_type": "code",
      "execution_count": null,
      "metadata": {
        "id": "JsF-aaWYTsns",
        "colab": {
          "base_uri": "https://localhost:8080/"
        },
        "outputId": "7d2ab6d6-01ab-4f9c-9949-45faa63a64b5"
      },
      "outputs": [
        {
          "output_type": "stream",
          "name": "stdout",
          "text": [
            "user: A3LDPF5FMB782Z item: 1400501466 r_ui = 5.00   est = 4.27   {'actual_k': 22, 'was_impossible': False}\n"
          ]
        },
        {
          "output_type": "execute_result",
          "data": {
            "text/plain": [
              "Prediction(uid='A3LDPF5FMB782Z', iid='1400501466', r_ui=5, est=4.2727272727272725, details={'actual_k': 22, 'was_impossible': False})"
            ]
          },
          "metadata": {},
          "execution_count": 244
        }
      ],
      "source": [
        "# Predicting rating for a sample user with an interacted product\n",
        "sim_item_item.predict(\"A3LDPF5FMB782Z\", \"1400501466\", r_ui = 5, verbose = True)"
      ]
    },
    {
      "cell_type": "markdown",
      "metadata": {
        "id": "2h0OyDMFTsns"
      },
      "source": [
        "**Write your observations here:**\n",
        "* As we can see the estimated rating for this user-product pair is 4.27 while the actual rating is 5. Although the estimated rating is below the actual rating, however, it is still near to the estimated rating.\n"
      ]
    },
    {
      "cell_type": "markdown",
      "metadata": {
        "id": "BqKGZoAtTsns"
      },
      "source": [
        "Below we are **predicting rating for the `userId = A34BZM6S9L7QI4` and `prod_id = 1400501466`**."
      ]
    },
    {
      "cell_type": "code",
      "execution_count": null,
      "metadata": {
        "id": "5yILOxXRTsns",
        "colab": {
          "base_uri": "https://localhost:8080/"
        },
        "outputId": "181fdda7-8d9a-4dd9-a62e-2a8255c7f86f"
      },
      "outputs": [
        {
          "output_type": "stream",
          "name": "stdout",
          "text": [
            "user: A34BZM6S9L7QI4 item: 1400501466 r_ui = None   est = 4.29   {'was_impossible': True, 'reason': 'Not enough neighbors.'}\n"
          ]
        },
        {
          "output_type": "execute_result",
          "data": {
            "text/plain": [
              "Prediction(uid='A34BZM6S9L7QI4', iid='1400501466', r_ui=None, est=4.292024046561495, details={'was_impossible': True, 'reason': 'Not enough neighbors.'})"
            ]
          },
          "metadata": {},
          "execution_count": 245
        }
      ],
      "source": [
        "# Predicting rating for a sample user with a non interacted product\n",
        "sim_item_item.predict(\"A34BZM6S9L7QI4\", \"1400501466\", verbose = True)"
      ]
    },
    {
      "cell_type": "markdown",
      "metadata": {
        "id": "sDKaAveJTsns"
      },
      "source": [
        "**Write your observations here:**\n",
        "* As we can see the estimated rating for this user-product pair is 4.29 based on the item-item similarity based recommnedation model."
      ]
    },
    {
      "cell_type": "markdown",
      "metadata": {
        "id": "meSvpNLj_EjD"
      },
      "source": [
        "### **Hyperparameter tuning the item-item similarity-based model**\n",
        "- Use the following values for the param_grid and tune the model.\n",
        "  - 'k': [10, 20, 30]\n",
        "  - 'min_k': [3, 6, 9]\n",
        "  - 'sim_options': {'name': ['msd', 'cosine']\n",
        "  - 'user_based': [False]\n",
        "- Use GridSearchCV() to tune the model using the 'rmse' measure\n",
        "- Print the best score and best parameters"
      ]
    },
    {
      "cell_type": "code",
      "execution_count": null,
      "metadata": {
        "id": "f5bcZ3HgTsnt",
        "colab": {
          "base_uri": "https://localhost:8080/"
        },
        "outputId": "55108723-c6e3-4c3c-baff-d0c5de505680"
      },
      "outputs": [
        {
          "output_type": "stream",
          "name": "stdout",
          "text": [
            "0.9762179914570742\n",
            "{'k': 30, 'min_k': 9, 'sim_options': {'name': 'msd', 'user_based': False}}\n"
          ]
        }
      ],
      "source": [
        "# Setting up parameter grid to tune the hyperparameters\n",
        "param_grid = {'k': [10, 20, 30], 'min_k': [3, 6, 9],\n",
        "              'sim_options': {'name': ['msd', 'cosine'],\n",
        "                              'user_based': [False]}\n",
        "              }\n",
        "# Performing 3-fold cross validation to tune the hyperparameters\n",
        "gs = GridSearchCV(KNNBasic, param_grid, measures = ['rmse'], cv = 3, n_jobs = -1)\n",
        "# Fitting the data\n",
        "gs.fit(data)\n",
        "# Find the best RMSE score\n",
        "print(gs.best_score['rmse'])\n",
        "# Find the combination of parameters that gave the best RMSE score\n",
        "print(gs.best_params['rmse'])"
      ]
    },
    {
      "cell_type": "markdown",
      "metadata": {
        "id": "1psOlx6zTsnt"
      },
      "source": [
        "Once the **grid search** is complete, we can get the **optimal values for each of those hyperparameters as shown above.**"
      ]
    },
    {
      "cell_type": "markdown",
      "metadata": {
        "id": "JrSTaQemTsnt"
      },
      "source": [
        "Now let's build the **final model** by using **tuned values of the hyperparameters** which we received by using grid search cross-validation."
      ]
    },
    {
      "cell_type": "markdown",
      "metadata": {
        "id": "kOS9Dwnd_LN6"
      },
      "source": [
        "### **Use the best parameters from GridSearchCV to build the optimized item-item similarity-based model. Compare the performance of the optimized model with the baseline model.**"
      ]
    },
    {
      "cell_type": "code",
      "execution_count": null,
      "metadata": {
        "id": "dSeiM1qeTsnt",
        "colab": {
          "base_uri": "https://localhost:8080/"
        },
        "outputId": "67098501-c184-44f8-c451-985ad174ecd7"
      },
      "outputs": [
        {
          "output_type": "stream",
          "name": "stdout",
          "text": [
            "RMSE: 0.9567\n",
            "Precision:  0.838\n",
            "Recall:  0.889\n",
            "F_1 score:  0.863\n"
          ]
        }
      ],
      "source": [
        "# Using the optimal similarity measure for item-item based collaborative filtering\n",
        "sim_options = {'name': 'msd',\n",
        "               'user_based': False}\n",
        "# Creating an instance of KNNBasic with optimal hyperparameter values\n",
        "sim_item_item_optimized = KNNBasic(sim_options = sim_options, k = 30, min_k = 9, random_state = 1, verbose = False)\n",
        "# Training the algorithm on the trainset\n",
        "sim_item_item_optimized.fit(trainset)\n",
        "# Let us compute precision@k and recall@k, f1_score and RMSE\n",
        "precision_recall_at_k(sim_item_item_optimized)"
      ]
    },
    {
      "cell_type": "markdown",
      "metadata": {
        "id": "ZCXKnMI8Tsnt"
      },
      "source": [
        "**Write your observations here:**\n",
        "* We can see from above that after tuning hyperparameters, F_1 score of the tuned model has increased. Therefore, it is better than the baseline model. Also, there is a decrease in the RMSE value after tuning the hyperparameters. Hence the tuned model is doing better than the earlier one."
      ]
    },
    {
      "cell_type": "markdown",
      "metadata": {
        "id": "Sbcj_H94Tsnt"
      },
      "source": [
        "### **Steps:**\n",
        "- **Predict rating for the user with `userId=\"A3LDPF5FMB782Z\"`, and `prod_id= \"1400501466\"` using the optimized model**\n",
        "- **Predict rating for `userId=\"A34BZM6S9L7QI4\"` who has not interacted with `prod_id =\"1400501466\"`, by using the optimized model**\n",
        "- **Compare the output with the output from the baseline model**"
      ]
    },
    {
      "cell_type": "code",
      "execution_count": null,
      "metadata": {
        "id": "gIBRRvdoTsnt",
        "colab": {
          "base_uri": "https://localhost:8080/"
        },
        "outputId": "9afa1b5b-085f-44f8-87d7-0684e4a34c69"
      },
      "outputs": [
        {
          "output_type": "stream",
          "name": "stdout",
          "text": [
            "user: A3LDPF5FMB782Z item: 1400501466 r_ui = 5.00   est = 4.71   {'actual_k': 20, 'was_impossible': False}\n"
          ]
        },
        {
          "output_type": "execute_result",
          "data": {
            "text/plain": [
              "Prediction(uid='A3LDPF5FMB782Z', iid='1400501466', r_ui=5, est=4.7105263157894735, details={'actual_k': 20, 'was_impossible': False})"
            ]
          },
          "metadata": {},
          "execution_count": 248
        }
      ],
      "source": [
        "# Use sim_item_item_optimized model to recommend for userId \"A3LDPF5FMB782Z\" and productId \"1400501466\"\n",
        "sim_item_item_optimized.predict(\"A3LDPF5FMB782Z\", \"1400501466\", r_ui = 5, verbose = True)"
      ]
    },
    {
      "cell_type": "code",
      "execution_count": null,
      "metadata": {
        "id": "MrEREXszTsIQ",
        "colab": {
          "base_uri": "https://localhost:8080/"
        },
        "outputId": "766561a2-413d-4d30-bd8e-60c8df03bd98"
      },
      "outputs": [
        {
          "output_type": "stream",
          "name": "stdout",
          "text": [
            "user: A34BZM6S9L7QI4 item: 1400501466 r_ui = 5.00   est = 4.29   {'was_impossible': True, 'reason': 'Not enough neighbors.'}\n"
          ]
        },
        {
          "output_type": "execute_result",
          "data": {
            "text/plain": [
              "Prediction(uid='A34BZM6S9L7QI4', iid='1400501466', r_ui=5, est=4.292024046561495, details={'was_impossible': True, 'reason': 'Not enough neighbors.'})"
            ]
          },
          "metadata": {},
          "execution_count": 249
        }
      ],
      "source": [
        "# Use sim_item_item_optimized model to recommend for userId \"A34BZM6S9L7QI4\" and productId \"1400501466\"\n",
        "sim_item_item_optimized.predict(\"A34BZM6S9L7QI4\", \"1400501466\", r_ui = 5, verbose = True)"
      ]
    },
    {
      "cell_type": "markdown",
      "metadata": {
        "id": "C1lo81UOTsIR"
      },
      "source": [
        "**Write your observations here:**\n",
        "* As we can see the estimated rating for this user-product pair is 4.29 while the actual rating is 5. Although the estimated rating is below the actual rating, however, it is still near to the estimated rating."
      ]
    },
    {
      "cell_type": "markdown",
      "metadata": {
        "id": "MDlNB7tnTsnu"
      },
      "source": [
        "### **Identifying similar items to a given item (nearest neighbors)**"
      ]
    },
    {
      "cell_type": "markdown",
      "metadata": {
        "id": "RLdDiFA6Tsnu"
      },
      "source": [
        "We can also find out **similar items** to a given item or its nearest neighbors based on this **KNNBasic algorithm**. Below we are finding the 5 most similar items to the item with internal id 0 based on the `msd` distance metric."
      ]
    },
    {
      "cell_type": "code",
      "execution_count": null,
      "metadata": {
        "id": "ZRJS4oDFTsnu",
        "colab": {
          "base_uri": "https://localhost:8080/"
        },
        "outputId": "6d03a3bc-8b99-4bf7-9cf9-71cf559a96c7"
      },
      "outputs": [
        {
          "output_type": "execute_result",
          "data": {
            "text/plain": [
              "[29, 53, 67, 106, 151]"
            ]
          },
          "metadata": {},
          "execution_count": 250
        }
      ],
      "source": [
        "sim_item_item_optimized.get_neighbors(0, k = 5)"
      ]
    },
    {
      "cell_type": "markdown",
      "metadata": {
        "id": "a6sG6sYATsIR"
      },
      "source": [
        "**Predicting top 5 products for userId = \"A1A5KUIIIHFF4U\" with similarity based recommendation system.**\n",
        "\n",
        "**Hint:** Use the get_recommendations() function."
      ]
    },
    {
      "cell_type": "code",
      "execution_count": null,
      "metadata": {
        "id": "rzoEbuZFTsnu"
      },
      "outputs": [],
      "source": [
        "# Making top 5 recommendations for user_id A1A5KUIIIHFF4U with similarity-based recommendation engine.\n",
        "recommendations = get_recommendations(df_final, \"A1A5KUIIIHFF4U\", 5, sim_item_item_optimized)"
      ]
    },
    {
      "cell_type": "code",
      "execution_count": null,
      "metadata": {
        "id": "_kXVTiysTsnv",
        "colab": {
          "base_uri": "https://localhost:8080/",
          "height": 223
        },
        "outputId": "87c20467-e592-4821-fb57-49a580c4e15b"
      },
      "outputs": [
        {
          "output_type": "execute_result",
          "data": {
            "text/plain": [
              "      prod_id  predicted_ratings\n",
              "0  1400532655           4.292024\n",
              "1  1400599997           4.292024\n",
              "2  9983891212           4.292024\n",
              "3  B00000DM9W           4.292024\n",
              "4  B00000J1V5           4.292024"
            ],
            "text/html": [
              "\n",
              "  <div id=\"df-0f0a1f54-5e0a-4d9f-9e1f-32a87dfb8a5b\" class=\"colab-df-container\">\n",
              "    <div>\n",
              "<style scoped>\n",
              "    .dataframe tbody tr th:only-of-type {\n",
              "        vertical-align: middle;\n",
              "    }\n",
              "\n",
              "    .dataframe tbody tr th {\n",
              "        vertical-align: top;\n",
              "    }\n",
              "\n",
              "    .dataframe thead th {\n",
              "        text-align: right;\n",
              "    }\n",
              "</style>\n",
              "<table border=\"1\" class=\"dataframe\">\n",
              "  <thead>\n",
              "    <tr style=\"text-align: right;\">\n",
              "      <th></th>\n",
              "      <th>prod_id</th>\n",
              "      <th>predicted_ratings</th>\n",
              "    </tr>\n",
              "  </thead>\n",
              "  <tbody>\n",
              "    <tr>\n",
              "      <th>0</th>\n",
              "      <td>1400532655</td>\n",
              "      <td>4.292024</td>\n",
              "    </tr>\n",
              "    <tr>\n",
              "      <th>1</th>\n",
              "      <td>1400599997</td>\n",
              "      <td>4.292024</td>\n",
              "    </tr>\n",
              "    <tr>\n",
              "      <th>2</th>\n",
              "      <td>9983891212</td>\n",
              "      <td>4.292024</td>\n",
              "    </tr>\n",
              "    <tr>\n",
              "      <th>3</th>\n",
              "      <td>B00000DM9W</td>\n",
              "      <td>4.292024</td>\n",
              "    </tr>\n",
              "    <tr>\n",
              "      <th>4</th>\n",
              "      <td>B00000J1V5</td>\n",
              "      <td>4.292024</td>\n",
              "    </tr>\n",
              "  </tbody>\n",
              "</table>\n",
              "</div>\n",
              "    <div class=\"colab-df-buttons\">\n",
              "\n",
              "  <div class=\"colab-df-container\">\n",
              "    <button class=\"colab-df-convert\" onclick=\"convertToInteractive('df-0f0a1f54-5e0a-4d9f-9e1f-32a87dfb8a5b')\"\n",
              "            title=\"Convert this dataframe to an interactive table.\"\n",
              "            style=\"display:none;\">\n",
              "\n",
              "  <svg xmlns=\"http://www.w3.org/2000/svg\" height=\"24px\" viewBox=\"0 -960 960 960\">\n",
              "    <path d=\"M120-120v-720h720v720H120Zm60-500h600v-160H180v160Zm220 220h160v-160H400v160Zm0 220h160v-160H400v160ZM180-400h160v-160H180v160Zm440 0h160v-160H620v160ZM180-180h160v-160H180v160Zm440 0h160v-160H620v160Z\"/>\n",
              "  </svg>\n",
              "    </button>\n",
              "\n",
              "  <style>\n",
              "    .colab-df-container {\n",
              "      display:flex;\n",
              "      gap: 12px;\n",
              "    }\n",
              "\n",
              "    .colab-df-convert {\n",
              "      background-color: #E8F0FE;\n",
              "      border: none;\n",
              "      border-radius: 50%;\n",
              "      cursor: pointer;\n",
              "      display: none;\n",
              "      fill: #1967D2;\n",
              "      height: 32px;\n",
              "      padding: 0 0 0 0;\n",
              "      width: 32px;\n",
              "    }\n",
              "\n",
              "    .colab-df-convert:hover {\n",
              "      background-color: #E2EBFA;\n",
              "      box-shadow: 0px 1px 2px rgba(60, 64, 67, 0.3), 0px 1px 3px 1px rgba(60, 64, 67, 0.15);\n",
              "      fill: #174EA6;\n",
              "    }\n",
              "\n",
              "    .colab-df-buttons div {\n",
              "      margin-bottom: 4px;\n",
              "    }\n",
              "\n",
              "    [theme=dark] .colab-df-convert {\n",
              "      background-color: #3B4455;\n",
              "      fill: #D2E3FC;\n",
              "    }\n",
              "\n",
              "    [theme=dark] .colab-df-convert:hover {\n",
              "      background-color: #434B5C;\n",
              "      box-shadow: 0px 1px 3px 1px rgba(0, 0, 0, 0.15);\n",
              "      filter: drop-shadow(0px 1px 2px rgba(0, 0, 0, 0.3));\n",
              "      fill: #FFFFFF;\n",
              "    }\n",
              "  </style>\n",
              "\n",
              "    <script>\n",
              "      const buttonEl =\n",
              "        document.querySelector('#df-0f0a1f54-5e0a-4d9f-9e1f-32a87dfb8a5b button.colab-df-convert');\n",
              "      buttonEl.style.display =\n",
              "        google.colab.kernel.accessAllowed ? 'block' : 'none';\n",
              "\n",
              "      async function convertToInteractive(key) {\n",
              "        const element = document.querySelector('#df-0f0a1f54-5e0a-4d9f-9e1f-32a87dfb8a5b');\n",
              "        const dataTable =\n",
              "          await google.colab.kernel.invokeFunction('convertToInteractive',\n",
              "                                                    [key], {});\n",
              "        if (!dataTable) return;\n",
              "\n",
              "        const docLinkHtml = 'Like what you see? Visit the ' +\n",
              "          '<a target=\"_blank\" href=https://colab.research.google.com/notebooks/data_table.ipynb>data table notebook</a>'\n",
              "          + ' to learn more about interactive tables.';\n",
              "        element.innerHTML = '';\n",
              "        dataTable['output_type'] = 'display_data';\n",
              "        await google.colab.output.renderOutput(dataTable, element);\n",
              "        const docLink = document.createElement('div');\n",
              "        docLink.innerHTML = docLinkHtml;\n",
              "        element.appendChild(docLink);\n",
              "      }\n",
              "    </script>\n",
              "  </div>\n",
              "\n",
              "\n",
              "<div id=\"df-e0395e79-6617-4df6-aaaa-feab68dec164\">\n",
              "  <button class=\"colab-df-quickchart\" onclick=\"quickchart('df-e0395e79-6617-4df6-aaaa-feab68dec164')\"\n",
              "            title=\"Suggest charts\"\n",
              "            style=\"display:none;\">\n",
              "\n",
              "<svg xmlns=\"http://www.w3.org/2000/svg\" height=\"24px\"viewBox=\"0 0 24 24\"\n",
              "     width=\"24px\">\n",
              "    <g>\n",
              "        <path d=\"M19 3H5c-1.1 0-2 .9-2 2v14c0 1.1.9 2 2 2h14c1.1 0 2-.9 2-2V5c0-1.1-.9-2-2-2zM9 17H7v-7h2v7zm4 0h-2V7h2v10zm4 0h-2v-4h2v4z\"/>\n",
              "    </g>\n",
              "</svg>\n",
              "  </button>\n",
              "\n",
              "<style>\n",
              "  .colab-df-quickchart {\n",
              "      --bg-color: #E8F0FE;\n",
              "      --fill-color: #1967D2;\n",
              "      --hover-bg-color: #E2EBFA;\n",
              "      --hover-fill-color: #174EA6;\n",
              "      --disabled-fill-color: #AAA;\n",
              "      --disabled-bg-color: #DDD;\n",
              "  }\n",
              "\n",
              "  [theme=dark] .colab-df-quickchart {\n",
              "      --bg-color: #3B4455;\n",
              "      --fill-color: #D2E3FC;\n",
              "      --hover-bg-color: #434B5C;\n",
              "      --hover-fill-color: #FFFFFF;\n",
              "      --disabled-bg-color: #3B4455;\n",
              "      --disabled-fill-color: #666;\n",
              "  }\n",
              "\n",
              "  .colab-df-quickchart {\n",
              "    background-color: var(--bg-color);\n",
              "    border: none;\n",
              "    border-radius: 50%;\n",
              "    cursor: pointer;\n",
              "    display: none;\n",
              "    fill: var(--fill-color);\n",
              "    height: 32px;\n",
              "    padding: 0;\n",
              "    width: 32px;\n",
              "  }\n",
              "\n",
              "  .colab-df-quickchart:hover {\n",
              "    background-color: var(--hover-bg-color);\n",
              "    box-shadow: 0 1px 2px rgba(60, 64, 67, 0.3), 0 1px 3px 1px rgba(60, 64, 67, 0.15);\n",
              "    fill: var(--button-hover-fill-color);\n",
              "  }\n",
              "\n",
              "  .colab-df-quickchart-complete:disabled,\n",
              "  .colab-df-quickchart-complete:disabled:hover {\n",
              "    background-color: var(--disabled-bg-color);\n",
              "    fill: var(--disabled-fill-color);\n",
              "    box-shadow: none;\n",
              "  }\n",
              "\n",
              "  .colab-df-spinner {\n",
              "    border: 2px solid var(--fill-color);\n",
              "    border-color: transparent;\n",
              "    border-bottom-color: var(--fill-color);\n",
              "    animation:\n",
              "      spin 1s steps(1) infinite;\n",
              "  }\n",
              "\n",
              "  @keyframes spin {\n",
              "    0% {\n",
              "      border-color: transparent;\n",
              "      border-bottom-color: var(--fill-color);\n",
              "      border-left-color: var(--fill-color);\n",
              "    }\n",
              "    20% {\n",
              "      border-color: transparent;\n",
              "      border-left-color: var(--fill-color);\n",
              "      border-top-color: var(--fill-color);\n",
              "    }\n",
              "    30% {\n",
              "      border-color: transparent;\n",
              "      border-left-color: var(--fill-color);\n",
              "      border-top-color: var(--fill-color);\n",
              "      border-right-color: var(--fill-color);\n",
              "    }\n",
              "    40% {\n",
              "      border-color: transparent;\n",
              "      border-right-color: var(--fill-color);\n",
              "      border-top-color: var(--fill-color);\n",
              "    }\n",
              "    60% {\n",
              "      border-color: transparent;\n",
              "      border-right-color: var(--fill-color);\n",
              "    }\n",
              "    80% {\n",
              "      border-color: transparent;\n",
              "      border-right-color: var(--fill-color);\n",
              "      border-bottom-color: var(--fill-color);\n",
              "    }\n",
              "    90% {\n",
              "      border-color: transparent;\n",
              "      border-bottom-color: var(--fill-color);\n",
              "    }\n",
              "  }\n",
              "</style>\n",
              "\n",
              "  <script>\n",
              "    async function quickchart(key) {\n",
              "      const quickchartButtonEl =\n",
              "        document.querySelector('#' + key + ' button');\n",
              "      quickchartButtonEl.disabled = true;  // To prevent multiple clicks.\n",
              "      quickchartButtonEl.classList.add('colab-df-spinner');\n",
              "      try {\n",
              "        const charts = await google.colab.kernel.invokeFunction(\n",
              "            'suggestCharts', [key], {});\n",
              "      } catch (error) {\n",
              "        console.error('Error during call to suggestCharts:', error);\n",
              "      }\n",
              "      quickchartButtonEl.classList.remove('colab-df-spinner');\n",
              "      quickchartButtonEl.classList.add('colab-df-quickchart-complete');\n",
              "    }\n",
              "    (() => {\n",
              "      let quickchartButtonEl =\n",
              "        document.querySelector('#df-e0395e79-6617-4df6-aaaa-feab68dec164 button');\n",
              "      quickchartButtonEl.style.display =\n",
              "        google.colab.kernel.accessAllowed ? 'block' : 'none';\n",
              "    })();\n",
              "  </script>\n",
              "</div>\n",
              "\n",
              "    </div>\n",
              "  </div>\n"
            ],
            "application/vnd.google.colaboratory.intrinsic+json": {
              "type": "dataframe",
              "summary": "{\n  \"name\": \"pd\",\n  \"rows\": 5,\n  \"fields\": [\n    {\n      \"column\": \"prod_id\",\n      \"properties\": {\n        \"dtype\": \"string\",\n        \"num_unique_values\": 5,\n        \"samples\": [\n          \"1400599997\",\n          \"B00000J1V5\",\n          \"9983891212\"\n        ],\n        \"semantic_type\": \"\",\n        \"description\": \"\"\n      }\n    },\n    {\n      \"column\": \"predicted_ratings\",\n      \"properties\": {\n        \"dtype\": \"number\",\n        \"std\": 0.0,\n        \"min\": 4.292024046561495,\n        \"max\": 4.292024046561495,\n        \"num_unique_values\": 1,\n        \"samples\": [\n          4.292024046561495\n        ],\n        \"semantic_type\": \"\",\n        \"description\": \"\"\n      }\n    }\n  ]\n}"
            }
          },
          "metadata": {},
          "execution_count": 252
        }
      ],
      "source": [
        "# Building the dataframe for above recommendations with columns \"prod_id\" and \"predicted_ratings\"\n",
        "pd.DataFrame(recommendations, columns = ['prod_id', 'predicted_ratings'])"
      ]
    },
    {
      "cell_type": "markdown",
      "metadata": {
        "id": "DHzmYvs0Tsnv"
      },
      "source": [
        "Now as we have seen **similarity-based collaborative filtering algorithms**, let us now get into **model-based collaborative filtering algorithms**."
      ]
    },
    {
      "cell_type": "markdown",
      "metadata": {
        "id": "rKgJpSA9vOOL"
      },
      "source": [
        "### **Model 3: Model-Based Collaborative Filtering - Matrix Factorization**"
      ]
    },
    {
      "cell_type": "markdown",
      "metadata": {
        "id": "YF6ZGyqhCAob"
      },
      "source": [
        "Model-based Collaborative Filtering is a **personalized recommendation system**, the recommendations are based on the past behavior of the user and it is not dependent on any additional information. We use **latent features** to find recommendations for each user."
      ]
    },
    {
      "cell_type": "markdown",
      "metadata": {
        "id": "n4Otha8ovOOL"
      },
      "source": [
        "### Singular Value Decomposition (SVD)"
      ]
    },
    {
      "cell_type": "markdown",
      "metadata": {
        "id": "3sGl3QkLvOOL"
      },
      "source": [
        "SVD is used to **compute the latent features** from the **user-item matrix**. But SVD does not work when we **miss values** in the **user-item matrix**."
      ]
    },
    {
      "cell_type": "code",
      "execution_count": null,
      "metadata": {
        "id": "07-2PT5Ssjqm",
        "colab": {
          "base_uri": "https://localhost:8080/"
        },
        "outputId": "54964d43-db87-4b83-e37a-f1f603140af8"
      },
      "outputs": [
        {
          "output_type": "stream",
          "name": "stdout",
          "text": [
            "RMSE: 0.8882\n",
            "Precision:  0.853\n",
            "Recall:  0.88\n",
            "F_1 score:  0.866\n"
          ]
        }
      ],
      "source": [
        "# Using SVD matrix factorization. Use random_state = 1\n",
        "svd = SVD(random_state = 1)\n",
        "# Training the algorithm on the trainset\n",
        "svd.fit(trainset)\n",
        "# Use the function precision_recall_at_k to compute precision@k, recall@k, F1-Score, and RMSE\n",
        "precision_recall_at_k(svd)"
      ]
    },
    {
      "cell_type": "markdown",
      "metadata": {
        "id": "BQ6fTuCDnVNL"
      },
      "source": [
        "**Write your observations here:**\n",
        "* We calculate the RMSE value to check how far is the actual rating from the predicted rating.\n",
        "* The prediction is 0.853 which means, that out of the overall recommended products 0.853 were relevant to the user.\n",
        "* The recall is 0.88 which means, that throughout all the relevent products, only 0.88 are recommended to the user.\n",
        "* The F1 score is 0.866 which shows that most of the recommended products are relevant and relevant products were ultimately recommended to the user."
      ]
    },
    {
      "cell_type": "markdown",
      "metadata": {
        "id": "QdqkyNR-TsIS"
      },
      "source": [
        "**Let's now predict the rating for a user with `userId = \"A3LDPF5FMB782Z\"` and `prod_id = \"1400501466`.**"
      ]
    },
    {
      "cell_type": "code",
      "execution_count": null,
      "metadata": {
        "id": "yWIhfdxXsjqm",
        "colab": {
          "base_uri": "https://localhost:8080/"
        },
        "outputId": "e0f470a4-8287-4262-9ea8-0c6ad1b3a457"
      },
      "outputs": [
        {
          "output_type": "stream",
          "name": "stdout",
          "text": [
            "user: A3LDPF5FMB782Z item: 1400501466 r_ui = 5.00   est = 4.08   {'was_impossible': False}\n"
          ]
        },
        {
          "output_type": "execute_result",
          "data": {
            "text/plain": [
              "Prediction(uid='A3LDPF5FMB782Z', iid='1400501466', r_ui=5, est=4.081406749810685, details={'was_impossible': False})"
            ]
          },
          "metadata": {},
          "execution_count": 254
        }
      ],
      "source": [
        "# Making prediction\n",
        "svd.predict(\"A3LDPF5FMB782Z\", \"1400501466\", r_ui = 5, verbose = True)"
      ]
    },
    {
      "cell_type": "markdown",
      "metadata": {
        "id": "oIjzqDY5nVNM"
      },
      "source": [
        "**Write your observations here:**\n",
        "* As absorved above, the actual rating for this user-item pair is 5 and the predicted rating is 4.08 which is close to it, however, it seems like we have under-estimated the rating. We will try to fix this later by tuning the hyperparameters of the model using GridSearchCV."
      ]
    },
    {
      "cell_type": "markdown",
      "metadata": {
        "id": "I1aYxVeMnVNM"
      },
      "source": [
        "**Below we are predicting rating for the `userId = \"A34BZM6S9L7QI4\"` and `productId = \"1400501466\"`.**"
      ]
    },
    {
      "cell_type": "code",
      "execution_count": null,
      "metadata": {
        "id": "APm-uMSvcAMf",
        "colab": {
          "base_uri": "https://localhost:8080/"
        },
        "outputId": "a7df8489-a67b-435c-da73-7ec8405a2652"
      },
      "outputs": [
        {
          "output_type": "stream",
          "name": "stdout",
          "text": [
            "user: A34BZM6S9L7QI4 item: 1400501466 r_ui = 5.00   est = 4.40   {'was_impossible': False}\n"
          ]
        },
        {
          "output_type": "execute_result",
          "data": {
            "text/plain": [
              "Prediction(uid='A34BZM6S9L7QI4', iid='1400501466', r_ui=5, est=4.40037568046934, details={'was_impossible': False})"
            ]
          },
          "metadata": {},
          "execution_count": 255
        }
      ],
      "source": [
        "# Making prediction\n",
        "svd.predict(\"A34BZM6S9L7QI4\", \"1400501466\", r_ui = 5, verbose = True)"
      ]
    },
    {
      "cell_type": "markdown",
      "metadata": {
        "id": "NEL6dy3wnVNM"
      },
      "source": [
        "**Write your observations here:**\n",
        "* As absorved above, the actual rating for this user-item pair is 5 and the predicted rating is 4.40 which is close to it, however, it seems like we have under-estimated the rating. We will try to fix this later by tuning the hyperparameters of the model using GridSearchCV."
      ]
    },
    {
      "cell_type": "markdown",
      "metadata": {
        "id": "x13Eb9Owvpcw"
      },
      "source": [
        "### **Improving Matrix Factorization based recommendation system by tuning its hyperparameters**"
      ]
    },
    {
      "cell_type": "markdown",
      "metadata": {
        "id": "iQcDPhhcnVNN"
      },
      "source": [
        "Below we will be tuning only three hyperparameters:\n",
        "- **n_epochs**: The number of iterations of the SGD algorithm.\n",
        "- **lr_all**: The learning rate for all parameters.\n",
        "- **reg_all**: The regularization term for all parameters."
      ]
    },
    {
      "cell_type": "code",
      "execution_count": null,
      "metadata": {
        "id": "4bM81V_hvtwv",
        "colab": {
          "base_uri": "https://localhost:8080/"
        },
        "outputId": "7e9fd50a-00e3-4915-82e3-b7ae19f7ad33"
      },
      "outputs": [
        {
          "output_type": "stream",
          "name": "stdout",
          "text": [
            "0.8988386549680424\n",
            "{'n_epochs': 20, 'lr_all': 0.01, 'reg_all': 0.2}\n"
          ]
        }
      ],
      "source": [
        "# Set the parameter space to tune\n",
        "param_grid = {'n_epochs': [10, 20, 30], 'lr_all': [0.001, 0.005, 0.01],\n",
        "              'reg_all': [0.2, 0.4, 0.6]}\n",
        "# Performing 3-fold gridsearch cross-validation\n",
        "gs = GridSearchCV(SVD, param_grid, measures = ['rmse'], cv = 3, n_jobs = -1)\n",
        "# Fitting data\n",
        "gs.fit(data)\n",
        "# Best RMSE score\n",
        "print(gs.best_score['rmse'])\n",
        "# Combination of parameters that gave the best RMSE score\n",
        "print(gs.best_params['rmse'])"
      ]
    },
    {
      "cell_type": "markdown",
      "metadata": {
        "id": "KzY78HsrnVNO"
      },
      "source": [
        "Now, we will **the build final model** by using **tuned values** of the hyperparameters, which we received using grid search cross-validation above."
      ]
    },
    {
      "cell_type": "code",
      "execution_count": null,
      "metadata": {
        "id": "TA_7xe-nnhuu",
        "colab": {
          "base_uri": "https://localhost:8080/"
        },
        "outputId": "a371cfff-7476-4ac4-b7a1-635187b52283"
      },
      "outputs": [
        {
          "output_type": "stream",
          "name": "stdout",
          "text": [
            "RMSE: 0.8808\n",
            "Precision:  0.854\n",
            "Recall:  0.878\n",
            "F_1 score:  0.866\n"
          ]
        }
      ],
      "source": [
        "# Build the optimized SVD model using optimal hyperparameter search. Use random_state=1\n",
        "svd_algo_optimized = SVD(n_epochs = 20, lr_all = 0.01, reg_all = 0.2, random_state = 1)\n",
        "\n",
        "# Train the algorithm on the trainset\n",
        "svd_algo_optimized = svd_algo_optimized.fit(trainset)\n",
        "\n",
        "# Use the function precision_recall_at_k to compute precision@k, recall@k, F1-Score, and RMSE\n",
        "precision_recall_at_k(svd_algo_optimized)"
      ]
    },
    {
      "cell_type": "markdown",
      "metadata": {
        "id": "9HJvPsjITsny"
      },
      "source": [
        "**Write your observations here:**\n",
        "* We can see from above that the tuned model is showing a similar F_1 score. However, the RMSE has gone down. Hence the tuned model is doing better than the earlier model."
      ]
    },
    {
      "cell_type": "markdown",
      "metadata": {
        "id": "bQjb6PXfTsIT"
      },
      "source": [
        "### **Steps:**\n",
        "- **Predict rating for the user with `userId=\"A3LDPF5FMB782Z\"`, and `prod_id= \"1400501466\"` using the optimized model**\n",
        "- **Predict rating for `userId=\"A34BZM6S9L7QI4\"` who has not interacted with `prod_id =\"1400501466\"`, by using the optimized model**\n",
        "- **Compare the output with the output from the baseline model**"
      ]
    },
    {
      "cell_type": "code",
      "execution_count": null,
      "metadata": {
        "id": "aYnAxxrATsIT",
        "colab": {
          "base_uri": "https://localhost:8080/"
        },
        "outputId": "94560a74-a885-450d-a64d-9ab781c5304b"
      },
      "outputs": [
        {
          "output_type": "stream",
          "name": "stdout",
          "text": [
            "user: A3LDPF5FMB782Z item: 1400501466 r_ui = 5.00   est = 4.24   {'was_impossible': False}\n"
          ]
        },
        {
          "output_type": "execute_result",
          "data": {
            "text/plain": [
              "Prediction(uid='A3LDPF5FMB782Z', iid='1400501466', r_ui=5, est=4.238900563954771, details={'was_impossible': False})"
            ]
          },
          "metadata": {},
          "execution_count": 258
        }
      ],
      "source": [
        "# Use svd_algo_optimized model to recommend for userId \"A3LDPF5FMB782Z\" and productId \"1400501466\"\n",
        "svd_algo_optimized.predict(\"A3LDPF5FMB782Z\", \"1400501466\", r_ui = 5, verbose = True)"
      ]
    },
    {
      "cell_type": "code",
      "execution_count": null,
      "metadata": {
        "id": "AdnNalKJTsIT",
        "colab": {
          "base_uri": "https://localhost:8080/"
        },
        "outputId": "352ffa2e-667a-4a7a-b2fd-ee99156102b3"
      },
      "outputs": [
        {
          "output_type": "stream",
          "name": "stdout",
          "text": [
            "user: A34BZM6S9L7QI4 item: 1400501466 r_ui = 5.00   est = 4.20   {'was_impossible': False}\n"
          ]
        },
        {
          "output_type": "execute_result",
          "data": {
            "text/plain": [
              "Prediction(uid='A34BZM6S9L7QI4', iid='1400501466', r_ui=5, est=4.204418940307481, details={'was_impossible': False})"
            ]
          },
          "metadata": {},
          "execution_count": 259
        }
      ],
      "source": [
        "# Use svd_algo_optimized model to recommend for userId \"A34BZM6S9L7QI4\" and productId \"1400501466\"\n",
        "svd_algo_optimized.predict(\"A34BZM6S9L7QI4\", \"1400501466\", r_ui = 5, verbose = True)"
      ]
    },
    {
      "cell_type": "markdown",
      "metadata": {
        "id": "nnwPwgjB8DwS"
      },
      "source": [
        "### **Conclusion and Recommendations**"
      ]
    },
    {
      "cell_type": "markdown",
      "metadata": {
        "id": "xuqnifw9NF2p"
      },
      "source": [
        "**Write your conclusion and recommendations here**\n",
        "* In this case study, we developed and evaluated recommendation systems using four distinct algorithms:\n",
        "* Rank-based using averages\n",
        "* User-user-similarity-based collaborative filtering\n",
        "* Item-item-similarity-based collaborative filtering\n",
        "* Model-based (matrix factorization) collaborative filtering\n",
        "\n",
        "* Each of these approaches offered unique insights into the data, showcasing how different types of recommendation systems can be constructed and tailored to specific needs. We demonstrated the use of the Surprise library to implement user-user and item-item similarity-based collaborative filtering, as well as model-based collaborative filtering.\n",
        "\n",
        "* To optimize these algorithms, we applied grid search cross-validation to identify the most effective model configurations, ensuring that the final predictions were as accurate as possible. For evaluating the performance of these models, we introduced precision@k and recall@k metrics, which were further synthesized into the F1 score for each model.\n",
        "\n",
        "* The results highlighted the strengths and weaknesses of each approach, providing a comprehensive understanding of how various recommendation systems can be leveraged to improve user experience and deliver more personalized recommendations. By combining these techniques, we can potentially enhance the overall effectiveness of the recommendation engine, achieving a balance between precision and recall that best serves the intended application.\n",
        "* After building various models, in my opinion Optimized (by tuning hyperparameters) Model-Based Collaborative Filtering - Matrix Factorization can be a suitable recommendation system model for this dataset.\n",
        "* This is due to various reasons including:\n",
        "1. The RMSE value is the lowest as compared to the other models (i.e. 0.8814)\n",
        "2. The overall F1 score is slightly higher than the other models (i.e. 0.863)   \n",
        "**Why Matrix Factorization Stands Out:**\n",
        "\n",
        "***Latent Factor Analysis:** Matrix factorization excels at uncovering latent factors that influence user preferences, which are not directly observable but can be inferred from the data. This ability allows the model to make more nuanced recommendations that better align with individual user tastes.\n",
        "\n",
        "***Scalability:** This model is highly scalable, making it well-suited for large datasets like the one used in this case study. It can efficiently handle a large number of users and items, which is essential for a practical recommendation system.\n",
        "\n",
        "***Robustness to Sparsity:** Collaborative filtering models, especially matrix factorization, are known for their robustness in dealing with sparse datasets—common in recommendation systems where users have rated only a small subset of available items. The model effectively fills in the gaps by leveraging patterns in the data, leading to more reliable predictions.\n",
        "\n",
        "***Hyperparameter Optimization:** The model's performance was further enhanced by tuning its hyperparameters through grid search cross-validation. This optimization process ensured that the model was operating at its best, contributing to its superior performance in terms of both RMSE and F1 score.\n",
        "\n",
        "**Based on the data and model performance, here are key recommendations to improve business outcomes:**\n",
        "\n",
        "* Implement Optimized Matrix Factorization: Leverage the best-performing recommendation model for more accurate and personalized product suggestions, increasing customer satisfaction and sales.\n",
        "* Enhance Data Collection: Gather more detailed user interaction data to improve personalization and the model's predictive accuracy, leading to higher conversion rates.\n",
        "* Personalize Marketing Campaigns: Use recommendation insights to tailor marketing efforts, boosting engagement and driving higher conversions.\n",
        "* Optimize Inventory Management: Align product inventory with model predictions to prevent stockouts of popular items, improving customer satisfaction and sales.\n",
        "* Continuously Monitor and Refine: Regularly update and refine the recommendation system to adapt to changing user preferences, ensuring ongoing effectiveness.\n",
        "* Incorporate User Feedback: Use customer feedback on recommendations to further refine the system, enhancing user experience and increasing conversions.\n"
      ]
    },
    {
      "cell_type": "code",
      "source": [
        "!jupyter nbconvert --to html /content/drive/MyDrive/MIT/Recommendation_System/Recommendation_Systems_Learner_Notebook_Full_Code.ipynb"
      ],
      "metadata": {
        "colab": {
          "base_uri": "https://localhost:8080/"
        },
        "id": "M1CSZYwGdDPz",
        "outputId": "cd95e437-0e1f-4478-e604-091f41a2915a"
      },
      "execution_count": null,
      "outputs": [
        {
          "output_type": "stream",
          "name": "stdout",
          "text": [
            "[NbConvertApp] Converting notebook /content/drive/MyDrive/MIT/Recommendation_System/Recommendation_Systems_Learner_Notebook_Full_Code.ipynb to html\n",
            "[NbConvertApp] Writing 859859 bytes to /content/drive/MyDrive/MIT/Recommendation_System/Recommendation_Systems_Learner_Notebook_Full_Code.html\n"
          ]
        }
      ]
    }
  ],
  "metadata": {
    "colab": {
      "provenance": [],
      "include_colab_link": true
    },
    "kernelspec": {
      "display_name": "Python 3 (ipykernel)",
      "language": "python",
      "name": "python3"
    },
    "language_info": {
      "codemirror_mode": {
        "name": "ipython",
        "version": 3
      },
      "file_extension": ".py",
      "mimetype": "text/x-python",
      "name": "python",
      "nbconvert_exporter": "python",
      "pygments_lexer": "ipython3",
      "version": "3.9.7"
    }
  },
  "nbformat": 4,
  "nbformat_minor": 0
}